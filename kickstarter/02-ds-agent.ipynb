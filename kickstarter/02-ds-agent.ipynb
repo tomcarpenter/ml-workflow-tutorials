{
 "cells": [
  {
   "cell_type": "markdown",
   "id": "84f45aa2",
   "metadata": {},
   "source": [
    "# Data Science Agent"
   ]
  },
  {
   "cell_type": "code",
   "execution_count": 10,
   "id": "57e128f0",
   "metadata": {},
   "outputs": [
    {
     "name": "stdout",
     "output_type": "stream",
     "text": [
      "Requirement already satisfied: openai-agents in /Users/thomascarpenter/anaconda3/envs/agent-test/lib/python3.13/site-packages (0.1.0)\n",
      "Requirement already satisfied: langchain in /Users/thomascarpenter/anaconda3/envs/agent-test/lib/python3.13/site-packages (0.3.26)\n",
      "Requirement already satisfied: langchain_openai in /Users/thomascarpenter/anaconda3/envs/agent-test/lib/python3.13/site-packages (0.3.27)\n",
      "Requirement already satisfied: pandas in /Users/thomascarpenter/anaconda3/envs/agent-test/lib/python3.13/site-packages (2.3.1)\n",
      "Requirement already satisfied: langchain_experimental in /Users/thomascarpenter/anaconda3/envs/agent-test/lib/python3.13/site-packages (0.3.4)\n",
      "Requirement already satisfied: kaggle in /Users/thomascarpenter/anaconda3/envs/agent-test/lib/python3.13/site-packages (1.7.4.5)\n",
      "Requirement already satisfied: griffe<2,>=1.5.6 in /Users/thomascarpenter/anaconda3/envs/agent-test/lib/python3.13/site-packages (from openai-agents) (1.7.3)\n",
      "Requirement already satisfied: mcp<2,>=1.9.4 in /Users/thomascarpenter/anaconda3/envs/agent-test/lib/python3.13/site-packages (from openai-agents) (1.10.1)\n",
      "Requirement already satisfied: openai>=1.87.0 in /Users/thomascarpenter/anaconda3/envs/agent-test/lib/python3.13/site-packages (from openai-agents) (1.93.3)\n",
      "Requirement already satisfied: pydantic<3,>=2.10 in /Users/thomascarpenter/anaconda3/envs/agent-test/lib/python3.13/site-packages (from openai-agents) (2.11.7)\n",
      "Requirement already satisfied: requests<3,>=2.0 in /Users/thomascarpenter/anaconda3/envs/agent-test/lib/python3.13/site-packages (from openai-agents) (2.32.4)\n",
      "Requirement already satisfied: types-requests<3,>=2.0 in /Users/thomascarpenter/anaconda3/envs/agent-test/lib/python3.13/site-packages (from openai-agents) (2.32.4.20250611)\n",
      "Requirement already satisfied: typing-extensions<5,>=4.12.2 in /Users/thomascarpenter/anaconda3/envs/agent-test/lib/python3.13/site-packages (from openai-agents) (4.14.1)\n",
      "Requirement already satisfied: colorama>=0.4 in /Users/thomascarpenter/anaconda3/envs/agent-test/lib/python3.13/site-packages (from griffe<2,>=1.5.6->openai-agents) (0.4.6)\n",
      "Requirement already satisfied: anyio>=4.5 in /Users/thomascarpenter/anaconda3/envs/agent-test/lib/python3.13/site-packages (from mcp<2,>=1.9.4->openai-agents) (4.9.0)\n",
      "Requirement already satisfied: httpx-sse>=0.4 in /Users/thomascarpenter/anaconda3/envs/agent-test/lib/python3.13/site-packages (from mcp<2,>=1.9.4->openai-agents) (0.4.1)\n",
      "Requirement already satisfied: httpx>=0.27 in /Users/thomascarpenter/anaconda3/envs/agent-test/lib/python3.13/site-packages (from mcp<2,>=1.9.4->openai-agents) (0.28.1)\n",
      "Requirement already satisfied: jsonschema>=4.20.0 in /Users/thomascarpenter/anaconda3/envs/agent-test/lib/python3.13/site-packages (from mcp<2,>=1.9.4->openai-agents) (4.24.0)\n",
      "Requirement already satisfied: pydantic-settings>=2.5.2 in /Users/thomascarpenter/anaconda3/envs/agent-test/lib/python3.13/site-packages (from mcp<2,>=1.9.4->openai-agents) (2.10.1)\n",
      "Requirement already satisfied: python-multipart>=0.0.9 in /Users/thomascarpenter/anaconda3/envs/agent-test/lib/python3.13/site-packages (from mcp<2,>=1.9.4->openai-agents) (0.0.20)\n",
      "Requirement already satisfied: sse-starlette>=1.6.1 in /Users/thomascarpenter/anaconda3/envs/agent-test/lib/python3.13/site-packages (from mcp<2,>=1.9.4->openai-agents) (2.4.1)\n",
      "Requirement already satisfied: starlette>=0.27 in /Users/thomascarpenter/anaconda3/envs/agent-test/lib/python3.13/site-packages (from mcp<2,>=1.9.4->openai-agents) (0.47.1)\n",
      "Requirement already satisfied: uvicorn>=0.23.1 in /Users/thomascarpenter/anaconda3/envs/agent-test/lib/python3.13/site-packages (from mcp<2,>=1.9.4->openai-agents) (0.35.0)\n",
      "Requirement already satisfied: annotated-types>=0.6.0 in /Users/thomascarpenter/anaconda3/envs/agent-test/lib/python3.13/site-packages (from pydantic<3,>=2.10->openai-agents) (0.7.0)\n",
      "Requirement already satisfied: pydantic-core==2.33.2 in /Users/thomascarpenter/anaconda3/envs/agent-test/lib/python3.13/site-packages (from pydantic<3,>=2.10->openai-agents) (2.33.2)\n",
      "Requirement already satisfied: typing-inspection>=0.4.0 in /Users/thomascarpenter/anaconda3/envs/agent-test/lib/python3.13/site-packages (from pydantic<3,>=2.10->openai-agents) (0.4.1)\n",
      "Requirement already satisfied: charset_normalizer<4,>=2 in /Users/thomascarpenter/anaconda3/envs/agent-test/lib/python3.13/site-packages (from requests<3,>=2.0->openai-agents) (3.4.2)\n",
      "Requirement already satisfied: idna<4,>=2.5 in /Users/thomascarpenter/anaconda3/envs/agent-test/lib/python3.13/site-packages (from requests<3,>=2.0->openai-agents) (3.10)\n",
      "Requirement already satisfied: urllib3<3,>=1.21.1 in /Users/thomascarpenter/anaconda3/envs/agent-test/lib/python3.13/site-packages (from requests<3,>=2.0->openai-agents) (2.5.0)\n",
      "Requirement already satisfied: certifi>=2017.4.17 in /Users/thomascarpenter/anaconda3/envs/agent-test/lib/python3.13/site-packages (from requests<3,>=2.0->openai-agents) (2025.7.9)\n",
      "Requirement already satisfied: langchain-core<1.0.0,>=0.3.66 in /Users/thomascarpenter/anaconda3/envs/agent-test/lib/python3.13/site-packages (from langchain) (0.3.68)\n",
      "Requirement already satisfied: langchain-text-splitters<1.0.0,>=0.3.8 in /Users/thomascarpenter/anaconda3/envs/agent-test/lib/python3.13/site-packages (from langchain) (0.3.8)\n",
      "Requirement already satisfied: langsmith>=0.1.17 in /Users/thomascarpenter/anaconda3/envs/agent-test/lib/python3.13/site-packages (from langchain) (0.4.4)\n",
      "Requirement already satisfied: SQLAlchemy<3,>=1.4 in /Users/thomascarpenter/anaconda3/envs/agent-test/lib/python3.13/site-packages (from langchain) (2.0.41)\n",
      "Requirement already satisfied: PyYAML>=5.3 in /Users/thomascarpenter/anaconda3/envs/agent-test/lib/python3.13/site-packages (from langchain) (6.0.2)\n",
      "Requirement already satisfied: tenacity!=8.4.0,<10.0.0,>=8.1.0 in /Users/thomascarpenter/anaconda3/envs/agent-test/lib/python3.13/site-packages (from langchain-core<1.0.0,>=0.3.66->langchain) (9.1.2)\n",
      "Requirement already satisfied: jsonpatch<2.0,>=1.33 in /Users/thomascarpenter/anaconda3/envs/agent-test/lib/python3.13/site-packages (from langchain-core<1.0.0,>=0.3.66->langchain) (1.33)\n",
      "Requirement already satisfied: packaging<25,>=23.2 in /Users/thomascarpenter/anaconda3/envs/agent-test/lib/python3.13/site-packages (from langchain-core<1.0.0,>=0.3.66->langchain) (24.2)\n",
      "Requirement already satisfied: jsonpointer>=1.9 in /Users/thomascarpenter/anaconda3/envs/agent-test/lib/python3.13/site-packages (from jsonpatch<2.0,>=1.33->langchain-core<1.0.0,>=0.3.66->langchain) (3.0.0)\n",
      "Requirement already satisfied: greenlet>=1 in /Users/thomascarpenter/anaconda3/envs/agent-test/lib/python3.13/site-packages (from SQLAlchemy<3,>=1.4->langchain) (3.2.3)\n",
      "Requirement already satisfied: tiktoken<1,>=0.7 in /Users/thomascarpenter/anaconda3/envs/agent-test/lib/python3.13/site-packages (from langchain_openai) (0.9.0)\n",
      "Requirement already satisfied: distro<2,>=1.7.0 in /Users/thomascarpenter/anaconda3/envs/agent-test/lib/python3.13/site-packages (from openai>=1.87.0->openai-agents) (1.9.0)\n",
      "Requirement already satisfied: jiter<1,>=0.4.0 in /Users/thomascarpenter/anaconda3/envs/agent-test/lib/python3.13/site-packages (from openai>=1.87.0->openai-agents) (0.10.0)\n",
      "Requirement already satisfied: sniffio in /Users/thomascarpenter/anaconda3/envs/agent-test/lib/python3.13/site-packages (from openai>=1.87.0->openai-agents) (1.3.1)\n",
      "Requirement already satisfied: tqdm>4 in /Users/thomascarpenter/anaconda3/envs/agent-test/lib/python3.13/site-packages (from openai>=1.87.0->openai-agents) (4.67.1)\n",
      "Requirement already satisfied: httpcore==1.* in /Users/thomascarpenter/anaconda3/envs/agent-test/lib/python3.13/site-packages (from httpx>=0.27->mcp<2,>=1.9.4->openai-agents) (1.0.9)\n",
      "Requirement already satisfied: h11>=0.16 in /Users/thomascarpenter/anaconda3/envs/agent-test/lib/python3.13/site-packages (from httpcore==1.*->httpx>=0.27->mcp<2,>=1.9.4->openai-agents) (0.16.0)\n",
      "Requirement already satisfied: regex>=2022.1.18 in /Users/thomascarpenter/anaconda3/envs/agent-test/lib/python3.13/site-packages (from tiktoken<1,>=0.7->langchain_openai) (2024.11.6)\n",
      "Requirement already satisfied: numpy>=1.26.0 in /Users/thomascarpenter/anaconda3/envs/agent-test/lib/python3.13/site-packages (from pandas) (2.3.1)\n",
      "Requirement already satisfied: python-dateutil>=2.8.2 in /Users/thomascarpenter/anaconda3/envs/agent-test/lib/python3.13/site-packages (from pandas) (2.9.0.post0)\n",
      "Requirement already satisfied: pytz>=2020.1 in /Users/thomascarpenter/anaconda3/envs/agent-test/lib/python3.13/site-packages (from pandas) (2025.2)\n",
      "Requirement already satisfied: tzdata>=2022.7 in /Users/thomascarpenter/anaconda3/envs/agent-test/lib/python3.13/site-packages (from pandas) (2025.2)\n",
      "Requirement already satisfied: langchain-community<0.4.0,>=0.3.0 in /Users/thomascarpenter/anaconda3/envs/agent-test/lib/python3.13/site-packages (from langchain_experimental) (0.3.27)\n",
      "Requirement already satisfied: aiohttp<4.0.0,>=3.8.3 in /Users/thomascarpenter/anaconda3/envs/agent-test/lib/python3.13/site-packages (from langchain-community<0.4.0,>=0.3.0->langchain_experimental) (3.12.13)\n",
      "Requirement already satisfied: dataclasses-json<0.7,>=0.5.7 in /Users/thomascarpenter/anaconda3/envs/agent-test/lib/python3.13/site-packages (from langchain-community<0.4.0,>=0.3.0->langchain_experimental) (0.6.7)\n",
      "Requirement already satisfied: aiohappyeyeballs>=2.5.0 in /Users/thomascarpenter/anaconda3/envs/agent-test/lib/python3.13/site-packages (from aiohttp<4.0.0,>=3.8.3->langchain-community<0.4.0,>=0.3.0->langchain_experimental) (2.6.1)\n",
      "Requirement already satisfied: aiosignal>=1.1.2 in /Users/thomascarpenter/anaconda3/envs/agent-test/lib/python3.13/site-packages (from aiohttp<4.0.0,>=3.8.3->langchain-community<0.4.0,>=0.3.0->langchain_experimental) (1.4.0)\n",
      "Requirement already satisfied: attrs>=17.3.0 in /Users/thomascarpenter/anaconda3/envs/agent-test/lib/python3.13/site-packages (from aiohttp<4.0.0,>=3.8.3->langchain-community<0.4.0,>=0.3.0->langchain_experimental) (25.3.0)\n",
      "Requirement already satisfied: frozenlist>=1.1.1 in /Users/thomascarpenter/anaconda3/envs/agent-test/lib/python3.13/site-packages (from aiohttp<4.0.0,>=3.8.3->langchain-community<0.4.0,>=0.3.0->langchain_experimental) (1.7.0)\n",
      "Requirement already satisfied: multidict<7.0,>=4.5 in /Users/thomascarpenter/anaconda3/envs/agent-test/lib/python3.13/site-packages (from aiohttp<4.0.0,>=3.8.3->langchain-community<0.4.0,>=0.3.0->langchain_experimental) (6.6.3)\n",
      "Requirement already satisfied: propcache>=0.2.0 in /Users/thomascarpenter/anaconda3/envs/agent-test/lib/python3.13/site-packages (from aiohttp<4.0.0,>=3.8.3->langchain-community<0.4.0,>=0.3.0->langchain_experimental) (0.3.2)\n",
      "Requirement already satisfied: yarl<2.0,>=1.17.0 in /Users/thomascarpenter/anaconda3/envs/agent-test/lib/python3.13/site-packages (from aiohttp<4.0.0,>=3.8.3->langchain-community<0.4.0,>=0.3.0->langchain_experimental) (1.20.1)\n",
      "Requirement already satisfied: marshmallow<4.0.0,>=3.18.0 in /Users/thomascarpenter/anaconda3/envs/agent-test/lib/python3.13/site-packages (from dataclasses-json<0.7,>=0.5.7->langchain-community<0.4.0,>=0.3.0->langchain_experimental) (3.26.1)\n",
      "Requirement already satisfied: typing-inspect<1,>=0.4.0 in /Users/thomascarpenter/anaconda3/envs/agent-test/lib/python3.13/site-packages (from dataclasses-json<0.7,>=0.5.7->langchain-community<0.4.0,>=0.3.0->langchain_experimental) (0.9.0)\n",
      "Requirement already satisfied: python-dotenv>=0.21.0 in /Users/thomascarpenter/anaconda3/envs/agent-test/lib/python3.13/site-packages (from pydantic-settings>=2.5.2->mcp<2,>=1.9.4->openai-agents) (1.1.1)\n",
      "Requirement already satisfied: mypy-extensions>=0.3.0 in /Users/thomascarpenter/anaconda3/envs/agent-test/lib/python3.13/site-packages (from typing-inspect<1,>=0.4.0->dataclasses-json<0.7,>=0.5.7->langchain-community<0.4.0,>=0.3.0->langchain_experimental) (1.1.0)\n",
      "Requirement already satisfied: bleach in /Users/thomascarpenter/anaconda3/envs/agent-test/lib/python3.13/site-packages (from kaggle) (6.2.0)\n",
      "Requirement already satisfied: protobuf in /Users/thomascarpenter/anaconda3/envs/agent-test/lib/python3.13/site-packages (from kaggle) (6.31.1)\n",
      "Requirement already satisfied: python-slugify in /Users/thomascarpenter/anaconda3/envs/agent-test/lib/python3.13/site-packages (from kaggle) (8.0.4)\n",
      "Requirement already satisfied: setuptools>=21.0.0 in /Users/thomascarpenter/anaconda3/envs/agent-test/lib/python3.13/site-packages (from kaggle) (78.1.1)\n",
      "Requirement already satisfied: six>=1.10 in /Users/thomascarpenter/anaconda3/envs/agent-test/lib/python3.13/site-packages (from kaggle) (1.17.0)\n",
      "Requirement already satisfied: text-unidecode in /Users/thomascarpenter/anaconda3/envs/agent-test/lib/python3.13/site-packages (from kaggle) (1.3)\n",
      "Requirement already satisfied: webencodings in /Users/thomascarpenter/anaconda3/envs/agent-test/lib/python3.13/site-packages (from kaggle) (0.5.1)\n",
      "Requirement already satisfied: jsonschema-specifications>=2023.03.6 in /Users/thomascarpenter/anaconda3/envs/agent-test/lib/python3.13/site-packages (from jsonschema>=4.20.0->mcp<2,>=1.9.4->openai-agents) (2025.4.1)\n",
      "Requirement already satisfied: referencing>=0.28.4 in /Users/thomascarpenter/anaconda3/envs/agent-test/lib/python3.13/site-packages (from jsonschema>=4.20.0->mcp<2,>=1.9.4->openai-agents) (0.36.2)\n",
      "Requirement already satisfied: rpds-py>=0.7.1 in /Users/thomascarpenter/anaconda3/envs/agent-test/lib/python3.13/site-packages (from jsonschema>=4.20.0->mcp<2,>=1.9.4->openai-agents) (0.26.0)\n",
      "Requirement already satisfied: orjson<4.0.0,>=3.9.14 in /Users/thomascarpenter/anaconda3/envs/agent-test/lib/python3.13/site-packages (from langsmith>=0.1.17->langchain) (3.10.18)\n",
      "Requirement already satisfied: requests-toolbelt<2.0.0,>=1.0.0 in /Users/thomascarpenter/anaconda3/envs/agent-test/lib/python3.13/site-packages (from langsmith>=0.1.17->langchain) (1.0.0)\n",
      "Requirement already satisfied: zstandard<0.24.0,>=0.23.0 in /Users/thomascarpenter/anaconda3/envs/agent-test/lib/python3.13/site-packages (from langsmith>=0.1.17->langchain) (0.23.0)\n",
      "Requirement already satisfied: click>=7.0 in /Users/thomascarpenter/anaconda3/envs/agent-test/lib/python3.13/site-packages (from uvicorn>=0.23.1->mcp<2,>=1.9.4->openai-agents) (8.2.1)\n"
     ]
    }
   ],
   "source": [
    "!pip install openai-agents langchain langchain_openai pandas langchain_experimental kaggle"
   ]
  },
  {
   "cell_type": "code",
   "execution_count": null,
   "id": "fa8bbb65",
   "metadata": {},
   "outputs": [
    {
     "name": "stdout",
     "output_type": "stream",
     "text": [
      "Dataset URL: https://www.kaggle.com/datasets/kemical/kickstarter-projects\n"
     ]
    }
   ],
   "source": [
    "from kaggle import KaggleApi\n",
    "import os\n",
    "\n",
    "# get env variables\n",
    "username = os.getenv(\"KAGGLE_USERNAME\")\n",
    "key = os.getenv(\"KAGGLE_KEY\")\n",
    "api_key = os.environ[\"OPENAI_API_KEY\"]\n",
    "\n",
    "# connect to kaggle\n",
    "api = KaggleApi()\n",
    "api.authenticate()\n",
    "api.dataset_download_files('kemical/kickstarter-projects', path='kickstarter_data', unzip=True)\n",
    "\n",
    "# load data\n",
    "df = pd.read_csv(\"kickstarter_data/ks-projects-201801.csv\")"
   ]
  },
  {
   "cell_type": "markdown",
   "id": "f6e31b7d",
   "metadata": {},
   "source": [
    "# Pandas Agent"
   ]
  },
  {
   "cell_type": "code",
   "execution_count": 8,
   "id": "9ed24961",
   "metadata": {},
   "outputs": [],
   "source": [
    "import pandas as pd\n",
    "from langchain_experimental.agents import create_pandas_dataframe_agent\n",
    "from langchain_openai import OpenAI\n"
   ]
  },
  {
   "cell_type": "code",
   "execution_count": null,
   "id": "5128dee4",
   "metadata": {},
   "outputs": [],
   "source": [
    "agent = create_pandas_dataframe_agent(\n",
    "    OpenAI(temperature=0),  # deterministic answers\n",
    "    df,\n",
    "    verbose=True\n",
    ")"
   ]
  }
 ],
 "metadata": {
  "kernelspec": {
   "display_name": "agent-test",
   "language": "python",
   "name": "python3"
  },
  "language_info": {
   "codemirror_mode": {
    "name": "ipython",
    "version": 3
   },
   "file_extension": ".py",
   "mimetype": "text/x-python",
   "name": "python",
   "nbconvert_exporter": "python",
   "pygments_lexer": "ipython3",
   "version": "3.13.5"
  }
 },
 "nbformat": 4,
 "nbformat_minor": 5
}
