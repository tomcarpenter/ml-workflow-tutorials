{
 "cells": [
  {
   "cell_type": "markdown",
   "id": "da955bcf",
   "metadata": {},
   "source": [
    "# End-to-End XGBoost Workflow for Kickstarter Data"
   ]
  },
  {
   "cell_type": "markdown",
   "id": "ae6df8d4",
   "metadata": {},
   "source": [
    "## Workflow\n",
    "\n",
    "Many tutorials show how to build a model, yet few tutorials show the end-to-end workflow of modeling and statistical analysis of a novel dataset. The goal of this tutorial is to cover the entire end-to-end process.\n",
    "\n",
    "For our data workflow, we start with a cleaning phase. During that phase, we intake the dataset, build our tools to clean it and split it, and prepare the data for an initial model. This is a rigorous step, and it is concluded when (1) we can run a preliminary working model and (2) we are prepared to start iterating. \n",
    "\n",
    "After that, we will set up our MLFlow environment to track our work, and then we will begin iterating. This could be iterations in our pipeline, engineering new features, and working in detail on improving the model. As a final step, we will package everything up for production and run final checks to ensure it can survive a production environemnt. \n",
    "\n",
    "Phase 1: Manual Cleaning + EDA + Prototyping\n",
    "\n",
    "* We will do the initial cleaning on the data and prepare it for modeling. We generally do this \"manually\" but we will still build a base cleaning function and pipeline (it's easy, and more efficient).\n",
    "* Start with eduplciation, row-wise filtering the data (out of scope data, invalid rows, etc.)\n",
    "* Conduct preliminary EDA on full dataset: distributions, outliers, missingness, data quality. Get insights into what is needed to clean the data (and later, preprocess it).\n",
    "* Split the data + build preliminary cleaning pipeline\n",
    "* Perform rest of EDA on the training set with an eye toward preprocessing (categorical data encoding, imputation, scaling, and feature engineering)\n",
    "* Feature engineering is biggest part--hypothesize causal drivers of the outcome, build features\n",
    "* Update pipeline--ready to train first model\n",
    "* Run simple baseline models (e.g., `LogisticRegression`, `RandomForest`, `XGBoost`) using default settings\n",
    "* Evaluate basic performance using accuracy, AUC, or F1\n",
    "* Check feature importance and rough signal strength\n",
    "* Handle class imbalance roughly (e.g., `scale_pos_weight`)\n",
    "* Have a sense for how to go forward\n",
    "\n",
    "Phase 2: Save Working Prototype to MLflow\n",
    "\n",
    "* Update pipeline for preprocessing to include the preliminary model\n",
    "* Log the following to MLflow:\n",
    "  * Model and pipeline artifacts (e.g., `.pkl`, `Pipeline` objects)\n",
    "  * Key metrics (e.g., accuracy, AUC, F1 score)\n",
    "  * Input data version or hash (e.g., via DVC, manual checksum, or metadata)\n",
    "* Use this as your first reproducible and referenceable baseline\n",
    "\n",
    "Phase 3: Iterate Model\n",
    "\n",
    "* Ensure all pipeline steps (imputation, scaling, encoding) are modular and consistent\n",
    "* Tune hyperparameters using grid/random search or Optuna\n",
    "* Apply early stopping if supported (e.g., `XGBoost`, `LightGBM`)\n",
    "* Calibrate predicted probabilities (e.g., with `CalibratedClassifierCV`)\n",
    "* Use cross-validation to estimate performance\n",
    "* Try alternate models or loss functions if warranted\n",
    "* Log all experiments and parameters to MLflow for comparison\n",
    "\n",
    "Phase 4: Finalize and Package\n",
    "\n",
    "* Finalize:\n",
    "  * Data schema and feature list\n",
    "  * All preprocessing steps\n",
    "  * Model choice and configuration\n",
    "* Package the final pipeline and save to MLflow\n",
    "* Ensure exact pipeline used at inference matches what was used at training\n",
    "* Prepare for batch or real-time deployment (API-ready)\n",
    "* Include model versioning and dependency tracking\n",
    "* Plan for performance monitoring, drift detection, and retraining triggers\n",
    "\n",
    "\n",
    "+---------------------+------------------------------------+--------------------------+---------------------------+\n",
    "| Phase               | What To Do                         | Pipeline Usage           | MLflow Role               |\n",
    "+---------------------+------------------------------------+--------------------------+---------------------------+\n",
    "| EDA & Prototyping   | Clean data, explore distributions, | Cleaning / manual        | Not usually used          |\n",
    "|                     | build quick baseline models        | preprocessing            |                           |\n",
    "+---------------------+------------------------------------+--------------------------+---------------------------+\n",
    "| Baseline Logging    | Log a promising prototype for      | MVP modeling pipeline or | Log model, metrics,       |\n",
    "|                     | reproducibility                    | manual steps             | and artifacts             |\n",
    "+---------------------+------------------------------------+--------------------------+---------------------------+\n",
    "| Iterate & Improve   | Build full pipeline, tune          | Full pipeline.           | Log all runs +            |\n",
    "|                     | hyperparams, validate on test data |                          | parameters via MLflow     |\n",
    "+---------------------+------------------------------------+--------------------------+---------------------------+\n",
    "| Finalize & Deploy   | Lock data schema, finalize model,  | Full pipeline + model    | Register final version    |\n",
    "|                     | hand off for deployment            | wrapped                  | for production            |\n",
    "+---------------------+------------------------------------+--------------------------+---------------------------+\n"
   ]
  },
  {
   "cell_type": "markdown",
   "id": "4673b80e",
   "metadata": {},
   "source": [
    "## Preliminaries"
   ]
  },
  {
   "cell_type": "markdown",
   "id": "997459f6",
   "metadata": {},
   "source": [
    "# 📦 Environment Setup & Reproducibility\n",
    "\n",
    "This notebook was developed using **Python 3.10 (64-bit)** in a clean Conda environment.\n",
    "\n",
    "To recreate the environment from scratch:\n",
    "\n",
    "```bash\n",
    "# 1. Create and activate a fresh Conda environment\n",
    "conda create -n xgbok python=3.10 -c conda-forge -y\n",
    "conda activate xgbok\n",
    "\n",
    "# 2. Install required packages\n",
    "conda install -c conda-forge \\\n",
    "    xgboost=1.7.6 \\\n",
    "    optuna \\\n",
    "    scikit-learn \\\n",
    "    pandas \\\n",
    "    numpy \\\n",
    "    matplotlib \\\n",
    "    seaborn \\\n",
    "    statsmodels \\\n",
    "    scipy \\\n",
    "    kaggle \\\n",
    "    jupyter \\\n",
    "    ipykernel\n",
    "`\n"
   ]
  },
  {
   "cell_type": "code",
   "execution_count": 4,
   "id": "307c7270",
   "metadata": {},
   "outputs": [],
   "source": [
    "import os\n",
    "\n",
    "import numpy as np\n",
    "\n",
    "from kaggle.api.kaggle_api_extended import KaggleApi\n",
    "\n",
    "import pandas as pd\n",
    "\n",
    "import matplotlib.pyplot as plt\n",
    "import matplotlib.ticker as ticker\n",
    "import seaborn as sns\n",
    "\n",
    "from sklearn.preprocessing import FunctionTransformer, OneHotEncoder, StandardScaler\n",
    "from sklearn.compose import ColumnTransformer\n",
    "from sklearn.impute import SimpleImputer\n",
    "from sklearn.model_selection import train_test_split\n",
    "from sklearn.model_selection import StratifiedKFold\n",
    "from sklearn.base import TransformerMixin, BaseEstimator\n",
    "from sklearn.pipeline import Pipeline\n",
    "\n",
    "import statsmodels.api as sm\n",
    "from scipy.stats import pointbiserialr, norm\n",
    "\n",
    "from xgboost import XGBClassifier\n",
    "from xgboost.callback import EarlyStopping\n",
    "import xgboost as xgb\n",
    "import optuna\n",
    "from sklearn.metrics import accuracy_score, precision_score, recall_score, f1_score, roc_auc_score, average_precision_score\n",
    "from sklearn.metrics import confusion_matrix, ConfusionMatrixDisplay\n",
    "from sklearn.metrics import precision_recall_curve, roc_curve\n",
    "from sklearn.metrics import classification_report"
   ]
  },
  {
   "cell_type": "code",
   "execution_count": 5,
   "id": "ce1d85d1",
   "metadata": {},
   "outputs": [
    {
     "name": "stdout",
     "output_type": "stream",
     "text": [
      "Dataset URL: https://www.kaggle.com/datasets/kemical/kickstarter-projects\n"
     ]
    }
   ],
   "source": [
    "# get env variables\n",
    "username = os.getenv(\"KAGGLE_USERNAME\")\n",
    "key = os.getenv(\"KAGGLE_KEY\")\n",
    "\n",
    "# connect to kaggle\n",
    "api = KaggleApi()\n",
    "api.authenticate()\n",
    "api.dataset_download_files('kemical/kickstarter-projects', path='kickstarter_data', unzip=True)\n",
    "\n",
    "# load data\n",
    "df = pd.read_csv(\"kickstarter_data/ks-projects-201801.csv\")"
   ]
  },
  {
   "cell_type": "code",
   "execution_count": 6,
   "id": "396eb79d",
   "metadata": {},
   "outputs": [
    {
     "name": "stdout",
     "output_type": "stream",
     "text": [
      "<class 'pandas.core.frame.DataFrame'>\n",
      "RangeIndex: 378661 entries, 0 to 378660\n",
      "Data columns (total 15 columns):\n",
      " #   Column            Non-Null Count   Dtype  \n",
      "---  ------            --------------   -----  \n",
      " 0   ID                378661 non-null  int64  \n",
      " 1   name              378657 non-null  object \n",
      " 2   category          378661 non-null  object \n",
      " 3   main_category     378661 non-null  object \n",
      " 4   currency          378661 non-null  object \n",
      " 5   deadline          378661 non-null  object \n",
      " 6   goal              378661 non-null  float64\n",
      " 7   launched          378661 non-null  object \n",
      " 8   pledged           378661 non-null  float64\n",
      " 9   state             378661 non-null  object \n",
      " 10  backers           378661 non-null  int64  \n",
      " 11  country           378661 non-null  object \n",
      " 12  usd pledged       374864 non-null  float64\n",
      " 13  usd_pledged_real  378661 non-null  float64\n",
      " 14  usd_goal_real     378661 non-null  float64\n",
      "dtypes: float64(5), int64(2), object(8)\n",
      "memory usage: 43.3+ MB\n"
     ]
    }
   ],
   "source": [
    "# check data\n",
    "df.info()"
   ]
  },
  {
   "cell_type": "markdown",
   "id": "284a3915",
   "metadata": {},
   "source": [
    "# Phase 1. Cleaning --> Initial Model"
   ]
  },
  {
   "cell_type": "markdown",
   "id": "efcc1394",
   "metadata": {},
   "source": [
    "We will next clean the data. Our architecture will look as follows:\n",
    "\n",
    "1. Pre-cleaning\n",
    "2. Split data\n",
    "3. EDA + Preprocessing Pipeline\n",
    "4. Model"
   ]
  },
  {
   "cell_type": "markdown",
   "id": "e938f446",
   "metadata": {},
   "source": [
    "## 1. Preliminary cleaning\n"
   ]
  },
  {
   "cell_type": "markdown",
   "id": "76f3373f",
   "metadata": {},
   "source": [
    "Often, we create a function to do initial cleaning on the data prior to splitting the data into train/test sets. Specifically, at this step, we do anything that involves dropping rows or removing out-of-scope data (e.g., duplicate data, data we would not wish to use to train or infer upon, etc.).\n",
    "\n",
    "We cannot do this *within* the pipeline, as that occurs after the data split (step 2), during which we will separate the **y** column (outcome) from the dataset of predictors (**X** matrix). From that point on, it is very difficult to remove rows of data, as removals must be coordinated across two separate objects. Better to simply do this up front.\n",
    "\n",
    "During this step, we must look closely at the data—specifically at the distributions and contents of individual variables. However, we must be very careful not to explore or estimate anything that reflects relationships between features and the outcome. The reason is that we are about to split the data into a training set (in which we explore and model the data extensively) and a testing set (where we assess how the model performs on unseen data). Generally, models built on the training set will be calibrated to parameters and insights derived from the training set and will overperform on that data—they will perform worse on *new* (unseen) data.\n",
    "\n",
    "At **this point**, we have not yet split the data. So, we can and should derive rules for row-wise deletion using the full dataset. But we **must not** estimate anything from the full data that would be used in modeling—no imputing, no computing means or medians, no encoding decisions based on outcome distributions, and certainly no exploration of `X --> y` relationships.\n",
    "\n",
    "Generally, during this step, I like to do the following:\n",
    "\n",
    "a. Row-wise deletion due to duplicates (pre-split)\n",
    "\n",
    "b. Row-wise deletion due to excessive missingness (pre-split; define the rule here)\n",
    "\n",
    "c. Row-wise deletion due to out-of-scope data (pre-split)\n",
    "\n",
    "\n",
    "At this time, we might also write code that we can use later for:\n",
    "\n",
    "d. Invalid data to repair (post-split, in-pipeline)\n",
    "\n",
    "e. Unnecessary columns to drop (post-split, in-pipeline)\n",
    "\n",
    "f. Variable types (e.g., string --> datetime) (post-split, in-pipeline)\n",
    "\n",
    "\n",
    "Steps a–c must be performed before separating the **y** column, when row-wise deletion is still possible. Steps d–f should be part of a transformer inside a pipeline after the split, as they don’t require removing rows.\n",
    "\n",
    "Lastly, we should *begin to think about* preprocessing steps, which generally involve:\n",
    "\n",
    "g. Imputation methods (e.g., mean? median? KNN?)\n",
    "\n",
    "h. Scaling (e.g., z-score? min-max?)\n",
    "\n",
    "i. Encoding of categorical variables (e.g., one-hot vs. reduced categories)\n",
    "\n",
    "j. Feature engineering (e.g., time deltas, log transforms, interaction terms)\n",
    "\n",
    "Steps g–j should **NOT** occur at this point, but it’s helpful to start thinking ahead. We’ll revisit them after the split.\n",
    "\n",
    "Finally, be thinking at this point about **leakage**: Any column that contains information only knowable after the outcome occurs is leakage. These should be removed entirely, as they would not be available at inference time. Common culprits include timestamps, summary statistics, or status flags recorded after the fact. This is data that would not exist at the time of prediction in the real world--and we only know it **now** in this data becuase it's retrospective. We will remove it as part of step e in our pipeline, but be thinking hard about anything that \"gives away\" the outcome variable (y).\n",
    "\n",
    "#### 2. **Split the data** \n",
    "\n",
    "Split the data into an **X** matrix and **y** vector. Then split them into train and test sets. If there’s any cleaning to do on **y** (e.g., convert strings to binary 0/1 for classification), do it here.\n",
    "\n",
    "Now is also a good time to build a preliminary pipeline:\n",
    "\n",
    "* A raw data cleaning function for steps a–c above (row-wise removal)\n",
    "* A custom transformer inside a pipeline for steps d–f (value-level cleaning)\n",
    "* A placeholder for later pipeline steps (g–j) for preprocessing\n",
    "\n",
    "You can now aim this preliminary pipeline at the training (and test) data. From there, you can explore the training data to make decisions about preprocessing.\n",
    "\n",
    "\n",
    "#### 3. **EDA and preprocessing planning.** \n",
    "This is where you perform detailed EDA to decide on g–j. What preprocessing steps will you use? Imputation strategy? Scaling? Encoding? What new features do you want to engineer?\n",
    "\n",
    "It’s also common at this stage to realize that additional data cleaning is needed—perhaps invalid values, redundant columns, or unusable text fields were missed earlier. If so, return to your raw cleaning function and revise it accordingly before proceeding. It's normal for cleaning and EDA to iterate a bit before things stabilize. \n",
    "\n",
    "Update the pipeline accordingly. When this step is complete, your data should be ready to pass into a model.\n",
    "\n",
    "\n",
    "#### 4. Preliminary model\n",
    "You should now be able to fit a preliminary model easily.\n"
   ]
  },
  {
   "cell_type": "markdown",
   "id": "525a0034",
   "metadata": {},
   "source": [
    "Let's get started!"
   ]
  },
  {
   "cell_type": "markdown",
   "id": "6ce26128",
   "metadata": {},
   "source": [
    "## 1.1 - Preliminary Cleaning Functions\n",
    "\n",
    "* Duplicates, Out of Scope, Missing (pre-split row removal)\n",
    "* Column Types, Column Drops, Invalid Data (post-split)\n",
    "\n",
    "Will produce:\n",
    "* pre-cleaning function\n",
    "* cleaning transformer\n",
    "* possible feature-engineering transformer\n"
   ]
  },
  {
   "cell_type": "markdown",
   "id": "e290c576",
   "metadata": {},
   "source": [
    "Duplicate rows first"
   ]
  },
  {
   "cell_type": "code",
   "execution_count": 7,
   "id": "e1538732",
   "metadata": {},
   "outputs": [
    {
     "data": {
      "text/plain": [
       "np.int64(0)"
      ]
     },
     "execution_count": 7,
     "metadata": {},
     "output_type": "execute_result"
    }
   ],
   "source": [
    "# check prior to doing anything\n",
    "df.duplicated().sum()"
   ]
  },
  {
   "cell_type": "markdown",
   "id": "819d6422",
   "metadata": {},
   "source": [
    "For id:"
   ]
  },
  {
   "cell_type": "code",
   "execution_count": 8,
   "id": "79c88c6c",
   "metadata": {},
   "outputs": [
    {
     "data": {
      "text/plain": [
       "np.int64(0)"
      ]
     },
     "execution_count": 8,
     "metadata": {},
     "output_type": "execute_result"
    }
   ],
   "source": [
    "df.duplicated(subset=['ID']).sum()"
   ]
  },
  {
   "cell_type": "markdown",
   "id": "041b776f",
   "metadata": {},
   "source": [
    "For title -- nearly 3k duplicates!"
   ]
  },
  {
   "cell_type": "code",
   "execution_count": 9,
   "id": "d488b243",
   "metadata": {},
   "outputs": [
    {
     "data": {
      "text/plain": [
       "np.int64(2896)"
      ]
     },
     "execution_count": 9,
     "metadata": {},
     "output_type": "execute_result"
    }
   ],
   "source": [
    "df.duplicated(subset=['name']).sum()"
   ]
  },
  {
   "cell_type": "markdown",
   "id": "dcb234ab",
   "metadata": {},
   "source": [
    "Examine them:"
   ]
  },
  {
   "cell_type": "code",
   "execution_count": 10,
   "id": "9a7d2d8e",
   "metadata": {},
   "outputs": [
    {
     "name": "stdout",
     "output_type": "stream",
     "text": [
      "name\n",
      "New EP/Music Development                                   40\n",
      "Canceled (Canceled)                                        12\n",
      "Music Video                                                10\n",
      "N/A (Canceled)                                             10\n",
      "Cancelled (Canceled)                                        9\n",
      "                                                           ..\n",
      "GreyX - Study Faster, Smarter, and More Effectively NOW     1\n",
      "Project IRIS                                                1\n",
      "The Unknowns                                                1\n",
      "On The Rocks                                                1\n",
      "Guilt                                                       1\n",
      "Name: count, Length: 2228, dtype: int64\n"
     ]
    }
   ],
   "source": [
    "name_dups = (\n",
    "    df['name']\n",
    "    .loc[\n",
    "        df.duplicated(subset=['name'])\n",
    "        ]\n",
    "    .value_counts()\n",
    ")\n",
    "\n",
    "print(name_dups)"
   ]
  },
  {
   "cell_type": "code",
   "execution_count": 11,
   "id": "752193c4",
   "metadata": {},
   "outputs": [
    {
     "data": {
      "text/plain": [
       "name\n",
       "New EP/Music Development                         40\n",
       "Canceled (Canceled)                              12\n",
       "Music Video                                      10\n",
       "N/A (Canceled)                                   10\n",
       "Cancelled (Canceled)                              9\n",
       "Debut Album                                       9\n",
       "New EP / Music Development                        9\n",
       "The Journey                                       8\n",
       "Reflections                                       8\n",
       "Pizza                                             7\n",
       "The Awakening                                     7\n",
       "The Other Side                                    7\n",
       "A Midsummer Night's Dream                         7\n",
       "Pasta Salad                                       6\n",
       "Choices                                           6\n",
       "Broken                                            5\n",
       "Project (Canceled)                                5\n",
       "Alone                                             5\n",
       "Home                                              5\n",
       "Chocolate Chip Cookies                            5\n",
       "a (Canceled)                                      5\n",
       "Guacamole                                         5\n",
       "The Mission                                       5\n",
       "Karma                                             5\n",
       "Romeo & Juliet                                    5\n",
       "The Wall                                          5\n",
       "Through My Eyes                                   5\n",
       "My Debut Album                                    4\n",
       "Perception                                        4\n",
       "Glitch                                            4\n",
       "Wonderland                                        4\n",
       "Memento Mori                                      4\n",
       "The Bridge                                        4\n",
       "Artist Residency at the Vermont Studio Center     4\n",
       "Egg Salad                                         4\n",
       "Legacy                                            4\n",
       "A New Beginning                                   4\n",
       "United We Stand                                   4\n",
       "Bacon                                             4\n",
       "The Hive                                          4\n",
       "Name: count, dtype: int64"
      ]
     },
     "execution_count": 11,
     "metadata": {},
     "output_type": "execute_result"
    }
   ],
   "source": [
    "#top 40\n",
    "name_dups[:40]"
   ]
  },
  {
   "cell_type": "markdown",
   "id": "ee3a341f",
   "metadata": {},
   "source": [
    "It appears that a lot of projects have \"Canceled\" in the name. Can we have a rule that we drop all of them? First, inspect them. \n",
    "\n",
    "Some filtering logic:\n",
    "\n",
    "* `df[condition]` is a great tool for returning rows that meet a boolean condition, but it's limited to that and always produces a *copy* (i.e., modifying it does NOT modify in place). If we want to select and filter as we do in R, we need `.loc` and `.iloc`. When you see those, you're indexing. \n",
    "\n",
    "* `.loc[]` is our tool for filtering based on the NAMES (index labels) of rows and columns. \n",
    "    * It's similar to R's `data[row, column]` api but for *labels*, not positions.\n",
    "    * It will search for effectively \"row names\" and \"column names\" (the index labels)\n",
    "    * By default, if we enter one value, it's rows. \n",
    "    * Because it only looks at index labels (names), `.loc[3]` looks for a row with an index lavel value of 3, not the 3rd position. Often those are the same, but don't trust that. \n",
    "    * If you want to search by VALUES, you can enter a boolean series called a \"mask\" (`data.loc[data['score'] == 90]`) or you can pre-create them  such as `mask = data['score'] == 90` and then using `mask` as your condition in `data.loc[mask]`. Importantly, what it's doing under the hood is boolean mask values --> grab indices that correspond to True in the mask --> grab rows. That's because this works with indices. \n",
    "    * E.g., you want to find all rows with a `score` value of 90 and return `id` and `name` columns: `data.loc[data['score'] == 90, ['id', 'name']]`\n",
    "\n",
    "* `.iloc[]` is our tool for filtering based on the POSITION of a cell. It's the same idea, but you enter row positions. So, `.iloc[4, 6]` returns row 4, column 6. You can pass it lists of integers but NOT a boolean series. This is very similar to R, and you can also include lists as you might in R (e.g., `.iloc[:,:])` for all rows, all columns).\n",
    "\n",
    "* `.loc` and `.iloc` normally return views if you do `df.loc[]` or `df.iloc[]` ... but if you are running `.loc[]` or `.iloc[]` at the end of a chain or subsetted df, you may be pulling a copy (e.g., `df['var1'].iloc[]`) That is because those subsetted or chained dfs typically produce copies. "
   ]
  },
  {
   "cell_type": "code",
   "execution_count": 12,
   "id": "f5b31ca3",
   "metadata": {},
   "outputs": [
    {
     "data": {
      "text/plain": [
       "array(['STUDIO IN THE SKY - A Documentary Feature Film (Canceled)',\n",
       "       'Raise the Woof, expanding the love (Canceled)',\n",
       "       'Glyscian Debut Album Recording (Canceled)', ...,\n",
       "       'Cards and Chit Network Season 2! (Canceled)',\n",
       "       \"Angela's Poetry (Canceled)\",\n",
       "       'ChknTruk Nationwide Charity Drive 2014 (Canceled)'],\n",
       "      shape=(22980,), dtype=object)"
      ]
     },
     "execution_count": 12,
     "metadata": {},
     "output_type": "execute_result"
    }
   ],
   "source": [
    "# inspect with 'canceled' in the name\n",
    "# use na = False to make sure missing values are flagged as false (vs. NaN), so we can safely use this for filtering\n",
    "(\n",
    "    df[\"name\"]\n",
    "    .loc[\n",
    "        df[\"name\"].str.contains(\"Canceled\", case = False, na = False)\n",
    "    ]\n",
    "    .unique()\n",
    ")"
   ]
  },
  {
   "cell_type": "markdown",
   "id": "f7f098ba",
   "metadata": {},
   "source": [
    "Decision\n",
    "* drop duplicates overall\n",
    "* drop duplicates on ID\n",
    "\n",
    "* drop out of scope: contains \"canceled\""
   ]
  },
  {
   "cell_type": "code",
   "execution_count": 13,
   "id": "60bee9f5",
   "metadata": {},
   "outputs": [],
   "source": [
    "def pre_cleaning(df):\n",
    "    df = df.copy()\n",
    "    \n",
    "    # 1. Duplicate handling\n",
    "    df.drop_duplicates(inplace=True)\n",
    "    df.drop_duplicates(subset=[\"ID\"], inplace=True)\n",
    "\n",
    "    # 2. Out of scope\n",
    "    df = (\n",
    "        df\n",
    "        .loc[\n",
    "            ~df[\"name\"].str.contains(\"Canceled\", case=False, na=False)\n",
    "        ]\n",
    "    )\n",
    "\n",
    "    return df"
   ]
  },
  {
   "cell_type": "markdown",
   "id": "01de5f2e",
   "metadata": {},
   "source": [
    "What about duplicate names? Are they out of scope?"
   ]
  },
  {
   "cell_type": "code",
   "execution_count": 14,
   "id": "ac4f841b",
   "metadata": {},
   "outputs": [
    {
     "data": {
      "text/plain": [
       "name\n",
       "New EP/Music Development                                   40\n",
       "Canceled (Canceled)                                        12\n",
       "Music Video                                                10\n",
       "N/A (Canceled)                                             10\n",
       "Cancelled (Canceled)                                        9\n",
       "                                                           ..\n",
       "GreyX - Study Faster, Smarter, and More Effectively NOW     1\n",
       "Project IRIS                                                1\n",
       "The Unknowns                                                1\n",
       "On The Rocks                                                1\n",
       "Guilt                                                       1\n",
       "Name: count, Length: 2228, dtype: int64"
      ]
     },
     "execution_count": 14,
     "metadata": {},
     "output_type": "execute_result"
    }
   ],
   "source": [
    "(\n",
    "    df['name']\n",
    "    .loc[\n",
    "        df.duplicated(subset='name')\n",
    "        ]\n",
    "    .value_counts()\n",
    ")"
   ]
  },
  {
   "cell_type": "markdown",
   "id": "f462a24d",
   "metadata": {},
   "source": [
    "They are not out of scope, but we can create a feature to represent that later. That's a bit ahead of us, but let's go ahead and start building a custom transformer now\n",
    "\n",
    "First, let's build the base structure:"
   ]
  },
  {
   "cell_type": "code",
   "execution_count": 15,
   "id": "5f43b705",
   "metadata": {},
   "outputs": [],
   "source": [
    "class FeatureEng(TransformerMixin, BaseEstimator):\n",
    "    def __init__(self):\n",
    "        pass\n",
    "\n",
    "    def fit(self, X, y=None):\n",
    "        return self\n",
    "    \n",
    "    def transform(self, X):\n",
    "        X=X.copy()\n",
    "        return X"
   ]
  },
  {
   "cell_type": "markdown",
   "id": "3d8beeba",
   "metadata": {},
   "source": [
    "Now let's populate it"
   ]
  },
  {
   "cell_type": "code",
   "execution_count": 16,
   "id": "8a1601dc",
   "metadata": {},
   "outputs": [],
   "source": [
    "class FeatureEng(TransformerMixin, BaseEstimator):\n",
    "    def __init__(self):\n",
    "        pass\n",
    "\n",
    "    def fit(self, X, y=None):\n",
    "        return self\n",
    "    \n",
    "    def transform(self, X):\n",
    "        X=X.copy()\n",
    "        \n",
    "        #flag duplicate names\n",
    "        X[\"is_dup_name\"] = (\n",
    "            X[\"name\"]\n",
    "            .duplicated(keep=False) #must set to false to flag all duplicates\n",
    "        )\n",
    "        return X"
   ]
  },
  {
   "cell_type": "markdown",
   "id": "401b248f",
   "metadata": {},
   "source": [
    "When we go to create features later, we can use this to flag those that had a duplicated name!"
   ]
  },
  {
   "cell_type": "markdown",
   "id": "26789b64",
   "metadata": {},
   "source": [
    "Regarding out of scope, I think we only want projects that are successful or failed"
   ]
  },
  {
   "cell_type": "code",
   "execution_count": 17,
   "id": "d45199d9",
   "metadata": {},
   "outputs": [
    {
     "data": {
      "text/plain": [
       "state\n",
       "failed        197719\n",
       "successful    133956\n",
       "canceled       38779\n",
       "undefined       3562\n",
       "live            2799\n",
       "suspended       1846\n",
       "Name: count, dtype: int64"
      ]
     },
     "execution_count": 17,
     "metadata": {},
     "output_type": "execute_result"
    }
   ],
   "source": [
    "df[\"state\"].value_counts()"
   ]
  },
  {
   "cell_type": "code",
   "execution_count": 18,
   "id": "1277face",
   "metadata": {},
   "outputs": [],
   "source": [
    "def pre_cleaning(df):\n",
    "    df = df.copy()\n",
    "    \n",
    "    # 1. Duplicate handling\n",
    "    df.drop_duplicates(inplace=True)\n",
    "    df.drop_duplicates(subset=[\"ID\"], keep = \"first\", inplace=True)\n",
    "\n",
    "    # 2. Out of scope\n",
    "    df = (\n",
    "        df\n",
    "        .loc[\n",
    "            ~df[\"name\"].str.contains(\"Canceled\", case=False, na=False)\n",
    "        ]\n",
    "    )\n",
    "\n",
    "    # only look at clearly successful or failed projects\n",
    "    df = (\n",
    "        df\n",
    "        .loc[\n",
    "            df[\"state\"].isin([\"successful\", \"failed\"])\n",
    "        ]\n",
    "    )\n",
    "\n",
    "    return df"
   ]
  },
  {
   "cell_type": "markdown",
   "id": "29f8a6ab",
   "metadata": {},
   "source": [
    "What about missingness?"
   ]
  },
  {
   "cell_type": "code",
   "execution_count": 19,
   "id": "be170d01",
   "metadata": {},
   "outputs": [
    {
     "data": {
      "text/html": [
       "<div>\n",
       "<style scoped>\n",
       "    .dataframe tbody tr th:only-of-type {\n",
       "        vertical-align: middle;\n",
       "    }\n",
       "\n",
       "    .dataframe tbody tr th {\n",
       "        vertical-align: top;\n",
       "    }\n",
       "\n",
       "    .dataframe thead th {\n",
       "        text-align: right;\n",
       "    }\n",
       "</style>\n",
       "<table border=\"1\" class=\"dataframe\">\n",
       "  <thead>\n",
       "    <tr style=\"text-align: right;\">\n",
       "      <th></th>\n",
       "      <th>ID</th>\n",
       "      <th>name</th>\n",
       "      <th>category</th>\n",
       "      <th>main_category</th>\n",
       "      <th>currency</th>\n",
       "      <th>deadline</th>\n",
       "      <th>goal</th>\n",
       "      <th>launched</th>\n",
       "      <th>pledged</th>\n",
       "      <th>state</th>\n",
       "      <th>backers</th>\n",
       "      <th>country</th>\n",
       "      <th>usd pledged</th>\n",
       "      <th>usd_pledged_real</th>\n",
       "      <th>usd_goal_real</th>\n",
       "    </tr>\n",
       "  </thead>\n",
       "  <tbody>\n",
       "    <tr>\n",
       "      <th>0</th>\n",
       "      <td>False</td>\n",
       "      <td>False</td>\n",
       "      <td>False</td>\n",
       "      <td>False</td>\n",
       "      <td>False</td>\n",
       "      <td>False</td>\n",
       "      <td>False</td>\n",
       "      <td>False</td>\n",
       "      <td>False</td>\n",
       "      <td>False</td>\n",
       "      <td>False</td>\n",
       "      <td>False</td>\n",
       "      <td>False</td>\n",
       "      <td>False</td>\n",
       "      <td>False</td>\n",
       "    </tr>\n",
       "    <tr>\n",
       "      <th>1</th>\n",
       "      <td>False</td>\n",
       "      <td>False</td>\n",
       "      <td>False</td>\n",
       "      <td>False</td>\n",
       "      <td>False</td>\n",
       "      <td>False</td>\n",
       "      <td>False</td>\n",
       "      <td>False</td>\n",
       "      <td>False</td>\n",
       "      <td>False</td>\n",
       "      <td>False</td>\n",
       "      <td>False</td>\n",
       "      <td>False</td>\n",
       "      <td>False</td>\n",
       "      <td>False</td>\n",
       "    </tr>\n",
       "    <tr>\n",
       "      <th>2</th>\n",
       "      <td>False</td>\n",
       "      <td>False</td>\n",
       "      <td>False</td>\n",
       "      <td>False</td>\n",
       "      <td>False</td>\n",
       "      <td>False</td>\n",
       "      <td>False</td>\n",
       "      <td>False</td>\n",
       "      <td>False</td>\n",
       "      <td>False</td>\n",
       "      <td>False</td>\n",
       "      <td>False</td>\n",
       "      <td>False</td>\n",
       "      <td>False</td>\n",
       "      <td>False</td>\n",
       "    </tr>\n",
       "    <tr>\n",
       "      <th>3</th>\n",
       "      <td>False</td>\n",
       "      <td>False</td>\n",
       "      <td>False</td>\n",
       "      <td>False</td>\n",
       "      <td>False</td>\n",
       "      <td>False</td>\n",
       "      <td>False</td>\n",
       "      <td>False</td>\n",
       "      <td>False</td>\n",
       "      <td>False</td>\n",
       "      <td>False</td>\n",
       "      <td>False</td>\n",
       "      <td>False</td>\n",
       "      <td>False</td>\n",
       "      <td>False</td>\n",
       "    </tr>\n",
       "    <tr>\n",
       "      <th>4</th>\n",
       "      <td>False</td>\n",
       "      <td>False</td>\n",
       "      <td>False</td>\n",
       "      <td>False</td>\n",
       "      <td>False</td>\n",
       "      <td>False</td>\n",
       "      <td>False</td>\n",
       "      <td>False</td>\n",
       "      <td>False</td>\n",
       "      <td>False</td>\n",
       "      <td>False</td>\n",
       "      <td>False</td>\n",
       "      <td>False</td>\n",
       "      <td>False</td>\n",
       "      <td>False</td>\n",
       "    </tr>\n",
       "    <tr>\n",
       "      <th>...</th>\n",
       "      <td>...</td>\n",
       "      <td>...</td>\n",
       "      <td>...</td>\n",
       "      <td>...</td>\n",
       "      <td>...</td>\n",
       "      <td>...</td>\n",
       "      <td>...</td>\n",
       "      <td>...</td>\n",
       "      <td>...</td>\n",
       "      <td>...</td>\n",
       "      <td>...</td>\n",
       "      <td>...</td>\n",
       "      <td>...</td>\n",
       "      <td>...</td>\n",
       "      <td>...</td>\n",
       "    </tr>\n",
       "    <tr>\n",
       "      <th>378656</th>\n",
       "      <td>False</td>\n",
       "      <td>False</td>\n",
       "      <td>False</td>\n",
       "      <td>False</td>\n",
       "      <td>False</td>\n",
       "      <td>False</td>\n",
       "      <td>False</td>\n",
       "      <td>False</td>\n",
       "      <td>False</td>\n",
       "      <td>False</td>\n",
       "      <td>False</td>\n",
       "      <td>False</td>\n",
       "      <td>False</td>\n",
       "      <td>False</td>\n",
       "      <td>False</td>\n",
       "    </tr>\n",
       "    <tr>\n",
       "      <th>378657</th>\n",
       "      <td>False</td>\n",
       "      <td>False</td>\n",
       "      <td>False</td>\n",
       "      <td>False</td>\n",
       "      <td>False</td>\n",
       "      <td>False</td>\n",
       "      <td>False</td>\n",
       "      <td>False</td>\n",
       "      <td>False</td>\n",
       "      <td>False</td>\n",
       "      <td>False</td>\n",
       "      <td>False</td>\n",
       "      <td>False</td>\n",
       "      <td>False</td>\n",
       "      <td>False</td>\n",
       "    </tr>\n",
       "    <tr>\n",
       "      <th>378658</th>\n",
       "      <td>False</td>\n",
       "      <td>False</td>\n",
       "      <td>False</td>\n",
       "      <td>False</td>\n",
       "      <td>False</td>\n",
       "      <td>False</td>\n",
       "      <td>False</td>\n",
       "      <td>False</td>\n",
       "      <td>False</td>\n",
       "      <td>False</td>\n",
       "      <td>False</td>\n",
       "      <td>False</td>\n",
       "      <td>False</td>\n",
       "      <td>False</td>\n",
       "      <td>False</td>\n",
       "    </tr>\n",
       "    <tr>\n",
       "      <th>378659</th>\n",
       "      <td>False</td>\n",
       "      <td>False</td>\n",
       "      <td>False</td>\n",
       "      <td>False</td>\n",
       "      <td>False</td>\n",
       "      <td>False</td>\n",
       "      <td>False</td>\n",
       "      <td>False</td>\n",
       "      <td>False</td>\n",
       "      <td>False</td>\n",
       "      <td>False</td>\n",
       "      <td>False</td>\n",
       "      <td>False</td>\n",
       "      <td>False</td>\n",
       "      <td>False</td>\n",
       "    </tr>\n",
       "    <tr>\n",
       "      <th>378660</th>\n",
       "      <td>False</td>\n",
       "      <td>False</td>\n",
       "      <td>False</td>\n",
       "      <td>False</td>\n",
       "      <td>False</td>\n",
       "      <td>False</td>\n",
       "      <td>False</td>\n",
       "      <td>False</td>\n",
       "      <td>False</td>\n",
       "      <td>False</td>\n",
       "      <td>False</td>\n",
       "      <td>False</td>\n",
       "      <td>False</td>\n",
       "      <td>False</td>\n",
       "      <td>False</td>\n",
       "    </tr>\n",
       "  </tbody>\n",
       "</table>\n",
       "<p>378661 rows × 15 columns</p>\n",
       "</div>"
      ],
      "text/plain": [
       "           ID   name  category  main_category  currency  deadline   goal  \\\n",
       "0       False  False     False          False     False     False  False   \n",
       "1       False  False     False          False     False     False  False   \n",
       "2       False  False     False          False     False     False  False   \n",
       "3       False  False     False          False     False     False  False   \n",
       "4       False  False     False          False     False     False  False   \n",
       "...       ...    ...       ...            ...       ...       ...    ...   \n",
       "378656  False  False     False          False     False     False  False   \n",
       "378657  False  False     False          False     False     False  False   \n",
       "378658  False  False     False          False     False     False  False   \n",
       "378659  False  False     False          False     False     False  False   \n",
       "378660  False  False     False          False     False     False  False   \n",
       "\n",
       "        launched  pledged  state  backers  country  usd pledged  \\\n",
       "0          False    False  False    False    False        False   \n",
       "1          False    False  False    False    False        False   \n",
       "2          False    False  False    False    False        False   \n",
       "3          False    False  False    False    False        False   \n",
       "4          False    False  False    False    False        False   \n",
       "...          ...      ...    ...      ...      ...          ...   \n",
       "378656     False    False  False    False    False        False   \n",
       "378657     False    False  False    False    False        False   \n",
       "378658     False    False  False    False    False        False   \n",
       "378659     False    False  False    False    False        False   \n",
       "378660     False    False  False    False    False        False   \n",
       "\n",
       "        usd_pledged_real  usd_goal_real  \n",
       "0                  False          False  \n",
       "1                  False          False  \n",
       "2                  False          False  \n",
       "3                  False          False  \n",
       "4                  False          False  \n",
       "...                  ...            ...  \n",
       "378656             False          False  \n",
       "378657             False          False  \n",
       "378658             False          False  \n",
       "378659             False          False  \n",
       "378660             False          False  \n",
       "\n",
       "[378661 rows x 15 columns]"
      ]
     },
     "execution_count": 19,
     "metadata": {},
     "output_type": "execute_result"
    }
   ],
   "source": [
    "# boolan grid of missingness\n",
    "df.isna()"
   ]
  },
  {
   "cell_type": "code",
   "execution_count": 20,
   "id": "8d7a355f",
   "metadata": {},
   "outputs": [
    {
     "data": {
      "text/plain": [
       "ID                     0\n",
       "name                   4\n",
       "category               0\n",
       "main_category          0\n",
       "currency               0\n",
       "deadline               0\n",
       "goal                   0\n",
       "launched               0\n",
       "pledged                0\n",
       "state                  0\n",
       "backers                0\n",
       "country                0\n",
       "usd pledged         3797\n",
       "usd_pledged_real       0\n",
       "usd_goal_real          0\n",
       "dtype: int64"
      ]
     },
     "execution_count": 20,
     "metadata": {},
     "output_type": "execute_result"
    }
   ],
   "source": [
    "#(\n",
    "#    df\n",
    "#    .isna()\n",
    "#    # apply to columns\n",
    "#    .apply(\n",
    "#        sum, axis=0\n",
    "#    )\n",
    "#)\n",
    "\n",
    "df.isna().sum()"
   ]
  },
  {
   "cell_type": "markdown",
   "id": "f03a8681",
   "metadata": {},
   "source": [
    "Inspect missing on name -- goign to want to filter those out also (missing on ID also)"
   ]
  },
  {
   "cell_type": "code",
   "execution_count": 21,
   "id": "b0acea23",
   "metadata": {},
   "outputs": [
    {
     "data": {
      "text/html": [
       "<div>\n",
       "<style scoped>\n",
       "    .dataframe tbody tr th:only-of-type {\n",
       "        vertical-align: middle;\n",
       "    }\n",
       "\n",
       "    .dataframe tbody tr th {\n",
       "        vertical-align: top;\n",
       "    }\n",
       "\n",
       "    .dataframe thead th {\n",
       "        text-align: right;\n",
       "    }\n",
       "</style>\n",
       "<table border=\"1\" class=\"dataframe\">\n",
       "  <thead>\n",
       "    <tr style=\"text-align: right;\">\n",
       "      <th></th>\n",
       "      <th>ID</th>\n",
       "      <th>name</th>\n",
       "      <th>category</th>\n",
       "      <th>main_category</th>\n",
       "      <th>currency</th>\n",
       "      <th>deadline</th>\n",
       "      <th>goal</th>\n",
       "      <th>launched</th>\n",
       "      <th>pledged</th>\n",
       "      <th>state</th>\n",
       "      <th>backers</th>\n",
       "      <th>country</th>\n",
       "      <th>usd pledged</th>\n",
       "      <th>usd_pledged_real</th>\n",
       "      <th>usd_goal_real</th>\n",
       "    </tr>\n",
       "  </thead>\n",
       "  <tbody>\n",
       "    <tr>\n",
       "      <th>166851</th>\n",
       "      <td>1848699072</td>\n",
       "      <td>NaN</td>\n",
       "      <td>Narrative Film</td>\n",
       "      <td>Film &amp; Video</td>\n",
       "      <td>USD</td>\n",
       "      <td>2012-02-29</td>\n",
       "      <td>200000.0</td>\n",
       "      <td>2012-01-01 12:35:31</td>\n",
       "      <td>100.0</td>\n",
       "      <td>failed</td>\n",
       "      <td>1</td>\n",
       "      <td>US</td>\n",
       "      <td>100.00</td>\n",
       "      <td>100.00</td>\n",
       "      <td>200000.00</td>\n",
       "    </tr>\n",
       "    <tr>\n",
       "      <th>307234</th>\n",
       "      <td>634871725</td>\n",
       "      <td>NaN</td>\n",
       "      <td>Video Games</td>\n",
       "      <td>Games</td>\n",
       "      <td>GBP</td>\n",
       "      <td>2013-01-06</td>\n",
       "      <td>2000.0</td>\n",
       "      <td>2012-12-19 23:57:48</td>\n",
       "      <td>196.0</td>\n",
       "      <td>failed</td>\n",
       "      <td>12</td>\n",
       "      <td>GB</td>\n",
       "      <td>317.73</td>\n",
       "      <td>316.05</td>\n",
       "      <td>3224.97</td>\n",
       "    </tr>\n",
       "    <tr>\n",
       "      <th>309991</th>\n",
       "      <td>648853978</td>\n",
       "      <td>NaN</td>\n",
       "      <td>Product Design</td>\n",
       "      <td>Design</td>\n",
       "      <td>USD</td>\n",
       "      <td>2016-07-18</td>\n",
       "      <td>2500.0</td>\n",
       "      <td>2016-06-18 05:01:47</td>\n",
       "      <td>0.0</td>\n",
       "      <td>suspended</td>\n",
       "      <td>0</td>\n",
       "      <td>US</td>\n",
       "      <td>0.00</td>\n",
       "      <td>0.00</td>\n",
       "      <td>2500.00</td>\n",
       "    </tr>\n",
       "    <tr>\n",
       "      <th>338931</th>\n",
       "      <td>796533179</td>\n",
       "      <td>NaN</td>\n",
       "      <td>Painting</td>\n",
       "      <td>Art</td>\n",
       "      <td>USD</td>\n",
       "      <td>2011-12-05</td>\n",
       "      <td>35000.0</td>\n",
       "      <td>2011-11-06 23:55:55</td>\n",
       "      <td>220.0</td>\n",
       "      <td>failed</td>\n",
       "      <td>5</td>\n",
       "      <td>US</td>\n",
       "      <td>220.00</td>\n",
       "      <td>220.00</td>\n",
       "      <td>35000.00</td>\n",
       "    </tr>\n",
       "  </tbody>\n",
       "</table>\n",
       "</div>"
      ],
      "text/plain": [
       "                ID name        category main_category currency    deadline  \\\n",
       "166851  1848699072  NaN  Narrative Film  Film & Video      USD  2012-02-29   \n",
       "307234   634871725  NaN     Video Games         Games      GBP  2013-01-06   \n",
       "309991   648853978  NaN  Product Design        Design      USD  2016-07-18   \n",
       "338931   796533179  NaN        Painting           Art      USD  2011-12-05   \n",
       "\n",
       "            goal             launched  pledged      state  backers country  \\\n",
       "166851  200000.0  2012-01-01 12:35:31    100.0     failed        1      US   \n",
       "307234    2000.0  2012-12-19 23:57:48    196.0     failed       12      GB   \n",
       "309991    2500.0  2016-06-18 05:01:47      0.0  suspended        0      US   \n",
       "338931   35000.0  2011-11-06 23:55:55    220.0     failed        5      US   \n",
       "\n",
       "        usd pledged  usd_pledged_real  usd_goal_real  \n",
       "166851       100.00            100.00      200000.00  \n",
       "307234       317.73            316.05        3224.97  \n",
       "309991         0.00              0.00        2500.00  \n",
       "338931       220.00            220.00       35000.00  "
      ]
     },
     "execution_count": 21,
     "metadata": {},
     "output_type": "execute_result"
    }
   ],
   "source": [
    "(\n",
    "    df\n",
    "    .loc[\n",
    "        df[\"name\"].isna()\n",
    "    ]\n",
    ")"
   ]
  },
  {
   "cell_type": "code",
   "execution_count": 22,
   "id": "6a8460e9",
   "metadata": {},
   "outputs": [],
   "source": [
    "def pre_cleaning(df):\n",
    "    df = df.copy()\n",
    "    \n",
    "    # 1. Duplicate handling\n",
    "    df.drop_duplicates(inplace=True)\n",
    "    df.drop_duplicates(subset=[\"ID\"], keep = \"first\", inplace=True)\n",
    "\n",
    "    # 2. Out of scope\n",
    "    df = (\n",
    "        df\n",
    "        .loc[\n",
    "            ~df[\"name\"].str.contains(\"Canceled\", case=False, na=False)\n",
    "        ]\n",
    "    )\n",
    "\n",
    "    # only look at clearly successful or failed projects\n",
    "    df = (\n",
    "        df\n",
    "        .loc[\n",
    "            df[\"state\"].isin([\"successful\", \"failed\"])\n",
    "        ]\n",
    "    )\n",
    "\n",
    "    # 3. Missing on key vars\n",
    "    df.dropna(subset=[\"name\", \"ID\"], inplace=True)\n",
    "\n",
    "    return df"
   ]
  },
  {
   "cell_type": "markdown",
   "id": "0d50c141",
   "metadata": {},
   "source": [
    "Try it out"
   ]
  },
  {
   "cell_type": "code",
   "execution_count": 23,
   "id": "fcf3ec21",
   "metadata": {},
   "outputs": [
    {
     "data": {
      "text/html": [
       "<div>\n",
       "<style scoped>\n",
       "    .dataframe tbody tr th:only-of-type {\n",
       "        vertical-align: middle;\n",
       "    }\n",
       "\n",
       "    .dataframe tbody tr th {\n",
       "        vertical-align: top;\n",
       "    }\n",
       "\n",
       "    .dataframe thead th {\n",
       "        text-align: right;\n",
       "    }\n",
       "</style>\n",
       "<table border=\"1\" class=\"dataframe\">\n",
       "  <thead>\n",
       "    <tr style=\"text-align: right;\">\n",
       "      <th></th>\n",
       "      <th>ID</th>\n",
       "      <th>name</th>\n",
       "      <th>category</th>\n",
       "      <th>main_category</th>\n",
       "      <th>currency</th>\n",
       "      <th>deadline</th>\n",
       "      <th>goal</th>\n",
       "      <th>launched</th>\n",
       "      <th>pledged</th>\n",
       "      <th>state</th>\n",
       "      <th>backers</th>\n",
       "      <th>country</th>\n",
       "      <th>usd pledged</th>\n",
       "      <th>usd_pledged_real</th>\n",
       "      <th>usd_goal_real</th>\n",
       "    </tr>\n",
       "  </thead>\n",
       "  <tbody>\n",
       "    <tr>\n",
       "      <th>0</th>\n",
       "      <td>1000002330</td>\n",
       "      <td>The Songs of Adelaide &amp; Abullah</td>\n",
       "      <td>Poetry</td>\n",
       "      <td>Publishing</td>\n",
       "      <td>GBP</td>\n",
       "      <td>2015-10-09</td>\n",
       "      <td>1000.0</td>\n",
       "      <td>2015-08-11 12:12:28</td>\n",
       "      <td>0.0</td>\n",
       "      <td>failed</td>\n",
       "      <td>0</td>\n",
       "      <td>GB</td>\n",
       "      <td>0.0</td>\n",
       "      <td>0.0</td>\n",
       "      <td>1533.95</td>\n",
       "    </tr>\n",
       "    <tr>\n",
       "      <th>1</th>\n",
       "      <td>1000003930</td>\n",
       "      <td>Greeting From Earth: ZGAC Arts Capsule For ET</td>\n",
       "      <td>Narrative Film</td>\n",
       "      <td>Film &amp; Video</td>\n",
       "      <td>USD</td>\n",
       "      <td>2017-11-01</td>\n",
       "      <td>30000.0</td>\n",
       "      <td>2017-09-02 04:43:57</td>\n",
       "      <td>2421.0</td>\n",
       "      <td>failed</td>\n",
       "      <td>15</td>\n",
       "      <td>US</td>\n",
       "      <td>100.0</td>\n",
       "      <td>2421.0</td>\n",
       "      <td>30000.00</td>\n",
       "    </tr>\n",
       "    <tr>\n",
       "      <th>2</th>\n",
       "      <td>1000004038</td>\n",
       "      <td>Where is Hank?</td>\n",
       "      <td>Narrative Film</td>\n",
       "      <td>Film &amp; Video</td>\n",
       "      <td>USD</td>\n",
       "      <td>2013-02-26</td>\n",
       "      <td>45000.0</td>\n",
       "      <td>2013-01-12 00:20:50</td>\n",
       "      <td>220.0</td>\n",
       "      <td>failed</td>\n",
       "      <td>3</td>\n",
       "      <td>US</td>\n",
       "      <td>220.0</td>\n",
       "      <td>220.0</td>\n",
       "      <td>45000.00</td>\n",
       "    </tr>\n",
       "    <tr>\n",
       "      <th>3</th>\n",
       "      <td>1000007540</td>\n",
       "      <td>ToshiCapital Rekordz Needs Help to Complete Album</td>\n",
       "      <td>Music</td>\n",
       "      <td>Music</td>\n",
       "      <td>USD</td>\n",
       "      <td>2012-04-16</td>\n",
       "      <td>5000.0</td>\n",
       "      <td>2012-03-17 03:24:11</td>\n",
       "      <td>1.0</td>\n",
       "      <td>failed</td>\n",
       "      <td>1</td>\n",
       "      <td>US</td>\n",
       "      <td>1.0</td>\n",
       "      <td>1.0</td>\n",
       "      <td>5000.00</td>\n",
       "    </tr>\n",
       "    <tr>\n",
       "      <th>5</th>\n",
       "      <td>1000014025</td>\n",
       "      <td>Monarch Espresso Bar</td>\n",
       "      <td>Restaurants</td>\n",
       "      <td>Food</td>\n",
       "      <td>USD</td>\n",
       "      <td>2016-04-01</td>\n",
       "      <td>50000.0</td>\n",
       "      <td>2016-02-26 13:38:27</td>\n",
       "      <td>52375.0</td>\n",
       "      <td>successful</td>\n",
       "      <td>224</td>\n",
       "      <td>US</td>\n",
       "      <td>52375.0</td>\n",
       "      <td>52375.0</td>\n",
       "      <td>50000.00</td>\n",
       "    </tr>\n",
       "  </tbody>\n",
       "</table>\n",
       "</div>"
      ],
      "text/plain": [
       "           ID                                               name  \\\n",
       "0  1000002330                    The Songs of Adelaide & Abullah   \n",
       "1  1000003930      Greeting From Earth: ZGAC Arts Capsule For ET   \n",
       "2  1000004038                                     Where is Hank?   \n",
       "3  1000007540  ToshiCapital Rekordz Needs Help to Complete Album   \n",
       "5  1000014025                               Monarch Espresso Bar   \n",
       "\n",
       "         category main_category currency    deadline     goal  \\\n",
       "0          Poetry    Publishing      GBP  2015-10-09   1000.0   \n",
       "1  Narrative Film  Film & Video      USD  2017-11-01  30000.0   \n",
       "2  Narrative Film  Film & Video      USD  2013-02-26  45000.0   \n",
       "3           Music         Music      USD  2012-04-16   5000.0   \n",
       "5     Restaurants          Food      USD  2016-04-01  50000.0   \n",
       "\n",
       "              launched  pledged       state  backers country  usd pledged  \\\n",
       "0  2015-08-11 12:12:28      0.0      failed        0      GB          0.0   \n",
       "1  2017-09-02 04:43:57   2421.0      failed       15      US        100.0   \n",
       "2  2013-01-12 00:20:50    220.0      failed        3      US        220.0   \n",
       "3  2012-03-17 03:24:11      1.0      failed        1      US          1.0   \n",
       "5  2016-02-26 13:38:27  52375.0  successful      224      US      52375.0   \n",
       "\n",
       "   usd_pledged_real  usd_goal_real  \n",
       "0               0.0        1533.95  \n",
       "1            2421.0       30000.00  \n",
       "2             220.0       45000.00  \n",
       "3               1.0        5000.00  \n",
       "5           52375.0       50000.00  "
      ]
     },
     "execution_count": 23,
     "metadata": {},
     "output_type": "execute_result"
    }
   ],
   "source": [
    "pre_cleaning(df).head()"
   ]
  },
  {
   "cell_type": "markdown",
   "id": "65d9244e",
   "metadata": {},
   "source": [
    "Looks like we're done with the pre-cleaning stuff (pre-split stuff), but other cleaning steps happen post split:\n",
    "* column drops (redundant, leakage, etc.)\n",
    "* invalid data\n",
    "* type conversions"
   ]
  },
  {
   "cell_type": "markdown",
   "id": "62710ff9",
   "metadata": {},
   "source": [
    "Looking at that, we have some clearly redundant or leakage columns:\n",
    "* goal is not needed -- want usd_goal_real\n",
    "* pledged and usg_pledged_real are going to be leakage (if we know that, might as well know the success)\n",
    "* backers is leakage -- more backers shows progress and is not something we could predict early on\n",
    "\n",
    "Those will go in a cleaning transformer for our pipeline (not row drops). Let's try that now."
   ]
  },
  {
   "cell_type": "code",
   "execution_count": 24,
   "id": "3bcba794",
   "metadata": {},
   "outputs": [],
   "source": [
    "#template\n",
    "class Cleaning(BaseEstimator, TransformerMixin):\n",
    "    def __init__(self):\n",
    "        pass\n",
    "\n",
    "    def fit(self, X, y=None):\n",
    "        return self\n",
    "    \n",
    "    def transform(self, X):\n",
    "        X = X.copy()\n",
    "        return X"
   ]
  },
  {
   "cell_type": "code",
   "execution_count": 25,
   "id": "b255af22",
   "metadata": {},
   "outputs": [],
   "source": [
    "class Cleaning(BaseEstimator, TransformerMixin):\n",
    "    def __init__(self):\n",
    "        self.drop_columns = [\"goal\", \"usd_pledged_real\", \"pledged\"]\n",
    "\n",
    "    def fit(self, X, y=None):\n",
    "        return self\n",
    "    \n",
    "    def transform(self, X):\n",
    "        X = X.copy()\n",
    "        X.drop(columns = self.drop_columns, inplace=True)\n",
    "        return X"
   ]
  },
  {
   "cell_type": "markdown",
   "id": "6799659a",
   "metadata": {},
   "source": [
    "Ok! What about type conversions?"
   ]
  },
  {
   "cell_type": "code",
   "execution_count": 26,
   "id": "54db06e2",
   "metadata": {},
   "outputs": [
    {
     "name": "stdout",
     "output_type": "stream",
     "text": [
      "<class 'pandas.core.frame.DataFrame'>\n",
      "Index: 331666 entries, 0 to 378660\n",
      "Data columns (total 15 columns):\n",
      " #   Column            Non-Null Count   Dtype  \n",
      "---  ------            --------------   -----  \n",
      " 0   ID                331666 non-null  int64  \n",
      " 1   name              331666 non-null  object \n",
      " 2   category          331666 non-null  object \n",
      " 3   main_category     331666 non-null  object \n",
      " 4   currency          331666 non-null  object \n",
      " 5   deadline          331666 non-null  object \n",
      " 6   goal              331666 non-null  float64\n",
      " 7   launched          331666 non-null  object \n",
      " 8   pledged           331666 non-null  float64\n",
      " 9   state             331666 non-null  object \n",
      " 10  backers           331666 non-null  int64  \n",
      " 11  country           331666 non-null  object \n",
      " 12  usd pledged       331456 non-null  float64\n",
      " 13  usd_pledged_real  331666 non-null  float64\n",
      " 14  usd_goal_real     331666 non-null  float64\n",
      "dtypes: float64(5), int64(2), object(8)\n",
      "memory usage: 40.5+ MB\n"
     ]
    }
   ],
   "source": [
    "pre_cleaning(df).info()"
   ]
  },
  {
   "cell_type": "code",
   "execution_count": 27,
   "id": "296ef304",
   "metadata": {},
   "outputs": [
    {
     "data": {
      "text/plain": [
       "0         2015-10-09\n",
       "1         2017-11-01\n",
       "2         2013-02-26\n",
       "3         2012-04-16\n",
       "4         2015-08-29\n",
       "             ...    \n",
       "378656    2014-10-17\n",
       "378657    2011-07-19\n",
       "378658    2010-08-16\n",
       "378659    2016-02-13\n",
       "378660    2011-08-16\n",
       "Name: deadline, Length: 378661, dtype: object"
      ]
     },
     "execution_count": 27,
     "metadata": {},
     "output_type": "execute_result"
    }
   ],
   "source": [
    "df['deadline']"
   ]
  },
  {
   "cell_type": "code",
   "execution_count": 28,
   "id": "ebd99475",
   "metadata": {},
   "outputs": [
    {
     "data": {
      "text/plain": [
       "0         2015-08-11 12:12:28\n",
       "1         2017-09-02 04:43:57\n",
       "2         2013-01-12 00:20:50\n",
       "3         2012-03-17 03:24:11\n",
       "4         2015-07-04 08:35:03\n",
       "                 ...         \n",
       "378656    2014-09-17 02:35:30\n",
       "378657    2011-06-22 03:35:14\n",
       "378658    2010-07-01 19:40:30\n",
       "378659    2016-01-13 18:13:53\n",
       "378660    2011-07-19 09:07:47\n",
       "Name: launched, Length: 378661, dtype: object"
      ]
     },
     "execution_count": 28,
     "metadata": {},
     "output_type": "execute_result"
    }
   ],
   "source": [
    "df['launched']"
   ]
  },
  {
   "cell_type": "markdown",
   "id": "7ab7e4d6",
   "metadata": {},
   "source": [
    "Those should be datetime. Everything else is fine"
   ]
  },
  {
   "cell_type": "code",
   "execution_count": 29,
   "id": "596940af",
   "metadata": {},
   "outputs": [],
   "source": [
    "class Cleaning(BaseEstimator, TransformerMixin):\n",
    "    def __init__(self):\n",
    "        self.drop_columns = [\"goal\", \"usd_pledged_real\", \"pledged\", \"backers\"]\n",
    "        self.date_columns = [\"launched\", \"deadline\"]\n",
    "\n",
    "    def fit(self, X, y=None):\n",
    "        return self\n",
    "    \n",
    "    def transform(self, X):\n",
    "        X = X.copy()\n",
    "\n",
    "        # 4. Drop columns\n",
    "        X.drop(columns = self.drop_columns, inplace=True)\n",
    "\n",
    "        # 5. type conversions\n",
    "        for col_ in self.date_columns:\n",
    "            X[col_] = pd.to_datetime(X[col_], errors = \"coerce\")\n",
    "\n",
    "        return X"
   ]
  },
  {
   "cell_type": "markdown",
   "id": "c6cd0cbb",
   "metadata": {},
   "source": [
    "Lastly, our sixth and final item is invalid data. We can get more at this in a bit, but for now:\n",
    "* our goal should be a positive value\n",
    "* dates shoudl happen in order\n",
    "\n",
    "If that fails, we should make that value np.nan"
   ]
  },
  {
   "cell_type": "code",
   "execution_count": 30,
   "id": "c25249fc",
   "metadata": {},
   "outputs": [],
   "source": [
    "class Cleaning(BaseEstimator, TransformerMixin):\n",
    "    def __init__(self):\n",
    "        self.drop_columns = [\"goal\", \"usd_pledged_real\", \"pledged\", \"backers\"]\n",
    "        self.date_columns = [\"launched\", \"deadline\"]\n",
    "\n",
    "    def fit(self, X, y=None):\n",
    "        return self\n",
    "    \n",
    "    def transform(self, X):\n",
    "        X = X.copy()\n",
    "\n",
    "        # 4. Drop columns\n",
    "        X.drop(columns = self.drop_columns, inplace=True)\n",
    "\n",
    "        # 5. type conversions\n",
    "        for col_ in self.date_columns:\n",
    "            X[col_] = pd.to_datetime(X[col_], errors = \"coerce\")\n",
    "\n",
    "        # 6. invalid data\n",
    "        # index rows with mask, columns with list of names --- assign to the pandas \"not a time\" type\n",
    "        invalid_dates = X[\"deadline\"] < X[\"launched\"]\n",
    "        X.loc[invalid_dates, [\"deadline\", \"launched\"]] = pd.NaT\n",
    "\n",
    "        X[\"usd_goal_real\"] = (\n",
    "            X[\"usd_goal_real\"]\n",
    "            .mask(\n",
    "                X[\"usd_goal_real\"] < 0 #default behavior is to replace true values with np.nan\n",
    "            )\n",
    "        )\n",
    "\n",
    "        return X"
   ]
  },
  {
   "cell_type": "markdown",
   "id": "58e10ab7",
   "metadata": {},
   "source": [
    "## 1.2 - Univariate EDA + Remaining Cleaning + Preprocessing Planning"
   ]
  },
  {
   "cell_type": "markdown",
   "id": "61279a1f",
   "metadata": {},
   "source": [
    "Next we will examine our clean data for anything that might drive row-wise deletion that we missed. We will often look separately at the numeric vs. categorical columns here. \n",
    "\n",
    "We will therefore have to go looking at the distributions of data in each variable. While we're here, we should also begin **planning** (but not executing) on these steps:\n",
    "\n",
    "Cleaning:\n",
    "* Invalid data to repair (post-split, in-pipeline)\n",
    "* Unnecessary columns to drop (post-split, in-pipeline)\n",
    "* Especially leakage columns!! Drop them\n",
    "* Variable types (e.g., string --> datetime) (post-split, in-pipeline)\n",
    "\n",
    "Preprocessing:\n",
    "* Imputation\n",
    "* Scaling\n",
    "* Encoding\n",
    "* Feature engineering\n",
    "\n",
    "Generally, I write code regaridng the first three (cleaning) now, and then I move it to the pipeline in the next step. I also am taking notes regarding preprocessing at this point, but remember we don't go further than that. \n",
    "\n",
    "We want to leave this step with:\n",
    "* Code for raw data cleaning \n",
    "* Thoughts for **preprocessing**:\n",
    "    * Imputation\n",
    "    * Transformation\n",
    "    * Encoding\n",
    "    * Feature engineering\n"
   ]
  },
  {
   "cell_type": "code",
   "execution_count": 31,
   "id": "f214711c",
   "metadata": {},
   "outputs": [
    {
     "name": "stdout",
     "output_type": "stream",
     "text": [
      "<class 'pandas.core.frame.DataFrame'>\n",
      "Index: 331666 entries, 0 to 378660\n",
      "Data columns (total 15 columns):\n",
      " #   Column            Non-Null Count   Dtype  \n",
      "---  ------            --------------   -----  \n",
      " 0   ID                331666 non-null  int64  \n",
      " 1   name              331666 non-null  object \n",
      " 2   category          331666 non-null  object \n",
      " 3   main_category     331666 non-null  object \n",
      " 4   currency          331666 non-null  object \n",
      " 5   deadline          331666 non-null  object \n",
      " 6   goal              331666 non-null  float64\n",
      " 7   launched          331666 non-null  object \n",
      " 8   pledged           331666 non-null  float64\n",
      " 9   state             331666 non-null  object \n",
      " 10  backers           331666 non-null  int64  \n",
      " 11  country           331666 non-null  object \n",
      " 12  usd pledged       331456 non-null  float64\n",
      " 13  usd_pledged_real  331666 non-null  float64\n",
      " 14  usd_goal_real     331666 non-null  float64\n",
      "dtypes: float64(5), int64(2), object(8)\n",
      "memory usage: 40.5+ MB\n"
     ]
    }
   ],
   "source": [
    "pre_cleaning(df).info()"
   ]
  },
  {
   "cell_type": "markdown",
   "id": "e11da85f",
   "metadata": {},
   "source": [
    "Let's take a look at the data again. do we want to drop anything?"
   ]
  },
  {
   "cell_type": "code",
   "execution_count": 32,
   "id": "d641630e",
   "metadata": {},
   "outputs": [
    {
     "data": {
      "text/html": [
       "<div>\n",
       "<style scoped>\n",
       "    .dataframe tbody tr th:only-of-type {\n",
       "        vertical-align: middle;\n",
       "    }\n",
       "\n",
       "    .dataframe tbody tr th {\n",
       "        vertical-align: top;\n",
       "    }\n",
       "\n",
       "    .dataframe thead th {\n",
       "        text-align: right;\n",
       "    }\n",
       "</style>\n",
       "<table border=\"1\" class=\"dataframe\">\n",
       "  <thead>\n",
       "    <tr style=\"text-align: right;\">\n",
       "      <th></th>\n",
       "      <th>ID</th>\n",
       "      <th>name</th>\n",
       "      <th>category</th>\n",
       "      <th>main_category</th>\n",
       "      <th>currency</th>\n",
       "      <th>deadline</th>\n",
       "      <th>goal</th>\n",
       "      <th>launched</th>\n",
       "      <th>pledged</th>\n",
       "      <th>state</th>\n",
       "      <th>backers</th>\n",
       "      <th>country</th>\n",
       "      <th>usd pledged</th>\n",
       "      <th>usd_pledged_real</th>\n",
       "      <th>usd_goal_real</th>\n",
       "    </tr>\n",
       "  </thead>\n",
       "  <tbody>\n",
       "    <tr>\n",
       "      <th>0</th>\n",
       "      <td>1000002330</td>\n",
       "      <td>The Songs of Adelaide &amp; Abullah</td>\n",
       "      <td>Poetry</td>\n",
       "      <td>Publishing</td>\n",
       "      <td>GBP</td>\n",
       "      <td>2015-10-09</td>\n",
       "      <td>1000.0</td>\n",
       "      <td>2015-08-11 12:12:28</td>\n",
       "      <td>0.0</td>\n",
       "      <td>failed</td>\n",
       "      <td>0</td>\n",
       "      <td>GB</td>\n",
       "      <td>0.0</td>\n",
       "      <td>0.0</td>\n",
       "      <td>1533.95</td>\n",
       "    </tr>\n",
       "    <tr>\n",
       "      <th>1</th>\n",
       "      <td>1000003930</td>\n",
       "      <td>Greeting From Earth: ZGAC Arts Capsule For ET</td>\n",
       "      <td>Narrative Film</td>\n",
       "      <td>Film &amp; Video</td>\n",
       "      <td>USD</td>\n",
       "      <td>2017-11-01</td>\n",
       "      <td>30000.0</td>\n",
       "      <td>2017-09-02 04:43:57</td>\n",
       "      <td>2421.0</td>\n",
       "      <td>failed</td>\n",
       "      <td>15</td>\n",
       "      <td>US</td>\n",
       "      <td>100.0</td>\n",
       "      <td>2421.0</td>\n",
       "      <td>30000.00</td>\n",
       "    </tr>\n",
       "    <tr>\n",
       "      <th>2</th>\n",
       "      <td>1000004038</td>\n",
       "      <td>Where is Hank?</td>\n",
       "      <td>Narrative Film</td>\n",
       "      <td>Film &amp; Video</td>\n",
       "      <td>USD</td>\n",
       "      <td>2013-02-26</td>\n",
       "      <td>45000.0</td>\n",
       "      <td>2013-01-12 00:20:50</td>\n",
       "      <td>220.0</td>\n",
       "      <td>failed</td>\n",
       "      <td>3</td>\n",
       "      <td>US</td>\n",
       "      <td>220.0</td>\n",
       "      <td>220.0</td>\n",
       "      <td>45000.00</td>\n",
       "    </tr>\n",
       "    <tr>\n",
       "      <th>3</th>\n",
       "      <td>1000007540</td>\n",
       "      <td>ToshiCapital Rekordz Needs Help to Complete Album</td>\n",
       "      <td>Music</td>\n",
       "      <td>Music</td>\n",
       "      <td>USD</td>\n",
       "      <td>2012-04-16</td>\n",
       "      <td>5000.0</td>\n",
       "      <td>2012-03-17 03:24:11</td>\n",
       "      <td>1.0</td>\n",
       "      <td>failed</td>\n",
       "      <td>1</td>\n",
       "      <td>US</td>\n",
       "      <td>1.0</td>\n",
       "      <td>1.0</td>\n",
       "      <td>5000.00</td>\n",
       "    </tr>\n",
       "    <tr>\n",
       "      <th>5</th>\n",
       "      <td>1000014025</td>\n",
       "      <td>Monarch Espresso Bar</td>\n",
       "      <td>Restaurants</td>\n",
       "      <td>Food</td>\n",
       "      <td>USD</td>\n",
       "      <td>2016-04-01</td>\n",
       "      <td>50000.0</td>\n",
       "      <td>2016-02-26 13:38:27</td>\n",
       "      <td>52375.0</td>\n",
       "      <td>successful</td>\n",
       "      <td>224</td>\n",
       "      <td>US</td>\n",
       "      <td>52375.0</td>\n",
       "      <td>52375.0</td>\n",
       "      <td>50000.00</td>\n",
       "    </tr>\n",
       "  </tbody>\n",
       "</table>\n",
       "</div>"
      ],
      "text/plain": [
       "           ID                                               name  \\\n",
       "0  1000002330                    The Songs of Adelaide & Abullah   \n",
       "1  1000003930      Greeting From Earth: ZGAC Arts Capsule For ET   \n",
       "2  1000004038                                     Where is Hank?   \n",
       "3  1000007540  ToshiCapital Rekordz Needs Help to Complete Album   \n",
       "5  1000014025                               Monarch Espresso Bar   \n",
       "\n",
       "         category main_category currency    deadline     goal  \\\n",
       "0          Poetry    Publishing      GBP  2015-10-09   1000.0   \n",
       "1  Narrative Film  Film & Video      USD  2017-11-01  30000.0   \n",
       "2  Narrative Film  Film & Video      USD  2013-02-26  45000.0   \n",
       "3           Music         Music      USD  2012-04-16   5000.0   \n",
       "5     Restaurants          Food      USD  2016-04-01  50000.0   \n",
       "\n",
       "              launched  pledged       state  backers country  usd pledged  \\\n",
       "0  2015-08-11 12:12:28      0.0      failed        0      GB          0.0   \n",
       "1  2017-09-02 04:43:57   2421.0      failed       15      US        100.0   \n",
       "2  2013-01-12 00:20:50    220.0      failed        3      US        220.0   \n",
       "3  2012-03-17 03:24:11      1.0      failed        1      US          1.0   \n",
       "5  2016-02-26 13:38:27  52375.0  successful      224      US      52375.0   \n",
       "\n",
       "   usd_pledged_real  usd_goal_real  \n",
       "0               0.0        1533.95  \n",
       "1            2421.0       30000.00  \n",
       "2             220.0       45000.00  \n",
       "3               1.0        5000.00  \n",
       "5           52375.0       50000.00  "
      ]
     },
     "execution_count": 32,
     "metadata": {},
     "output_type": "execute_result"
    }
   ],
   "source": [
    "pre_cleaning(df).head()"
   ]
  },
  {
   "cell_type": "markdown",
   "id": "b399b76f",
   "metadata": {},
   "source": [
    "After drops we have already identified\n",
    "\n",
    "Remaining categorical variables are:\n",
    "* main_category\n",
    "* category\n",
    "* currency\n",
    "* country\n",
    "* state (target)\n",
    "\n",
    "Text data we might use nlp on to suss signal\n",
    "* name\n",
    "* category"
   ]
  },
  {
   "cell_type": "code",
   "execution_count": 33,
   "id": "b0a9d700",
   "metadata": {},
   "outputs": [],
   "source": [
    "numeric_cols = [\"usd_goal_real\"]\n",
    "cat_cols = [\"main_category\", \"category\", \"currency\", \"country\", \"state\"]"
   ]
  },
  {
   "cell_type": "markdown",
   "id": "52cd33f9",
   "metadata": {},
   "source": [
    "View the numeric cols in univariate:\n",
    "\n",
    "Wrote this before when i had several numeric columns. nice to see the example however"
   ]
  },
  {
   "cell_type": "code",
   "execution_count": 34,
   "id": "b172af32",
   "metadata": {},
   "outputs": [
    {
     "data": {
      "image/png": "[encoded data removed]",
      "text/plain": [
       "<Figure size 1400x1000 with 1 Axes>"
      ]
     },
     "metadata": {},
     "output_type": "display_data"
    }
   ],
   "source": [
    "axes = df[numeric_cols].hist(bins=50, figsize=(14, 10), edgecolor=\"black\")\n",
    "\n",
    "plt.suptitle(\"Numeric Column Univariate Distributions\", fontsize=16, y=1.02)\n",
    "\n",
    "for col, ax in zip(numeric_cols, axes.flatten()):\n",
    "    ax.grid(True)\n",
    "    ax.set_xlabel(\"Value\", fontsize=9)\n",
    "    ax.set_ylabel(\"Count\", fontsize=9)\n",
    "    \n",
    "    # Show missing % in title\n",
    "    missing_pct = df[col].isna().mean() * 100\n",
    "    ax.set_title(f\"{col} (missing: {missing_pct:.1f}%)\", fontsize=10)\n",
    "\n",
    "    # Add median line\n",
    "    if df[col].notna().sum() > 0:\n",
    "        median = df[col].median()\n",
    "        ax.axvline(median, color=\"red\", linestyle=\"--\", linewidth=1)\n",
    "\n",
    "    ax.tick_params(axis=\"both\", labelsize=8)\n",
    "\n",
    "plt.tight_layout()\n",
    "plt.show()"
   ]
  },
  {
   "cell_type": "markdown",
   "id": "3f860efe",
   "metadata": {},
   "source": [
    "Notes: \n",
    "* Extreme right skew\n",
    "* Most values close to zero\n",
    "\n",
    "Implications: \n",
    "* log1p transform may be better fit for our work\n",
    "* will want to median impute\n",
    "\n",
    "Impossible data:\n",
    "* can't be negative (update cleaning function) -- already implemented"
   ]
  },
  {
   "cell_type": "code",
   "execution_count": 35,
   "id": "919d516f",
   "metadata": {},
   "outputs": [],
   "source": [
    "class FeatureEng(TransformerMixin, BaseEstimator):\n",
    "    def __init__(self):\n",
    "        pass\n",
    "\n",
    "    def fit(self, X, y=None):\n",
    "        return self\n",
    "    \n",
    "    def transform(self, X):\n",
    "        X=X.copy()\n",
    "        \n",
    "        #flag duplicate names\n",
    "        X[\"is_dup_name\"] = (\n",
    "            X[\"name\"]\n",
    "            .duplicated(keep=False) #must set to false to flag all duplicates\n",
    "        )\n",
    "\n",
    "        #transform goal to a log version\n",
    "        # will need to come back and drop original at some point\n",
    "        X[\"log_usd_goal_real\"] = np.log1p(X[\"usd_goal_real\"])\n",
    "        return X"
   ]
  },
  {
   "cell_type": "markdown",
   "id": "d81b787e",
   "metadata": {},
   "source": [
    "Next let's look at the categorical cols."
   ]
  },
  {
   "cell_type": "code",
   "execution_count": 36,
   "id": "6bababd4",
   "metadata": {},
   "outputs": [
    {
     "name": "stdout",
     "output_type": "stream",
     "text": [
      "EXAMINING VARIABLE main_category\n",
      "main_category\n",
      "Film & Video    56525\n",
      "Music           45949\n",
      "Publishing      35442\n",
      "Games           28520\n",
      "Technology      27050\n",
      "Art             25638\n",
      "Design          25364\n",
      "Food            22054\n",
      "Fashion         19775\n",
      "Theater         10242\n",
      "Comics           9878\n",
      "Photography      9689\n",
      "Crafts           7818\n",
      "Journalism       4149\n",
      "Dance            3573\n",
      "Name: count, dtype: int64\n",
      "__________\n",
      "EXAMINING VARIABLE category\n",
      "category\n",
      "Product Design     18680\n",
      "Documentary        14522\n",
      "Music              12633\n",
      "Tabletop Games     11744\n",
      "Shorts             11394\n",
      "                   ...  \n",
      "Residencies           68\n",
      "Letterpress           46\n",
      "Chiptune              33\n",
      "Literary Spaces       19\n",
      "Taxidermy             10\n",
      "Name: count, Length: 159, dtype: int64\n",
      "__________\n",
      "EXAMINING VARIABLE currency\n",
      "currency\n",
      "USD    261504\n",
      "GBP     29475\n",
      "EUR     14377\n",
      "CAD     12375\n",
      "AUD      6621\n",
      "SEK      1510\n",
      "MXN      1411\n",
      "NZD      1274\n",
      "DKK       929\n",
      "CHF       652\n",
      "NOK       584\n",
      "HKD       477\n",
      "SGD       454\n",
      "JPY        23\n",
      "Name: count, dtype: int64\n",
      "__________\n",
      "EXAMINING VARIABLE country\n",
      "country\n",
      "US      261353\n",
      "GB       29453\n",
      "CA       12370\n",
      "AU        6616\n",
      "DE        3436\n",
      "FR        2520\n",
      "NL        2411\n",
      "IT        2369\n",
      "ES        1873\n",
      "SE        1509\n",
      "MX        1411\n",
      "NZ        1274\n",
      "DK         926\n",
      "IE         682\n",
      "CH         652\n",
      "NO         582\n",
      "BE         523\n",
      "AT         485\n",
      "HK         477\n",
      "SG         454\n",
      "N,0\"       210\n",
      "LU          57\n",
      "JP          23\n",
      "Name: count, dtype: int64\n",
      "__________\n",
      "EXAMINING VARIABLE state\n",
      "state\n",
      "failed        197711\n",
      "successful    133955\n",
      "Name: count, dtype: int64\n",
      "__________\n"
     ]
    }
   ],
   "source": [
    "for col in cat_cols:\n",
    "    print(f\"EXAMINING VARIABLE {col}\")\n",
    "    print(pre_cleaning(df)[col].value_counts())\n",
    "    print(\"__________\")"
   ]
  },
  {
   "cell_type": "markdown",
   "id": "b6914469",
   "metadata": {},
   "source": [
    "Notes:\n",
    "* We have one country value that is effectively a corrupt value and refers to a missing entry. There's no reason we can't leave it as is, but in the future, it might be good to call it 'missing' instead.\n",
    "\n",
    "* some category variables are high cardinality\n",
    "    * consider 'other' category + top 10-20 for these"
   ]
  },
  {
   "cell_type": "markdown",
   "id": "0fa9719b",
   "metadata": {},
   "source": [
    "Now examine date cols:"
   ]
  },
  {
   "cell_type": "code",
   "execution_count": 37,
   "id": "4a0cfc23",
   "metadata": {},
   "outputs": [
    {
     "data": {
      "text/plain": [
       "<Axes: >"
      ]
     },
     "execution_count": 37,
     "metadata": {},
     "output_type": "execute_result"
    },
    {
     "data": {
      "image/png": "[encoded data removed]",
      "text/plain": [
       "<Figure size 640x480 with 1 Axes>"
      ]
     },
     "metadata": {},
     "output_type": "display_data"
    }
   ],
   "source": [
    "pd.to_datetime(df['launched']).hist()"
   ]
  },
  {
   "cell_type": "code",
   "execution_count": 38,
   "id": "22ed3a90",
   "metadata": {},
   "outputs": [
    {
     "data": {
      "text/plain": [
       "<Axes: >"
      ]
     },
     "execution_count": 38,
     "metadata": {},
     "output_type": "execute_result"
    },
    {
     "data": {
      "image/png": "[encoded data removed]",
      "text/plain": [
       "<Figure size 640x480 with 1 Axes>"
      ]
     },
     "metadata": {},
     "output_type": "display_data"
    }
   ],
   "source": [
    "pd.to_datetime(df['deadline']).hist()"
   ]
  },
  {
   "cell_type": "markdown",
   "id": "4f4d7a56",
   "metadata": {},
   "source": [
    "Notes:\n",
    "\n",
    "* Cleaning: duration can't be negative (already done)\n",
    "* pre-cleaning: just drop rows with missing dates...imputing seems tricky and possibly not valid\n",
    "* feature engineering -- grab duration, date of week, month, etc."
   ]
  },
  {
   "cell_type": "code",
   "execution_count": 39,
   "id": "58bb2023",
   "metadata": {},
   "outputs": [],
   "source": [
    "def pre_cleaning(df):\n",
    "    df = df.copy()\n",
    "    \n",
    "    # 1. Duplicate handling\n",
    "    df.drop_duplicates(inplace=True)\n",
    "    df.drop_duplicates(subset=[\"ID\"], keep = \"first\", inplace=True)\n",
    "\n",
    "    # 2. Out of scope\n",
    "    df = (\n",
    "        df\n",
    "        .loc[\n",
    "            ~df[\"name\"].str.contains(\"Canceled\", case=False, na=False)\n",
    "        ]\n",
    "    )\n",
    "\n",
    "    # only look at clearly successful or failed projects\n",
    "    df = (\n",
    "        df\n",
    "        .loc[\n",
    "            df[\"state\"].isin([\"successful\", \"failed\"])\n",
    "        ]\n",
    "    )\n",
    "\n",
    "    # 3. Missing on key vars\n",
    "    df.dropna(subset=[\"name\", \"ID\", \"launched\", \"deadline\"], inplace=True)\n",
    "\n",
    "    return df"
   ]
  },
  {
   "cell_type": "code",
   "execution_count": 40,
   "id": "ec26fb0d",
   "metadata": {},
   "outputs": [],
   "source": [
    "class FeatureEng(TransformerMixin, BaseEstimator):\n",
    "    def __init__(self):\n",
    "        pass\n",
    "\n",
    "    def fit(self, X, y=None):\n",
    "        return self\n",
    "    \n",
    "    def transform(self, X):\n",
    "        X=X.copy()\n",
    "        \n",
    "        #flag duplicate names\n",
    "        X[\"is_dup_name\"] = (\n",
    "            X[\"name\"]\n",
    "            .duplicated(keep=False) #must set to false to flag all duplicates\n",
    "        )\n",
    "\n",
    "        #transform goal to a log version\n",
    "        X[\"usd_goal_real\"] = np.log1p(X[\"usd_goal_real\"])\n",
    "\n",
    "        # Duration in days (NaT-safe subtraction)\n",
    "        X[\"duration\"] = (X[\"deadline\"] - X[\"launched\"]).dt.days\n",
    "\n",
    "        # Day of week (0 = Monday, 6 = Sunday)\n",
    "        X[\"launched_dow\"] = X[\"launched\"].dt.dayofweek\n",
    "        X[\"deadline_dow\"] = X[\"deadline\"].dt.dayofweek\n",
    "\n",
    "        # Weekend flags - make 0/1\n",
    "        X[\"launched_is_weekend\"] = X[\"launched_dow\"].isin([5, 6]).astype(int)\n",
    "        X[\"deadline_is_weekend\"] = X[\"deadline_dow\"].isin([5, 6]).astype(int)\n",
    "\n",
    "        return X"
   ]
  },
  {
   "cell_type": "markdown",
   "id": "4c3eb477",
   "metadata": {},
   "source": [
    "## 2. Split Data + Preliminary Pipeline"
   ]
  },
  {
   "cell_type": "markdown",
   "id": "62bde3a4",
   "metadata": {},
   "source": [
    "Next, we will repackage that into a pipeline so we have the base architecture to work with.\n",
    "1. Cleaning function runs before pipeline, does any row dropping. So .. half of our cleaning function\n",
    "2. Split data\n",
    "3. Clean y\n",
    "4. Rest of cleaning comes as part of pipeline So... other half of our cleaning function\n",
    "\n",
    "This will do a couple good things for us. First, it ensures the data is split so we can do EDA. Second, it ensures that the split and cleaning steps happen in such a way that we can USE this later and not have to re-split or re-do everything. "
   ]
  },
  {
   "cell_type": "code",
   "execution_count": 41,
   "id": "fc5042d8",
   "metadata": {},
   "outputs": [
    {
     "name": "stderr",
     "output_type": "stream",
     "text": [
      "/var/folders/bj/45wmvwcj3njb1xt57ps1k86r0000gn/T/ipykernel_20822/3575747646.py:42: FutureWarning: Downcasting behavior in `replace` is deprecated and will be removed in a future version. To retain the old behavior, explicitly call `result.infer_objects(copy=False)`. To opt-in to the future behavior, set `pd.set_option('future.no_silent_downcasting', True)`\n",
      "  .replace({\"failed\": 0, \"successful\": 1})\n",
      "/var/folders/bj/45wmvwcj3njb1xt57ps1k86r0000gn/T/ipykernel_20822/3575747646.py:42: FutureWarning: Downcasting behavior in `replace` is deprecated and will be removed in a future version. To retain the old behavior, explicitly call `result.infer_objects(copy=False)`. To opt-in to the future behavior, set `pd.set_option('future.no_silent_downcasting', True)`\n",
      "  .replace({\"failed\": 0, \"successful\": 1})\n"
     ]
    }
   ],
   "source": [
    "def pre_cleaning(df):\n",
    "    df = df.copy()\n",
    "    \n",
    "    # 1. Duplicate handling\n",
    "    df.drop_duplicates(inplace=True)\n",
    "    df.drop_duplicates(subset=[\"ID\"], keep = \"first\", inplace=True)\n",
    "\n",
    "    # 2. Out of scope\n",
    "    df = (\n",
    "        df\n",
    "        .loc[\n",
    "            ~df[\"name\"].str.contains(\"Canceled\", case=False, na=False)\n",
    "        ]\n",
    "    )\n",
    "\n",
    "    # only look at clearly successful or failed projects\n",
    "    df = (\n",
    "        df\n",
    "        .loc[\n",
    "            df[\"state\"].isin([\"successful\", \"failed\"])\n",
    "        ]\n",
    "    )\n",
    "\n",
    "    # 3. Missing on key vars\n",
    "    df.dropna(subset=[\"name\", \"ID\", \"launched\", \"deadline\"], inplace=True)\n",
    "\n",
    "    return df\n",
    "\n",
    "# Clean data\n",
    "df_clean = pre_cleaning(df)\n",
    "\n",
    "# Split data\n",
    "X = df_clean.drop(columns=[\"state\"])\n",
    "y = df_clean[\"state\"]\n",
    "X_train, X_test, y_train, y_test = train_test_split(X, y, stratify=y, test_size=.20, random_state=42)\n",
    "\n",
    "# Clean y variable to be numeric\n",
    "def clean_y(input: pd.Series) -> pd.Series:\n",
    "    \"\"\"Converts y variable values to binary 1/0 for prediction\"\"\"\n",
    "    return (\n",
    "        input\n",
    "        .replace({\"failed\": 0, \"successful\": 1})\n",
    "        .astype(\"int\")\n",
    "    )\n",
    "y_train = clean_y(y_train)\n",
    "y_test = clean_y(y_test)\n",
    "\n",
    "# Custom Pipeline Classes for Rest of Cleaning\n",
    "class Cleaning(BaseEstimator, TransformerMixin):\n",
    "    def __init__(self):\n",
    "        self.drop_columns = [\"goal\", \"usd_pledged_real\", \"pledged\", \"backers\", \"usd pledged\"]\n",
    "        self.date_columns = [\"launched\", \"deadline\"]\n",
    "\n",
    "    def fit(self, X, y=None):\n",
    "        return self\n",
    "    \n",
    "    def transform(self, X):\n",
    "        X = X.copy()\n",
    "\n",
    "        # 4. Drop columns\n",
    "        X.drop(columns = self.drop_columns, inplace=True)\n",
    "\n",
    "        # 5. type conversions\n",
    "        for col_ in self.date_columns:\n",
    "            X[col_] = pd.to_datetime(X[col_], errors = \"coerce\")\n",
    "\n",
    "        # 6. invalid data\n",
    "        # index rows with mask, columns with list of names --- assign to the pandas \"not a time\" type\n",
    "        invalid_dates = X[\"deadline\"] < X[\"launched\"]\n",
    "        X.loc[invalid_dates, [\"deadline\", \"launched\"]] = pd.NaT\n",
    "\n",
    "        X[\"usd_goal_real\"] = (\n",
    "            X[\"usd_goal_real\"]\n",
    "            .mask(\n",
    "                X[\"usd_goal_real\"] < 0 #default behavior is to replace true values with np.nan\n",
    "            )\n",
    "        )\n",
    "\n",
    "        return X\n",
    "    \n",
    "class FeatureEng(TransformerMixin, BaseEstimator):\n",
    "    def __init__(self):\n",
    "        pass\n",
    "\n",
    "    def fit(self, X, y=None):\n",
    "        return self\n",
    "    \n",
    "    def transform(self, X):\n",
    "        X=X.copy()\n",
    "        \n",
    "        #flag duplicate names\n",
    "        X[\"is_dup_name\"] = (\n",
    "            X[\"name\"]\n",
    "            .duplicated(keep=False) #must set to false to flag all duplicates\n",
    "        )\n",
    "\n",
    "        #transform goal to a log version\n",
    "        X[\"usd_goal_real\"] = np.log1p(X[\"usd_goal_real\"])\n",
    "\n",
    "        # Duration in days (NaT-safe subtraction)\n",
    "        X[\"duration\"] = (X[\"deadline\"] - X[\"launched\"]).dt.days\n",
    "\n",
    "        # Day of week (0 = Monday, 6 = Sunday)\n",
    "        X[\"launched_dow\"] = X[\"launched\"].dt.dayofweek\n",
    "        X[\"deadline_dow\"] = X[\"deadline\"].dt.dayofweek\n",
    "\n",
    "        # Weekend flags - make 0/1\n",
    "        X[\"launched_is_weekend\"] = X[\"launched_dow\"].isin([5, 6]).astype(int)\n",
    "        X[\"deadline_is_weekend\"] = X[\"deadline_dow\"].isin([5, 6]).astype(int)\n",
    "\n",
    "        return X\n",
    "\n",
    "    \n",
    "# Make Pipeline -- No Model Yet\n",
    "pipeline = Pipeline(steps = [\n",
    "    (\"clean\", Cleaning()),\n",
    "    (\"fe\", FeatureEng()),\n",
    "    (\"preproc\", ColumnTransformer(\n",
    "        transformers=[\n",
    "            (\"imp\", SimpleImputer(strategy = \"median\"), [\n",
    "                \"usd_goal_real\", \"is_dup_name\" #not imputing day stuff as dropping rows with missing dates\n",
    "                ])\n",
    "            #(\"scal\", StandardScaler(), numeric_features), \n",
    "            #(\"cat\", OneHotEncoder(handle_unknown=\"ignore\"), categorical_features)\n",
    "        ],\n",
    "        remainder=\"passthrough\" #ensures that other columns aren't dropped\n",
    "    ))\n",
    "\n",
    "])\n",
    "\n",
    "X_train = pipeline.fit_transform(X_train)\n",
    "X_test = pipeline.transform(X_test)\n",
    "\n",
    "# those will be arrays--make a df version\n",
    "# go to last named step\n",
    "preproc = pipeline.named_steps[\"preproc\"]\n",
    "feature_names = preproc.get_feature_names_out()\n",
    "feature_names = [name.replace(\"remainder__\", \"\") for name in feature_names]\n",
    "feature_names = [name.replace(\"imp__\", \"\") for name in feature_names]\n",
    "X_explore = pd.DataFrame(X_train, columns=feature_names)\n",
    "\n",
    "#add y_train back in, but pass to numpy first to avoid index alignment\n",
    "X_explore = pd.concat([\n",
    "    X_explore, \n",
    "    pd.Series(y_train.to_numpy(), name=\"state\")\n",
    "    ], axis=1)\n",
    "\n",
    "for col_ in [\"usd_goal_real\", \"duration\"]:\n",
    "    X_explore[col_] = X_explore[col_].astype(float)\n",
    "\n",
    "for col_ in [\"launched_dow\", \"deadline_dow\", \"is_dup_name\", \"launched_is_weekend\", \"deadline_is_weekend\"]:\n",
    "    X_explore[col_] = X_explore[col_].astype(int)"
   ]
  },
  {
   "cell_type": "markdown",
   "id": "47afbcb9",
   "metadata": {},
   "source": [
    "Confirm X_explore has correct columns -- but type converseion needed"
   ]
  },
  {
   "cell_type": "code",
   "execution_count": 42,
   "id": "480fad8e",
   "metadata": {},
   "outputs": [
    {
     "name": "stdout",
     "output_type": "stream",
     "text": [
      "<class 'pandas.core.frame.DataFrame'>\n",
      "RangeIndex: 265332 entries, 0 to 265331\n",
      "Data columns (total 16 columns):\n",
      " #   Column               Non-Null Count   Dtype         \n",
      "---  ------               --------------   -----         \n",
      " 0   usd_goal_real        265332 non-null  float64       \n",
      " 1   is_dup_name          265332 non-null  int64         \n",
      " 2   ID                   265332 non-null  object        \n",
      " 3   name                 265332 non-null  object        \n",
      " 4   category             265332 non-null  object        \n",
      " 5   main_category        265332 non-null  object        \n",
      " 6   currency             265332 non-null  object        \n",
      " 7   deadline             265332 non-null  datetime64[ns]\n",
      " 8   launched             265332 non-null  datetime64[ns]\n",
      " 9   country              265332 non-null  object        \n",
      " 10  duration             265332 non-null  float64       \n",
      " 11  launched_dow         265332 non-null  int64         \n",
      " 12  deadline_dow         265332 non-null  int64         \n",
      " 13  launched_is_weekend  265332 non-null  int64         \n",
      " 14  deadline_is_weekend  265332 non-null  int64         \n",
      " 15  state                265332 non-null  int64         \n",
      "dtypes: datetime64[ns](2), float64(2), int64(6), object(6)\n",
      "memory usage: 32.4+ MB\n"
     ]
    }
   ],
   "source": [
    "X_explore.info()"
   ]
  },
  {
   "cell_type": "code",
   "execution_count": 43,
   "id": "57e1b77d",
   "metadata": {},
   "outputs": [
    {
     "data": {
      "text/plain": [
       "Index(['usd_goal_real', 'is_dup_name', 'ID', 'name', 'category',\n",
       "       'main_category', 'currency', 'deadline', 'launched', 'country',\n",
       "       'duration', 'launched_dow', 'deadline_dow', 'launched_is_weekend',\n",
       "       'deadline_is_weekend', 'state'],\n",
       "      dtype='object')"
      ]
     },
     "execution_count": 43,
     "metadata": {},
     "output_type": "execute_result"
    }
   ],
   "source": [
    "X_explore.columns"
   ]
  },
  {
   "cell_type": "markdown",
   "id": "6831bc6a",
   "metadata": {},
   "source": [
    "## 3. Multivariable EDA + Transformers"
   ]
  },
  {
   "cell_type": "markdown",
   "id": "b07fa150",
   "metadata": {},
   "source": [
    "Let's explore what we can do with X_explore"
   ]
  },
  {
   "cell_type": "code",
   "execution_count": 44,
   "id": "e36799f5",
   "metadata": {},
   "outputs": [
    {
     "data": {
      "text/html": [
       "<div>\n",
       "<style scoped>\n",
       "    .dataframe tbody tr th:only-of-type {\n",
       "        vertical-align: middle;\n",
       "    }\n",
       "\n",
       "    .dataframe tbody tr th {\n",
       "        vertical-align: top;\n",
       "    }\n",
       "\n",
       "    .dataframe thead th {\n",
       "        text-align: right;\n",
       "    }\n",
       "</style>\n",
       "<table border=\"1\" class=\"dataframe\">\n",
       "  <thead>\n",
       "    <tr style=\"text-align: right;\">\n",
       "      <th></th>\n",
       "      <th>state</th>\n",
       "      <th>usd_goal_real</th>\n",
       "    </tr>\n",
       "  </thead>\n",
       "  <tbody>\n",
       "    <tr>\n",
       "      <th>state</th>\n",
       "      <td>1.000000</td>\n",
       "      <td>-0.223711</td>\n",
       "    </tr>\n",
       "    <tr>\n",
       "      <th>usd_goal_real</th>\n",
       "      <td>-0.223711</td>\n",
       "      <td>1.000000</td>\n",
       "    </tr>\n",
       "  </tbody>\n",
       "</table>\n",
       "</div>"
      ],
      "text/plain": [
       "                  state  usd_goal_real\n",
       "state          1.000000      -0.223711\n",
       "usd_goal_real -0.223711       1.000000"
      ]
     },
     "execution_count": 44,
     "metadata": {},
     "output_type": "execute_result"
    }
   ],
   "source": [
    "(\n",
    "    X_explore[['state', 'usd_goal_real']]\n",
    "    .corr()\n",
    "    )"
   ]
  },
  {
   "cell_type": "markdown",
   "id": "5983d4e9",
   "metadata": {},
   "source": [
    "Is that sig?"
   ]
  },
  {
   "cell_type": "code",
   "execution_count": 45,
   "id": "16c45822",
   "metadata": {},
   "outputs": [
    {
     "name": "stdout",
     "output_type": "stream",
     "text": [
      "SignificanceResult(statistic=np.float64(-0.2237111420719242), pvalue=np.float64(0.0))\n"
     ]
    }
   ],
   "source": [
    "from scipy.stats import pointbiserialr\n",
    "\n",
    "print(\n",
    "    pointbiserialr(X_explore[\"state\"], X_explore[\"usd_goal_real\"])\n",
    ")"
   ]
  },
  {
   "cell_type": "markdown",
   "id": "190a3e0b",
   "metadata": {},
   "source": [
    "Ever so slight pattern--if you have a larger goal, you are SLIGHTLY less likely to win\n",
    "\n",
    "Does that vary by main category?"
   ]
  },
  {
   "cell_type": "code",
   "execution_count": 46,
   "id": "abbe8231",
   "metadata": {},
   "outputs": [
    {
     "name": "stderr",
     "output_type": "stream",
     "text": [
      "/var/folders/bj/45wmvwcj3njb1xt57ps1k86r0000gn/T/ipykernel_20822/2291068405.py:5: FutureWarning: DataFrameGroupBy.apply operated on the grouping columns. This behavior is deprecated, and in a future version of pandas the grouping columns will be excluded from the operation. Either pass `include_groups=False` to exclude the groupings or explicitly select the grouping columns after groupby to silence this warning.\n",
      "  .apply(lambda g: sm.stats.DescrStatsW(g[\"state\"]).tconfint_mean())\n"
     ]
    },
    {
     "data": {
      "text/html": [
       "<div>\n",
       "<style scoped>\n",
       "    .dataframe tbody tr th:only-of-type {\n",
       "        vertical-align: middle;\n",
       "    }\n",
       "\n",
       "    .dataframe tbody tr th {\n",
       "        vertical-align: top;\n",
       "    }\n",
       "\n",
       "    .dataframe thead th {\n",
       "        text-align: right;\n",
       "    }\n",
       "</style>\n",
       "<table border=\"1\" class=\"dataframe\">\n",
       "  <thead>\n",
       "    <tr style=\"text-align: right;\">\n",
       "      <th></th>\n",
       "      <th>lower</th>\n",
       "      <th>upper</th>\n",
       "      <th>mean</th>\n",
       "    </tr>\n",
       "    <tr>\n",
       "      <th>main_category</th>\n",
       "      <th></th>\n",
       "      <th></th>\n",
       "      <th></th>\n",
       "    </tr>\n",
       "  </thead>\n",
       "  <tbody>\n",
       "    <tr>\n",
       "      <th>Art</th>\n",
       "      <td>0.441627</td>\n",
       "      <td>0.455269</td>\n",
       "      <td>0.448448</td>\n",
       "    </tr>\n",
       "    <tr>\n",
       "      <th>Comics</th>\n",
       "      <td>0.581490</td>\n",
       "      <td>0.603126</td>\n",
       "      <td>0.592308</td>\n",
       "    </tr>\n",
       "    <tr>\n",
       "      <th>Crafts</th>\n",
       "      <td>0.260377</td>\n",
       "      <td>0.282407</td>\n",
       "      <td>0.271392</td>\n",
       "    </tr>\n",
       "    <tr>\n",
       "      <th>Dance</th>\n",
       "      <td>0.641584</td>\n",
       "      <td>0.676359</td>\n",
       "      <td>0.658972</td>\n",
       "    </tr>\n",
       "    <tr>\n",
       "      <th>Design</th>\n",
       "      <td>0.407462</td>\n",
       "      <td>0.421022</td>\n",
       "      <td>0.414242</td>\n",
       "    </tr>\n",
       "    <tr>\n",
       "      <th>Fashion</th>\n",
       "      <td>0.276653</td>\n",
       "      <td>0.290686</td>\n",
       "      <td>0.283670</td>\n",
       "    </tr>\n",
       "    <tr>\n",
       "      <th>Film &amp; Video</th>\n",
       "      <td>0.411997</td>\n",
       "      <td>0.421079</td>\n",
       "      <td>0.416538</td>\n",
       "    </tr>\n",
       "    <tr>\n",
       "      <th>Food</th>\n",
       "      <td>0.269132</td>\n",
       "      <td>0.282319</td>\n",
       "      <td>0.275725</td>\n",
       "    </tr>\n",
       "    <tr>\n",
       "      <th>Games</th>\n",
       "      <td>0.433533</td>\n",
       "      <td>0.446411</td>\n",
       "      <td>0.439972</td>\n",
       "    </tr>\n",
       "    <tr>\n",
       "      <th>Journalism</th>\n",
       "      <td>0.229965</td>\n",
       "      <td>0.259205</td>\n",
       "      <td>0.244585</td>\n",
       "    </tr>\n",
       "    <tr>\n",
       "      <th>Music</th>\n",
       "      <td>0.522041</td>\n",
       "      <td>0.532262</td>\n",
       "      <td>0.527151</td>\n",
       "    </tr>\n",
       "    <tr>\n",
       "      <th>Photography</th>\n",
       "      <td>0.333084</td>\n",
       "      <td>0.354246</td>\n",
       "      <td>0.343665</td>\n",
       "    </tr>\n",
       "    <tr>\n",
       "      <th>Publishing</th>\n",
       "      <td>0.340732</td>\n",
       "      <td>0.351798</td>\n",
       "      <td>0.346265</td>\n",
       "    </tr>\n",
       "    <tr>\n",
       "      <th>Technology</th>\n",
       "      <td>0.233837</td>\n",
       "      <td>0.245200</td>\n",
       "      <td>0.239518</td>\n",
       "    </tr>\n",
       "    <tr>\n",
       "      <th>Theater</th>\n",
       "      <td>0.631182</td>\n",
       "      <td>0.652022</td>\n",
       "      <td>0.641602</td>\n",
       "    </tr>\n",
       "  </tbody>\n",
       "</table>\n",
       "</div>"
      ],
      "text/plain": [
       "                  lower     upper      mean\n",
       "main_category                              \n",
       "Art            0.441627  0.455269  0.448448\n",
       "Comics         0.581490  0.603126  0.592308\n",
       "Crafts         0.260377  0.282407  0.271392\n",
       "Dance          0.641584  0.676359  0.658972\n",
       "Design         0.407462  0.421022  0.414242\n",
       "Fashion        0.276653  0.290686  0.283670\n",
       "Film & Video   0.411997  0.421079  0.416538\n",
       "Food           0.269132  0.282319  0.275725\n",
       "Games          0.433533  0.446411  0.439972\n",
       "Journalism     0.229965  0.259205  0.244585\n",
       "Music          0.522041  0.532262  0.527151\n",
       "Photography    0.333084  0.354246  0.343665\n",
       "Publishing     0.340732  0.351798  0.346265\n",
       "Technology     0.233837  0.245200  0.239518\n",
       "Theater        0.631182  0.652022  0.641602"
      ]
     },
     "execution_count": 46,
     "metadata": {},
     "output_type": "execute_result"
    }
   ],
   "source": [
    "means = (\n",
    "    X_explore\n",
    "    .groupby(\"main_category\")\n",
    "    # \"For each group of rows with the same main_category, apply this function to the sub-DataFrame g and return the result.\"\n",
    "    .apply(lambda g: sm.stats.DescrStatsW(g[\"state\"]).tconfint_mean())\n",
    "    .apply(pd.Series)\n",
    ")\n",
    "\n",
    "means.columns = [\"lower\", \"upper\"]\n",
    "means[\"mean\"] = X_explore.groupby(\"main_category\")[\"state\"].mean()\n",
    "\n",
    "means"
   ]
  },
  {
   "cell_type": "markdown",
   "id": "f90a0a20",
   "metadata": {},
   "source": [
    "Lots of variability across main categories!!\n",
    "\n",
    "That's a wald interval (using mean / t for proportions)\n",
    "\n",
    "Try a true correct CI"
   ]
  },
  {
   "cell_type": "code",
   "execution_count": 47,
   "id": "fddb4077",
   "metadata": {},
   "outputs": [
    {
     "data": {
      "text/html": [
       "<div>\n",
       "<style scoped>\n",
       "    .dataframe tbody tr th:only-of-type {\n",
       "        vertical-align: middle;\n",
       "    }\n",
       "\n",
       "    .dataframe tbody tr th {\n",
       "        vertical-align: top;\n",
       "    }\n",
       "\n",
       "    .dataframe thead th {\n",
       "        text-align: right;\n",
       "    }\n",
       "</style>\n",
       "<table border=\"1\" class=\"dataframe\">\n",
       "  <thead>\n",
       "    <tr style=\"text-align: right;\">\n",
       "      <th></th>\n",
       "      <th>prop</th>\n",
       "      <th>lower</th>\n",
       "      <th>upper</th>\n",
       "      <th>n</th>\n",
       "    </tr>\n",
       "    <tr>\n",
       "      <th>main_category</th>\n",
       "      <th></th>\n",
       "      <th></th>\n",
       "      <th></th>\n",
       "      <th></th>\n",
       "    </tr>\n",
       "  </thead>\n",
       "  <tbody>\n",
       "    <tr>\n",
       "      <th>Art</th>\n",
       "      <td>0.448448</td>\n",
       "      <td>0.441638</td>\n",
       "      <td>0.455277</td>\n",
       "      <td>20426</td>\n",
       "    </tr>\n",
       "    <tr>\n",
       "      <th>Comics</th>\n",
       "      <td>0.592308</td>\n",
       "      <td>0.581450</td>\n",
       "      <td>0.603076</td>\n",
       "      <td>7930</td>\n",
       "    </tr>\n",
       "    <tr>\n",
       "      <th>Crafts</th>\n",
       "      <td>0.271392</td>\n",
       "      <td>0.260523</td>\n",
       "      <td>0.282542</td>\n",
       "      <td>6264</td>\n",
       "    </tr>\n",
       "    <tr>\n",
       "      <th>Dance</th>\n",
       "      <td>0.658972</td>\n",
       "      <td>0.641392</td>\n",
       "      <td>0.676125</td>\n",
       "      <td>2859</td>\n",
       "    </tr>\n",
       "    <tr>\n",
       "      <th>Design</th>\n",
       "      <td>0.414242</td>\n",
       "      <td>0.407479</td>\n",
       "      <td>0.421038</td>\n",
       "      <td>20278</td>\n",
       "    </tr>\n",
       "    <tr>\n",
       "      <th>Fashion</th>\n",
       "      <td>0.283670</td>\n",
       "      <td>0.276707</td>\n",
       "      <td>0.290737</td>\n",
       "      <td>15860</td>\n",
       "    </tr>\n",
       "    <tr>\n",
       "      <th>Film &amp; Video</th>\n",
       "      <td>0.416538</td>\n",
       "      <td>0.412004</td>\n",
       "      <td>0.421086</td>\n",
       "      <td>45278</td>\n",
       "    </tr>\n",
       "    <tr>\n",
       "      <th>Food</th>\n",
       "      <td>0.275725</td>\n",
       "      <td>0.269182</td>\n",
       "      <td>0.282367</td>\n",
       "      <td>17648</td>\n",
       "    </tr>\n",
       "    <tr>\n",
       "      <th>Games</th>\n",
       "      <td>0.439972</td>\n",
       "      <td>0.433544</td>\n",
       "      <td>0.446420</td>\n",
       "      <td>22831</td>\n",
       "    </tr>\n",
       "    <tr>\n",
       "      <th>Journalism</th>\n",
       "      <td>0.244585</td>\n",
       "      <td>0.230273</td>\n",
       "      <td>0.259487</td>\n",
       "      <td>3324</td>\n",
       "    </tr>\n",
       "    <tr>\n",
       "      <th>Music</th>\n",
       "      <td>0.527151</td>\n",
       "      <td>0.522038</td>\n",
       "      <td>0.532258</td>\n",
       "      <td>36665</td>\n",
       "    </tr>\n",
       "    <tr>\n",
       "      <th>Photography</th>\n",
       "      <td>0.343665</td>\n",
       "      <td>0.333167</td>\n",
       "      <td>0.354319</td>\n",
       "      <td>7743</td>\n",
       "    </tr>\n",
       "    <tr>\n",
       "      <th>Publishing</th>\n",
       "      <td>0.346265</td>\n",
       "      <td>0.340753</td>\n",
       "      <td>0.351818</td>\n",
       "      <td>28406</td>\n",
       "    </tr>\n",
       "    <tr>\n",
       "      <th>Technology</th>\n",
       "      <td>0.239518</td>\n",
       "      <td>0.233884</td>\n",
       "      <td>0.245245</td>\n",
       "      <td>21681</td>\n",
       "    </tr>\n",
       "    <tr>\n",
       "      <th>Theater</th>\n",
       "      <td>0.641602</td>\n",
       "      <td>0.631120</td>\n",
       "      <td>0.651951</td>\n",
       "      <td>8139</td>\n",
       "    </tr>\n",
       "  </tbody>\n",
       "</table>\n",
       "</div>"
      ],
      "text/plain": [
       "                   prop     lower     upper      n\n",
       "main_category                                     \n",
       "Art            0.448448  0.441638  0.455277  20426\n",
       "Comics         0.592308  0.581450  0.603076   7930\n",
       "Crafts         0.271392  0.260523  0.282542   6264\n",
       "Dance          0.658972  0.641392  0.676125   2859\n",
       "Design         0.414242  0.407479  0.421038  20278\n",
       "Fashion        0.283670  0.276707  0.290737  15860\n",
       "Film & Video   0.416538  0.412004  0.421086  45278\n",
       "Food           0.275725  0.269182  0.282367  17648\n",
       "Games          0.439972  0.433544  0.446420  22831\n",
       "Journalism     0.244585  0.230273  0.259487   3324\n",
       "Music          0.527151  0.522038  0.532258  36665\n",
       "Photography    0.343665  0.333167  0.354319   7743\n",
       "Publishing     0.346265  0.340753  0.351818  28406\n",
       "Technology     0.239518  0.233884  0.245245  21681\n",
       "Theater        0.641602  0.631120  0.651951   8139"
      ]
     },
     "execution_count": 47,
     "metadata": {},
     "output_type": "execute_result"
    }
   ],
   "source": [
    "from statsmodels.stats.proportion import proportion_confint\n",
    "\n",
    "# Count successes and total in each group\n",
    "counts = X_explore.groupby(\"main_category\")[\"state\"].sum()\n",
    "n = X_explore.groupby(\"main_category\")[\"state\"].count()\n",
    "\n",
    "# Wilson CI (recommended)\n",
    "lower, upper = proportion_confint(counts, n, alpha=0.05, method=\"wilson\")\n",
    "\n",
    "# Combine into DataFrame\n",
    "means = pd.DataFrame({\n",
    "    \"prop\": counts / n,\n",
    "    \"lower\": lower,\n",
    "    \"upper\": upper,\n",
    "    \"n\": n\n",
    "})\n",
    "\n",
    "means\n"
   ]
  },
  {
   "cell_type": "code",
   "execution_count": 48,
   "id": "de215a26",
   "metadata": {},
   "outputs": [
    {
     "data": {
      "image/png": "[encoded data removed]",
      "text/plain": [
       "<Figure size 1000x600 with 1 Axes>"
      ]
     },
     "metadata": {},
     "output_type": "display_data"
    }
   ],
   "source": [
    "# Step 1: Sort the DataFrame by proportion descending\n",
    "means_sorted = means.sort_values(\"prop\", ascending=False).reset_index()\n",
    "\n",
    "# Step 2: Plot\n",
    "plt.figure(figsize=(10, 6))\n",
    "\n",
    "sns.barplot(\n",
    "    data=means_sorted,\n",
    "    x=\"main_category\",\n",
    "    y=\"prop\",\n",
    "    color=\"skyblue\",\n",
    "    edgecolor=\"black\"\n",
    ")\n",
    "\n",
    "# Step 3: Add error bars (CIs)\n",
    "plt.errorbar(\n",
    "    x=range(len(means_sorted)),\n",
    "    y=means_sorted[\"prop\"],\n",
    "    yerr=[\n",
    "        means_sorted[\"prop\"] - means_sorted[\"lower\"],\n",
    "        means_sorted[\"upper\"] - means_sorted[\"prop\"]\n",
    "    ],\n",
    "    fmt=\"none\",\n",
    "    c=\"black\",\n",
    "    capsize=5,\n",
    "    linewidth=1.2\n",
    ")\n",
    "\n",
    "# Step 4: Style\n",
    "plt.xticks(rotation=45, ha=\"right\")\n",
    "plt.ylabel(\"Proportion Successful (with 95% CI)\")\n",
    "plt.xlabel(\"Main Category\")\n",
    "plt.title(\"Success Rate by Main Category with Wilson CIs\")\n",
    "plt.tight_layout()\n",
    "plt.show()\n"
   ]
  },
  {
   "cell_type": "code",
   "execution_count": 49,
   "id": "4d7e79ab",
   "metadata": {},
   "outputs": [
    {
     "data": {
      "text/plain": [
       "0          8.516993\n",
       "1          9.923331\n",
       "2          8.987322\n",
       "3          6.689002\n",
       "4         10.819798\n",
       "            ...    \n",
       "265327     9.685137\n",
       "265328    10.463132\n",
       "265329    10.072321\n",
       "265330    10.819798\n",
       "265331     8.294300\n",
       "Name: usd_goal_real, Length: 265332, dtype: float64"
      ]
     },
     "execution_count": 49,
     "metadata": {},
     "output_type": "execute_result"
    }
   ],
   "source": [
    "X_explore[\"usd_goal_real\"]"
   ]
  },
  {
   "cell_type": "code",
   "execution_count": 50,
   "id": "dae9ab84",
   "metadata": {},
   "outputs": [
    {
     "data": {
      "image/png": "[encoded data removed]",
      "text/plain": [
       "<Figure size 1000x600 with 1 Axes>"
      ]
     },
     "metadata": {},
     "output_type": "display_data"
    }
   ],
   "source": [
    "# Make a fisher correlation CI function\n",
    "def correlation_ci(x, y, alpha=0.05):\n",
    "    x = np.asarray(x)\n",
    "    y = np.asarray(y)\n",
    "    mask = ~np.isnan(x) & ~np.isnan(y)\n",
    "    x = x[mask]\n",
    "    y = y[mask]\n",
    "    n = len(x)\n",
    "\n",
    "    r, p = pointbiserialr(x, y)\n",
    "    if np.abs(r) == 1 or n < 4:\n",
    "        # Perfect correlation or too small for CI\n",
    "        return r, np.nan, np.nan, p, n\n",
    "\n",
    "    z = np.arctanh(r)\n",
    "    se = 1 / np.sqrt(n - 3)\n",
    "    z_crit = norm.ppf(1 - alpha / 2)\n",
    "    z_low = z - z_crit * se\n",
    "    z_high = z + z_crit * se\n",
    "    ci_low, ci_high = np.tanh([z_low, z_high])\n",
    "\n",
    "    return r, ci_low, ci_high, p, n\n",
    "\n",
    "# apply to each group\n",
    "results = []\n",
    "\n",
    "for category, group in X_explore.groupby(\"main_category\"):\n",
    "    r, ci_low, ci_high, p, n = correlation_ci(group[\"usd_goal_real\"], group[\"state\"])\n",
    "    results.append({\n",
    "        \"main_category\": category,\n",
    "        \"correlation\": r,\n",
    "        \"lower\": ci_low,\n",
    "        \"upper\": ci_high,\n",
    "        \"p_value\": p,\n",
    "        \"n\": n\n",
    "    })\n",
    "\n",
    "corr_df = pd.DataFrame(results).sort_values(\"correlation\", ascending=False)\n",
    "\n",
    "\n",
    "# plot it\n",
    "import matplotlib.pyplot as plt\n",
    "import seaborn as sns\n",
    "\n",
    "plt.figure(figsize=(10, 6))\n",
    "\n",
    "# Bar plot\n",
    "ax = sns.barplot(\n",
    "    data=corr_df,\n",
    "    x=\"main_category\",\n",
    "    y=\"correlation\",\n",
    "    color=\"lightgreen\",\n",
    "    edgecolor=\"black\"\n",
    ")\n",
    "\n",
    "# Error bars\n",
    "plt.errorbar(\n",
    "    x=range(len(corr_df)),\n",
    "    y=corr_df[\"correlation\"],\n",
    "    yerr=[\n",
    "        corr_df[\"correlation\"] - corr_df[\"lower\"],\n",
    "        corr_df[\"upper\"] - corr_df[\"correlation\"]\n",
    "    ],\n",
    "    fmt=\"none\",\n",
    "    c=\"black\",\n",
    "    capsize=5,\n",
    "    linewidth=1.2\n",
    ")\n",
    "\n",
    "# Annotate each bar\n",
    "for i, row in corr_df.reset_index().iterrows():\n",
    "    y = row[\"correlation\"]\n",
    "    label = f\"{y:.2f}\"\n",
    "    va = \"bottom\" if y >= 0 else \"top\"\n",
    "    offset = 0.01 if y >= 0 else -0.01\n",
    "    ax.text(i, y + offset, label, ha=\"center\", va=va, fontsize=9, fontweight=\"bold\")\n",
    "\n",
    "# Formatting\n",
    "plt.xticks(rotation=45, ha=\"right\")\n",
    "plt.ylabel(\"Correlation (Goal vs Success)\")\n",
    "plt.xlabel(\"Main Category\")\n",
    "plt.title(\"Correlation of Goal Amount with Success Rate (by Main Category)\")\n",
    "plt.tight_layout()\n",
    "plt.show()\n",
    "\n",
    "\n"
   ]
  },
  {
   "cell_type": "markdown",
   "id": "7c9379b7",
   "metadata": {},
   "source": [
    "We see that different categories have a different association with goal size. Aspirational dance projects are less likely to get funded, whereas aspirational fashion projects less so. That doesn't consider the absolute number, however. A good logistic regression could unpack that (causal modeling). We will skip for now. In general, the combination of `category * goal` appears to have useful information"
   ]
  },
  {
   "cell_type": "code",
   "execution_count": 51,
   "id": "e4699b28",
   "metadata": {},
   "outputs": [
    {
     "data": {
      "image/png": "[encoded data removed]",
      "text/plain": [
       "<Figure size 1000x600 with 1 Axes>"
      ]
     },
     "metadata": {},
     "output_type": "display_data"
    },
    {
     "data": {
      "text/html": [
       "<div>\n",
       "<style scoped>\n",
       "    .dataframe tbody tr th:only-of-type {\n",
       "        vertical-align: middle;\n",
       "    }\n",
       "\n",
       "    .dataframe tbody tr th {\n",
       "        vertical-align: top;\n",
       "    }\n",
       "\n",
       "    .dataframe thead th {\n",
       "        text-align: right;\n",
       "    }\n",
       "</style>\n",
       "<table border=\"1\" class=\"dataframe\">\n",
       "  <thead>\n",
       "    <tr style=\"text-align: right;\">\n",
       "      <th></th>\n",
       "      <th>category</th>\n",
       "      <th>correlation</th>\n",
       "      <th>lower</th>\n",
       "      <th>upper</th>\n",
       "      <th>p_value</th>\n",
       "      <th>n</th>\n",
       "    </tr>\n",
       "  </thead>\n",
       "  <tbody>\n",
       "    <tr>\n",
       "      <th>0</th>\n",
       "      <td>Knitting</td>\n",
       "      <td>0.034982</td>\n",
       "      <td>-0.134772</td>\n",
       "      <td>0.202741</td>\n",
       "      <td>6.870994e-01</td>\n",
       "      <td>135</td>\n",
       "    </tr>\n",
       "    <tr>\n",
       "      <th>1</th>\n",
       "      <td>Webcomics</td>\n",
       "      <td>0.018196</td>\n",
       "      <td>-0.071892</td>\n",
       "      <td>0.107990</td>\n",
       "      <td>6.924253e-01</td>\n",
       "      <td>475</td>\n",
       "    </tr>\n",
       "    <tr>\n",
       "      <th>2</th>\n",
       "      <td>Letterpress</td>\n",
       "      <td>0.000806</td>\n",
       "      <td>-0.314791</td>\n",
       "      <td>0.316243</td>\n",
       "      <td>9.961152e-01</td>\n",
       "      <td>39</td>\n",
       "    </tr>\n",
       "    <tr>\n",
       "      <th>3</th>\n",
       "      <td>Pottery</td>\n",
       "      <td>-0.025255</td>\n",
       "      <td>-0.271322</td>\n",
       "      <td>0.223911</td>\n",
       "      <td>8.442404e-01</td>\n",
       "      <td>63</td>\n",
       "    </tr>\n",
       "    <tr>\n",
       "      <th>4</th>\n",
       "      <td>3D Printing</td>\n",
       "      <td>-0.029539</td>\n",
       "      <td>-0.120345</td>\n",
       "      <td>0.061758</td>\n",
       "      <td>5.260654e-01</td>\n",
       "      <td>463</td>\n",
       "    </tr>\n",
       "    <tr>\n",
       "      <th>...</th>\n",
       "      <td>...</td>\n",
       "      <td>...</td>\n",
       "      <td>...</td>\n",
       "      <td>...</td>\n",
       "      <td>...</td>\n",
       "      <td>...</td>\n",
       "    </tr>\n",
       "    <tr>\n",
       "      <th>154</th>\n",
       "      <td>Workshops</td>\n",
       "      <td>-0.380083</td>\n",
       "      <td>-0.524216</td>\n",
       "      <td>-0.214782</td>\n",
       "      <td>2.011619e-05</td>\n",
       "      <td>119</td>\n",
       "    </tr>\n",
       "    <tr>\n",
       "      <th>155</th>\n",
       "      <td>Fine Art</td>\n",
       "      <td>-0.382817</td>\n",
       "      <td>-0.451836</td>\n",
       "      <td>-0.309242</td>\n",
       "      <td>1.042916e-20</td>\n",
       "      <td>552</td>\n",
       "    </tr>\n",
       "    <tr>\n",
       "      <th>156</th>\n",
       "      <td>Interactive Design</td>\n",
       "      <td>-0.386397</td>\n",
       "      <td>-0.484344</td>\n",
       "      <td>-0.278883</td>\n",
       "      <td>7.262040e-11</td>\n",
       "      <td>265</td>\n",
       "    </tr>\n",
       "    <tr>\n",
       "      <th>157</th>\n",
       "      <td>Woodworking</td>\n",
       "      <td>-0.397338</td>\n",
       "      <td>-0.452683</td>\n",
       "      <td>-0.338944</td>\n",
       "      <td>2.631793e-33</td>\n",
       "      <td>844</td>\n",
       "    </tr>\n",
       "    <tr>\n",
       "      <th>158</th>\n",
       "      <td>Space Exploration</td>\n",
       "      <td>-0.398239</td>\n",
       "      <td>-0.501965</td>\n",
       "      <td>-0.283220</td>\n",
       "      <td>3.998164e-10</td>\n",
       "      <td>229</td>\n",
       "    </tr>\n",
       "  </tbody>\n",
       "</table>\n",
       "<p>159 rows × 6 columns</p>\n",
       "</div>"
      ],
      "text/plain": [
       "               category  correlation     lower     upper       p_value    n\n",
       "0              Knitting     0.034982 -0.134772  0.202741  6.870994e-01  135\n",
       "1             Webcomics     0.018196 -0.071892  0.107990  6.924253e-01  475\n",
       "2           Letterpress     0.000806 -0.314791  0.316243  9.961152e-01   39\n",
       "3               Pottery    -0.025255 -0.271322  0.223911  8.442404e-01   63\n",
       "4           3D Printing    -0.029539 -0.120345  0.061758  5.260654e-01  463\n",
       "..                  ...          ...       ...       ...           ...  ...\n",
       "154           Workshops    -0.380083 -0.524216 -0.214782  2.011619e-05  119\n",
       "155            Fine Art    -0.382817 -0.451836 -0.309242  1.042916e-20  552\n",
       "156  Interactive Design    -0.386397 -0.484344 -0.278883  7.262040e-11  265\n",
       "157         Woodworking    -0.397338 -0.452683 -0.338944  2.631793e-33  844\n",
       "158   Space Exploration    -0.398239 -0.501965 -0.283220  3.998164e-10  229\n",
       "\n",
       "[159 rows x 6 columns]"
      ]
     },
     "execution_count": 51,
     "metadata": {},
     "output_type": "execute_result"
    }
   ],
   "source": [
    "\n",
    "def correlation_ci(x, y, alpha=0.05):\n",
    "    x = np.asarray(x)\n",
    "    y = np.asarray(y)\n",
    "    mask = ~np.isnan(x) & ~np.isnan(y)\n",
    "    x = x[mask]\n",
    "    y = y[mask]\n",
    "    n = len(x)\n",
    "\n",
    "    r, p = pointbiserialr(x, y)\n",
    "    if np.abs(r) == 1 or n < 4:\n",
    "        return r, np.nan, np.nan, p, n\n",
    "\n",
    "    z = np.arctanh(r)\n",
    "    se = 1 / np.sqrt(n - 3)\n",
    "    z_crit = norm.ppf(1 - alpha / 2)\n",
    "    z_low, z_high = z - z_crit * se, z + z_crit * se\n",
    "    r_low, r_high = np.tanh([z_low, z_high])\n",
    "\n",
    "    return r, r_low, r_high, p, n\n",
    "\n",
    "def plot_grouped_correlations(df, group_col, numeric_col, binary_target, alpha=0.05):\n",
    "    # Compute correlation by group\n",
    "    results = []\n",
    "    for group, gdf in df.groupby(group_col):\n",
    "        r, low, high, p, n = correlation_ci(gdf[numeric_col], gdf[binary_target], alpha=alpha)\n",
    "        results.append({\n",
    "            group_col: group,\n",
    "            \"correlation\": r,\n",
    "            \"lower\": low,\n",
    "            \"upper\": high,\n",
    "            \"p_value\": p,\n",
    "            \"n\": n\n",
    "        })\n",
    "    \n",
    "    corr_df = pd.DataFrame(results).sort_values(\"correlation\", ascending=False)\n",
    "\n",
    "    # Plot\n",
    "    plt.figure(figsize=(10, 6))\n",
    "    ax = sns.barplot(\n",
    "        data=corr_df,\n",
    "        x=group_col,\n",
    "        y=\"correlation\",\n",
    "        color=\"lightblue\",\n",
    "        edgecolor=\"black\"\n",
    "    )\n",
    "\n",
    "    plt.errorbar(\n",
    "        x=range(len(corr_df)),\n",
    "        y=corr_df[\"correlation\"],\n",
    "        yerr=[\n",
    "            corr_df[\"correlation\"] - corr_df[\"lower\"],\n",
    "            corr_df[\"upper\"] - corr_df[\"correlation\"]\n",
    "        ],\n",
    "        fmt=\"none\",\n",
    "        c=\"black\",\n",
    "        capsize=5,\n",
    "        linewidth=1.2\n",
    "    )\n",
    "\n",
    "    # Annotate bars\n",
    "    for i, row in corr_df.reset_index().iterrows():\n",
    "        y = row[\"correlation\"]\n",
    "        label = f\"{y:.2f}\"\n",
    "        va = \"bottom\" if y >= 0 else \"top\"\n",
    "        offset = 0.01 if y >= 0 else -0.01\n",
    "        ax.text(i, y + offset, label, ha=\"center\", va=va, fontsize=9, fontweight=\"bold\")\n",
    "\n",
    "    plt.xticks(rotation=45, ha=\"right\")\n",
    "    plt.ylabel(f\"Correlation between {numeric_col} and {binary_target}\")\n",
    "    plt.xlabel(group_col)\n",
    "    plt.title(f\"Correlation by {group_col} (with 95% CI)\")\n",
    "    plt.tight_layout()\n",
    "    plt.show()\n",
    "\n",
    "    return corr_df.reset_index(drop=True)\n",
    "\n",
    "plot_grouped_correlations(\n",
    "    df=X_explore,\n",
    "    group_col=\"category\",\n",
    "    numeric_col=\"usd_goal_real\",\n",
    "    binary_target=\"state\"\n",
    ")"
   ]
  },
  {
   "cell_type": "code",
   "execution_count": 52,
   "id": "7513710d",
   "metadata": {},
   "outputs": [
    {
     "data": {
      "image/png": "[encoded data removed]",
      "text/plain": [
       "<Figure size 1000x600 with 1 Axes>"
      ]
     },
     "metadata": {},
     "output_type": "display_data"
    },
    {
     "data": {
      "text/html": [
       "<div>\n",
       "<style scoped>\n",
       "    .dataframe tbody tr th:only-of-type {\n",
       "        vertical-align: middle;\n",
       "    }\n",
       "\n",
       "    .dataframe tbody tr th {\n",
       "        vertical-align: top;\n",
       "    }\n",
       "\n",
       "    .dataframe thead th {\n",
       "        text-align: right;\n",
       "    }\n",
       "</style>\n",
       "<table border=\"1\" class=\"dataframe\">\n",
       "  <thead>\n",
       "    <tr style=\"text-align: right;\">\n",
       "      <th></th>\n",
       "      <th>country</th>\n",
       "      <th>correlation</th>\n",
       "      <th>lower</th>\n",
       "      <th>upper</th>\n",
       "      <th>p_value</th>\n",
       "      <th>n</th>\n",
       "    </tr>\n",
       "  </thead>\n",
       "  <tbody>\n",
       "    <tr>\n",
       "      <th>0</th>\n",
       "      <td>SG</td>\n",
       "      <td>-0.119687</td>\n",
       "      <td>-0.219102</td>\n",
       "      <td>-0.017813</td>\n",
       "      <td>2.147183e-02</td>\n",
       "      <td>369</td>\n",
       "    </tr>\n",
       "    <tr>\n",
       "      <th>1</th>\n",
       "      <td>MX</td>\n",
       "      <td>-0.144986</td>\n",
       "      <td>-0.201253</td>\n",
       "      <td>-0.087765</td>\n",
       "      <td>8.455717e-07</td>\n",
       "      <td>1144</td>\n",
       "    </tr>\n",
       "    <tr>\n",
       "      <th>2</th>\n",
       "      <td>AT</td>\n",
       "      <td>-0.146413</td>\n",
       "      <td>-0.242315</td>\n",
       "      <td>-0.047677</td>\n",
       "      <td>3.803359e-03</td>\n",
       "      <td>389</td>\n",
       "    </tr>\n",
       "    <tr>\n",
       "      <th>3</th>\n",
       "      <td>HK</td>\n",
       "      <td>-0.147148</td>\n",
       "      <td>-0.245420</td>\n",
       "      <td>-0.045882</td>\n",
       "      <td>4.563634e-03</td>\n",
       "      <td>370</td>\n",
       "    </tr>\n",
       "    <tr>\n",
       "      <th>4</th>\n",
       "      <td>N,0\"</td>\n",
       "      <td>-0.160158</td>\n",
       "      <td>-0.302949</td>\n",
       "      <td>-0.010334</td>\n",
       "      <td>3.639295e-02</td>\n",
       "      <td>171</td>\n",
       "    </tr>\n",
       "    <tr>\n",
       "      <th>5</th>\n",
       "      <td>NO</td>\n",
       "      <td>-0.166526</td>\n",
       "      <td>-0.253527</td>\n",
       "      <td>-0.076852</td>\n",
       "      <td>3.057476e-04</td>\n",
       "      <td>466</td>\n",
       "    </tr>\n",
       "    <tr>\n",
       "      <th>6</th>\n",
       "      <td>BE</td>\n",
       "      <td>-0.168265</td>\n",
       "      <td>-0.261879</td>\n",
       "      <td>-0.071514</td>\n",
       "      <td>7.166389e-04</td>\n",
       "      <td>401</td>\n",
       "    </tr>\n",
       "    <tr>\n",
       "      <th>7</th>\n",
       "      <td>CH</td>\n",
       "      <td>-0.168553</td>\n",
       "      <td>-0.250515</td>\n",
       "      <td>-0.084192</td>\n",
       "      <td>1.041884e-04</td>\n",
       "      <td>525</td>\n",
       "    </tr>\n",
       "    <tr>\n",
       "      <th>8</th>\n",
       "      <td>NL</td>\n",
       "      <td>-0.172886</td>\n",
       "      <td>-0.215643</td>\n",
       "      <td>-0.129468</td>\n",
       "      <td>1.547207e-14</td>\n",
       "      <td>1948</td>\n",
       "    </tr>\n",
       "    <tr>\n",
       "      <th>9</th>\n",
       "      <td>IE</td>\n",
       "      <td>-0.174782</td>\n",
       "      <td>-0.255101</td>\n",
       "      <td>-0.092069</td>\n",
       "      <td>4.152873e-05</td>\n",
       "      <td>544</td>\n",
       "    </tr>\n",
       "    <tr>\n",
       "      <th>10</th>\n",
       "      <td>SE</td>\n",
       "      <td>-0.192380</td>\n",
       "      <td>-0.245527</td>\n",
       "      <td>-0.138080</td>\n",
       "      <td>9.252665e-12</td>\n",
       "      <td>1235</td>\n",
       "    </tr>\n",
       "    <tr>\n",
       "      <th>11</th>\n",
       "      <td>DE</td>\n",
       "      <td>-0.195677</td>\n",
       "      <td>-0.231299</td>\n",
       "      <td>-0.159532</td>\n",
       "      <td>3.193600e-25</td>\n",
       "      <td>2760</td>\n",
       "    </tr>\n",
       "    <tr>\n",
       "      <th>12</th>\n",
       "      <td>FR</td>\n",
       "      <td>-0.212996</td>\n",
       "      <td>-0.254208</td>\n",
       "      <td>-0.171013</td>\n",
       "      <td>3.393419e-22</td>\n",
       "      <td>2024</td>\n",
       "    </tr>\n",
       "    <tr>\n",
       "      <th>13</th>\n",
       "      <td>US</td>\n",
       "      <td>-0.217880</td>\n",
       "      <td>-0.221959</td>\n",
       "      <td>-0.213794</td>\n",
       "      <td>0.000000e+00</td>\n",
       "      <td>209118</td>\n",
       "    </tr>\n",
       "    <tr>\n",
       "      <th>14</th>\n",
       "      <td>DK</td>\n",
       "      <td>-0.220546</td>\n",
       "      <td>-0.288447</td>\n",
       "      <td>-0.150438</td>\n",
       "      <td>1.669615e-09</td>\n",
       "      <td>731</td>\n",
       "    </tr>\n",
       "    <tr>\n",
       "      <th>15</th>\n",
       "      <td>NZ</td>\n",
       "      <td>-0.231587</td>\n",
       "      <td>-0.289170</td>\n",
       "      <td>-0.172334</td>\n",
       "      <td>9.428715e-14</td>\n",
       "      <td>1009</td>\n",
       "    </tr>\n",
       "    <tr>\n",
       "      <th>16</th>\n",
       "      <td>CA</td>\n",
       "      <td>-0.239381</td>\n",
       "      <td>-0.257933</td>\n",
       "      <td>-0.220653</td>\n",
       "      <td>4.372749e-128</td>\n",
       "      <td>9826</td>\n",
       "    </tr>\n",
       "    <tr>\n",
       "      <th>17</th>\n",
       "      <td>ES</td>\n",
       "      <td>-0.240460</td>\n",
       "      <td>-0.287342</td>\n",
       "      <td>-0.192428</td>\n",
       "      <td>2.281810e-21</td>\n",
       "      <td>1515</td>\n",
       "    </tr>\n",
       "    <tr>\n",
       "      <th>18</th>\n",
       "      <td>AU</td>\n",
       "      <td>-0.256578</td>\n",
       "      <td>-0.281596</td>\n",
       "      <td>-0.231211</td>\n",
       "      <td>3.444840e-80</td>\n",
       "      <td>5283</td>\n",
       "    </tr>\n",
       "    <tr>\n",
       "      <th>19</th>\n",
       "      <td>GB</td>\n",
       "      <td>-0.266010</td>\n",
       "      <td>-0.277840</td>\n",
       "      <td>-0.254100</td>\n",
       "      <td>0.000000e+00</td>\n",
       "      <td>23543</td>\n",
       "    </tr>\n",
       "    <tr>\n",
       "      <th>20</th>\n",
       "      <td>IT</td>\n",
       "      <td>-0.283987</td>\n",
       "      <td>-0.324819</td>\n",
       "      <td>-0.242097</td>\n",
       "      <td>1.476825e-36</td>\n",
       "      <td>1899</td>\n",
       "    </tr>\n",
       "    <tr>\n",
       "      <th>21</th>\n",
       "      <td>LU</td>\n",
       "      <td>-0.377052</td>\n",
       "      <td>-0.610967</td>\n",
       "      <td>-0.082584</td>\n",
       "      <td>1.383820e-02</td>\n",
       "      <td>42</td>\n",
       "    </tr>\n",
       "    <tr>\n",
       "      <th>22</th>\n",
       "      <td>JP</td>\n",
       "      <td>-0.558854</td>\n",
       "      <td>-0.802831</td>\n",
       "      <td>-0.154555</td>\n",
       "      <td>1.042388e-02</td>\n",
       "      <td>20</td>\n",
       "    </tr>\n",
       "  </tbody>\n",
       "</table>\n",
       "</div>"
      ],
      "text/plain": [
       "   country  correlation     lower     upper        p_value       n\n",
       "0       SG    -0.119687 -0.219102 -0.017813   2.147183e-02     369\n",
       "1       MX    -0.144986 -0.201253 -0.087765   8.455717e-07    1144\n",
       "2       AT    -0.146413 -0.242315 -0.047677   3.803359e-03     389\n",
       "3       HK    -0.147148 -0.245420 -0.045882   4.563634e-03     370\n",
       "4     N,0\"    -0.160158 -0.302949 -0.010334   3.639295e-02     171\n",
       "5       NO    -0.166526 -0.253527 -0.076852   3.057476e-04     466\n",
       "6       BE    -0.168265 -0.261879 -0.071514   7.166389e-04     401\n",
       "7       CH    -0.168553 -0.250515 -0.084192   1.041884e-04     525\n",
       "8       NL    -0.172886 -0.215643 -0.129468   1.547207e-14    1948\n",
       "9       IE    -0.174782 -0.255101 -0.092069   4.152873e-05     544\n",
       "10      SE    -0.192380 -0.245527 -0.138080   9.252665e-12    1235\n",
       "11      DE    -0.195677 -0.231299 -0.159532   3.193600e-25    2760\n",
       "12      FR    -0.212996 -0.254208 -0.171013   3.393419e-22    2024\n",
       "13      US    -0.217880 -0.221959 -0.213794   0.000000e+00  209118\n",
       "14      DK    -0.220546 -0.288447 -0.150438   1.669615e-09     731\n",
       "15      NZ    -0.231587 -0.289170 -0.172334   9.428715e-14    1009\n",
       "16      CA    -0.239381 -0.257933 -0.220653  4.372749e-128    9826\n",
       "17      ES    -0.240460 -0.287342 -0.192428   2.281810e-21    1515\n",
       "18      AU    -0.256578 -0.281596 -0.231211   3.444840e-80    5283\n",
       "19      GB    -0.266010 -0.277840 -0.254100   0.000000e+00   23543\n",
       "20      IT    -0.283987 -0.324819 -0.242097   1.476825e-36    1899\n",
       "21      LU    -0.377052 -0.610967 -0.082584   1.383820e-02      42\n",
       "22      JP    -0.558854 -0.802831 -0.154555   1.042388e-02      20"
      ]
     },
     "execution_count": 52,
     "metadata": {},
     "output_type": "execute_result"
    }
   ],
   "source": [
    "plot_grouped_correlations(\n",
    "    df=X_explore,\n",
    "    group_col=\"country\",\n",
    "    numeric_col=\"usd_goal_real\",\n",
    "    binary_target=\"state\"\n",
    ")"
   ]
  },
  {
   "cell_type": "markdown",
   "id": "8ed63582",
   "metadata": {},
   "source": [
    "Assuming we will want to \n",
    "* Rely on main_category * goal\n",
    "* Rely on a more pruned \"category\" * goal\n",
    "* Rely on country * goal"
   ]
  },
  {
   "cell_type": "markdown",
   "id": "2effe61e",
   "metadata": {},
   "source": [
    "There is more we could do here! But Move forward for now. "
   ]
  },
  {
   "cell_type": "markdown",
   "id": "68372417",
   "metadata": {},
   "source": [
    "### Final Categorical Steps\n",
    "\n",
    "This is the magic step!\n",
    "\n",
    "Here, we iterate on our variable transformations and preprocessing. We have a good start but can do more\n",
    "\n",
    "1. Imputation. How are we going to do this?\n",
    "2. Scaling. Yes, I consider this + transformation part of the same step, but we need to scale our variables for ML work.\n",
    "3. Encoding our categorical features. Are we doing one-hot for everything? Do we need to make decisions about high-cardinality variables? \n",
    "\n",
    "Some of those calls we already have thoughts about, but still good to think in more detail. Then, the real magic one:\n",
    "\n",
    "4. Feature engineering. We go create new columns.\n",
    "\n",
    "   Common feature engineering patterns to consider:\n",
    "\n",
    "   * **Duration variables** — e.g., `deadline - launched`\n",
    "   * **Time-based features** — e.g., `launch_month`, `launch_weekday`, `is_weekend`, `is_holiday`\n",
    "   * **Log transforms** — e.g., `log1p(backers)`, `log1p(goal)` for skewed numeric fields\n",
    "   * **Interaction terms** — e.g., `goal * duration`, `backers / duration`, `goal / backers`\n",
    "   * **Binary flags** — e.g., `has_video`, `has_long_description`, `was_launched_at_night`\n",
    "   * **Binned features** — e.g., bucketing `goal` into quartiles or predefined thresholds\n",
    "   * **Text-based signals** — e.g., `title_length`, `num_exclamations`, `contains_urgent_words`\n",
    "   * **Ratios** — e.g., `pledged / goal`, `backers / goal`, `backers / duration`\n",
    "   * **High-cardinality encodings** (planned for later) — e.g., top-N categories, target encoding, or frequency encoding\n",
    "\n"
   ]
  },
  {
   "cell_type": "markdown",
   "id": "93fc8f94",
   "metadata": {},
   "source": [
    "* Categories I will approach as follows (custom transformer):\n",
    "    - Group into top N (say, 15–20) by frequency (based on X_train only).\n",
    "    - Replace all others with \"Other\".\n",
    "    - One-hot encode the result.\n",
    "* Feature engineering -- should test for these but COME BACK LATER\n",
    "    - is_weekend\n",
    "    - is_holiday\n",
    "    - title_length\n",
    "    - num_exclamations (more there? sentiment? NLP? Embeddings?)"
   ]
  },
  {
   "cell_type": "code",
   "execution_count": 53,
   "id": "96382326",
   "metadata": {},
   "outputs": [
    {
     "name": "stderr",
     "output_type": "stream",
     "text": [
      "/var/folders/bj/45wmvwcj3njb1xt57ps1k86r0000gn/T/ipykernel_20822/344322239.py:42: FutureWarning: Downcasting behavior in `replace` is deprecated and will be removed in a future version. To retain the old behavior, explicitly call `result.infer_objects(copy=False)`. To opt-in to the future behavior, set `pd.set_option('future.no_silent_downcasting', True)`\n",
      "  .replace({\"failed\": 0, \"successful\": 1})\n",
      "/var/folders/bj/45wmvwcj3njb1xt57ps1k86r0000gn/T/ipykernel_20822/344322239.py:42: FutureWarning: Downcasting behavior in `replace` is deprecated and will be removed in a future version. To retain the old behavior, explicitly call `result.infer_objects(copy=False)`. To opt-in to the future behavior, set `pd.set_option('future.no_silent_downcasting', True)`\n",
      "  .replace({\"failed\": 0, \"successful\": 1})\n"
     ]
    }
   ],
   "source": [
    "def pre_cleaning(df):\n",
    "    df = df.copy()\n",
    "    \n",
    "    # 1. Duplicate handling\n",
    "    df.drop_duplicates(inplace=True)\n",
    "    df.drop_duplicates(subset=[\"ID\"], keep = \"first\", inplace=True)\n",
    "\n",
    "    # 2. Out of scope\n",
    "    df = (\n",
    "        df\n",
    "        .loc[\n",
    "            ~df[\"name\"].str.contains(\"Canceled\", case=False, na=False)\n",
    "        ]\n",
    "    )\n",
    "\n",
    "    # only look at clearly successful or failed projects\n",
    "    df = (\n",
    "        df\n",
    "        .loc[\n",
    "            df[\"state\"].isin([\"successful\", \"failed\"])\n",
    "        ]\n",
    "    )\n",
    "\n",
    "    # 3. Missing on key vars\n",
    "    df.dropna(subset=[\"name\", \"ID\", \"launched\", \"deadline\"], inplace=True)\n",
    "\n",
    "    return df\n",
    "\n",
    "# Clean data\n",
    "df_clean = pre_cleaning(df)\n",
    "\n",
    "# Split data\n",
    "X = df_clean.drop(columns=[\"state\"])\n",
    "y = df_clean[\"state\"]\n",
    "X_train, X_test, y_train, y_test = train_test_split(X, y, stratify=y, test_size=.20, random_state=42)\n",
    "\n",
    "# Clean y variable to be numeric\n",
    "def clean_y(input: pd.Series) -> pd.Series:\n",
    "    \"\"\"Converts y variable values to binary 1/0 for prediction\"\"\"\n",
    "    return (\n",
    "        input\n",
    "        .replace({\"failed\": 0, \"successful\": 1})\n",
    "        .astype(\"int\")\n",
    "    )\n",
    "y_train = clean_y(y_train)\n",
    "y_test = clean_y(y_test)\n",
    "\n",
    "# Custom Pipeline Classes for Rest of Cleaning\n",
    "class Cleaning(BaseEstimator, TransformerMixin):\n",
    "    def __init__(self):\n",
    "        self.drop_columns = [\"goal\", \"usd_pledged_real\", \"pledged\", \"backers\", \"usd pledged\"]\n",
    "        self.date_columns = [\"launched\", \"deadline\"]\n",
    "\n",
    "    def fit(self, X, y=None):\n",
    "        return self\n",
    "    \n",
    "    def transform(self, X):\n",
    "        X = X.copy()\n",
    "\n",
    "        # 4. Drop columns\n",
    "        X.drop(columns = self.drop_columns, inplace=True)\n",
    "\n",
    "        # 5. type conversions\n",
    "        for col_ in self.date_columns:\n",
    "            X[col_] = pd.to_datetime(X[col_], errors = \"coerce\")\n",
    "\n",
    "        # 6. invalid data\n",
    "        # index rows with mask, columns with list of names --- assign to the pandas \"not a time\" type\n",
    "        invalid_dates = X[\"deadline\"] < X[\"launched\"]\n",
    "        X.loc[invalid_dates, [\"deadline\", \"launched\"]] = pd.NaT\n",
    "\n",
    "        X[\"usd_goal_real\"] = (\n",
    "            X[\"usd_goal_real\"]\n",
    "            .mask(\n",
    "                X[\"usd_goal_real\"] < 0 #default behavior is to replace true values with np.nan\n",
    "            )\n",
    "        )\n",
    "\n",
    "        return X\n",
    "    \n",
    "class FeatureEng(TransformerMixin, BaseEstimator):\n",
    "    def __init__(self):\n",
    "        pass\n",
    "\n",
    "    def fit(self, X, y=None):\n",
    "        return self\n",
    "    \n",
    "    def transform(self, X):\n",
    "        X=X.copy()\n",
    "        \n",
    "        #flag duplicate names\n",
    "        X[\"is_dup_name\"] = (\n",
    "            X[\"name\"]\n",
    "            .duplicated(keep=False) #must set to false to flag all duplicates\n",
    "        )\n",
    "\n",
    "        #transform goal to a log version\n",
    "        X[\"usd_goal_real\"] = np.log1p(X[\"usd_goal_real\"])\n",
    "\n",
    "        # Duration in days (NaT-safe subtraction)\n",
    "        X[\"duration\"] = (X[\"deadline\"] - X[\"launched\"]).dt.days\n",
    "\n",
    "        # Day of week (0 = Monday, 6 = Sunday)\n",
    "        X[\"launched_dow\"] = X[\"launched\"].dt.dayofweek\n",
    "        X[\"deadline_dow\"] = X[\"deadline\"].dt.dayofweek\n",
    "\n",
    "        # Weekend flags - make 0/1\n",
    "        X[\"launched_is_weekend\"] = X[\"launched_dow\"].isin([5, 6]).astype(int)\n",
    "        X[\"deadline_is_weekend\"] = X[\"deadline_dow\"].isin([5, 6]).astype(int)\n",
    "\n",
    "        # other\n",
    "        X[\"launch_hour\"] = X[\"launched\"].dt.hour\n",
    "        X[\"launch_month\"] = X[\"launched\"].dt.month\n",
    "\n",
    "        # name length\n",
    "        X[\"name_length\"] = X[\"name\"].str.len()\n",
    "\n",
    "        return X\n",
    "    \n",
    "\n",
    "class TopN(BaseEstimator, TransformerMixin):\n",
    "    def __init__(self, columns = None, top_n = 15):\n",
    "        self.columns = columns\n",
    "        self.top_n = top_n\n",
    "\n",
    "    def fit(self, X, y=None):\n",
    "        self.top_categories_ = { } #will hold them later. Naming convention to end with _ for \"learned from data\"\n",
    "        # ^^^ will hold column name : values\n",
    "\n",
    "        for col in self.columns:\n",
    "            #returns labels (text) for the top n categories\n",
    "            top = X[col].value_counts().nlargest(self.top_n).index\n",
    "            #populate top_categories with set of unique values from top via column name : values\n",
    "            self.top_categories_[col] = set(top)\n",
    "        return self\n",
    "    \n",
    "    def transform(self, X):\n",
    "        X = X.copy()\n",
    "        for col in self.columns:\n",
    "            # get top categories for tha tcolumn\n",
    "            top = self.top_categories_[col]\n",
    "            X[col] = X[col].where(\n",
    "                X[col].isin(top),\n",
    "                \"other\"\n",
    "                ) #retain current value if true, else replace with 'other'\n",
    "        return X\n",
    "\n",
    "\n",
    "\n",
    "\n",
    "# Make Pipeline -- No Model Yet\n",
    "\n",
    "numeric_cols = ['usd_goal_real', 'is_dup_name', 'duration', 'launched_dow', 'deadline_dow', \n",
    "                'launched_is_weekend', 'deadline_is_weekend', \"launch_hour\", \"launch_month\", \"name_length\"]\n",
    "cat_cols = ['category', 'main_category', 'currency', 'country']\n",
    "date_cols = ['deadline', 'launched']\n",
    "\n",
    "pipeline = Pipeline(steps = [\n",
    "    (\"clean\", Cleaning()),\n",
    "    (\"fe\", FeatureEng()),\n",
    "    (\"topn\", TopN(columns=[\"category\", \"currency\", \"country\"], top_n=15)),\n",
    "    (\"preproc\", ColumnTransformer(\n",
    "        transformers=[\n",
    "            (\"imp\", SimpleImputer(strategy = \"median\"), numeric_cols),\n",
    "            (\"cat\", OneHotEncoder(handle_unknown=\"ignore\", sparse_output=False), cat_cols)\n",
    "        ],\n",
    "        #remainder=\"passthrough\" #ensures that other columns aren't dropped\n",
    "    ))\n",
    "\n",
    "])\n",
    "\n",
    "X_train = pipeline.fit_transform(X_train)\n",
    "X_test = pipeline.transform(X_test)\n",
    "\n",
    "#### X and Y FULL ###\n",
    "\n",
    "X_full = pd.concat([\n",
    "    pd.DataFrame(X_train),\n",
    "    pd.DataFrame(y_train)\n",
    "], axis=0).reset_index(drop=True)\n",
    "\n",
    "y_full = pd.concat([y_train, y_test], axis=0)\n",
    "\n",
    "#### BUILD X_EXPLORE ####\n",
    "# those will be arrays--make a df version\n",
    "# go to last named step\n",
    "preproc = pipeline.named_steps[\"preproc\"]\n",
    "feature_names = preproc.get_feature_names_out()\n",
    "feature_names = [name.replace(\"remainder__\", \"\") for name in feature_names]\n",
    "feature_names = [name.replace(\"imp__\", \"\") for name in feature_names]\n",
    "X_explore = pd.DataFrame(X_train, columns=feature_names)\n",
    "\n",
    "#add y_train back in, but pass to numpy first to avoid index alignment\n",
    "X_explore = pd.concat([\n",
    "    X_explore, \n",
    "    pd.Series(y_train.to_numpy(), name=\"state\")\n",
    "    ], axis=1)\n",
    "\n",
    "for col_ in [\"usd_goal_real\", \"duration\"]:\n",
    "    X_explore[col_] = X_explore[col_].astype(float)\n",
    "\n",
    "for col_ in [\"launched_dow\", \"deadline_dow\", \"is_dup_name\", \"launched_is_weekend\", \"deadline_is_weekend\"]:\n",
    "    X_explore[col_] = X_explore[col_].astype(int)"
   ]
  },
  {
   "cell_type": "markdown",
   "id": "dcacb732",
   "metadata": {},
   "source": [
    "We should feature engineer but for now let's do a prelim model"
   ]
  },
  {
   "cell_type": "markdown",
   "id": "d717b718",
   "metadata": {},
   "source": [
    "## 4. Preliminary model"
   ]
  },
  {
   "cell_type": "markdown",
   "id": "6074c99b",
   "metadata": {},
   "source": [
    "Before we dive into metrics, let's see how balanced the data are -- and we will see it's nearly even!"
   ]
  },
  {
   "cell_type": "code",
   "execution_count": 54,
   "id": "c3c65180",
   "metadata": {},
   "outputs": [
    {
     "data": {
      "text/plain": [
       "state\n",
       "0    158168\n",
       "1    107164\n",
       "Name: count, dtype: int64"
      ]
     },
     "execution_count": 54,
     "metadata": {},
     "output_type": "execute_result"
    }
   ],
   "source": [
    "## How balanced is the data?\n",
    "y_train.value_counts()"
   ]
  },
  {
   "cell_type": "markdown",
   "id": "3e1ed987",
   "metadata": {},
   "source": [
    "Let's run the model:\n",
    "\n",
    "We are doing binary prediction, so we need a loss function for binary data. \n",
    "\n",
    "Examples:\n",
    "* objective=\"binary:logistic\"      # Default — predicts probability\n",
    "* objective=\"binary:logitraw\"      # Predicts raw margin (before sigmoid)\n",
    "* objective=\"binary:hinge\"         # Predicts 0 or 1 using a threshold"
   ]
  },
  {
   "cell_type": "code",
   "execution_count": 55,
   "id": "3c8e85d7",
   "metadata": {},
   "outputs": [],
   "source": [
    "# Train basic XGBoost -- use both logloss and auc\n",
    "xgb_model = XGBClassifier(\n",
    "    objective = \"binary:logistic\",\n",
    "    random_state=9572\n",
    "    )\n",
    "xgb_model.fit(X_train, y_train)\n",
    "\n",
    "# Predict\n",
    "y_pred = xgb_model.predict(X_test)\n",
    "y_proba = xgb_model.predict_proba(X_test)[:, 1]\n"
   ]
  },
  {
   "cell_type": "code",
   "execution_count": 56,
   "id": "dd5bad4d",
   "metadata": {},
   "outputs": [
    {
     "data": {
      "text/html": [
       "<div>\n",
       "<style scoped>\n",
       "    .dataframe tbody tr th:only-of-type {\n",
       "        vertical-align: middle;\n",
       "    }\n",
       "\n",
       "    .dataframe tbody tr th {\n",
       "        vertical-align: top;\n",
       "    }\n",
       "\n",
       "    .dataframe thead th {\n",
       "        text-align: right;\n",
       "    }\n",
       "</style>\n",
       "<table border=\"1\" class=\"dataframe\">\n",
       "  <thead>\n",
       "    <tr style=\"text-align: right;\">\n",
       "      <th></th>\n",
       "      <th>Accuracy</th>\n",
       "      <th>Precision</th>\n",
       "      <th>Recall</th>\n",
       "      <th>F1 Score</th>\n",
       "      <th>ROC AUC</th>\n",
       "      <th>PR AUC</th>\n",
       "    </tr>\n",
       "  </thead>\n",
       "  <tbody>\n",
       "    <tr>\n",
       "      <th>0</th>\n",
       "      <td>0.69</td>\n",
       "      <td>0.63</td>\n",
       "      <td>0.53</td>\n",
       "      <td>0.58</td>\n",
       "      <td>0.74</td>\n",
       "      <td>0.64</td>\n",
       "    </tr>\n",
       "  </tbody>\n",
       "</table>\n",
       "</div>"
      ],
      "text/plain": [
       "   Accuracy  Precision  Recall  F1 Score  ROC AUC  PR AUC\n",
       "0      0.69       0.63    0.53      0.58     0.74    0.64"
      ]
     },
     "metadata": {},
     "output_type": "display_data"
    }
   ],
   "source": [
    "results = pd.DataFrame(\n",
    "    [{\n",
    "        # use pred\n",
    "        \"Accuracy\": accuracy_score(y_test, y_pred),\n",
    "        \"Precision\": precision_score(y_test, y_pred),\n",
    "        \"Recall\": recall_score(y_test, y_pred),\n",
    "        \"F1 Score\": f1_score(y_test, y_pred),\n",
    "\n",
    "        # use proba\n",
    "        \"ROC AUC\": roc_auc_score(y_test, y_proba),\n",
    "        \"PR AUC\": average_precision_score(y_test, y_proba)\n",
    "    }]\n",
    ")\n",
    "display(results.round(2))"
   ]
  },
  {
   "cell_type": "markdown",
   "id": "147caa08",
   "metadata": {},
   "source": [
    "That gives us some decent baseline information.\n",
    "* Classified 69% of casses correctly\n",
    "\n",
    "Precision and recall both deal with positives, but in different framings:\n",
    "* Precision / PPV: Of positive **cases**, 63% were true positives\n",
    "* Recall: Of positive **realities**, 53% were detected\n",
    "\n",
    "We can take the harmonic mean of precision and recall and get F1 score of 58%\n",
    "\n",
    "AUC metrics:\n",
    "* Our AUC is .74, which is considered very good out of the box. Our data is fairly evenly balanced, so this is an exciting start.\n",
    "* However, our PR-AUC (better for imbalanced data is only .64, which is less impression). I pull this by default, but our data is fairly balanced.\n",
    "\n",
    "Let's look at our confusion matrix:"
   ]
  },
  {
   "cell_type": "code",
   "execution_count": 57,
   "id": "58c5a37d",
   "metadata": {},
   "outputs": [
    {
     "name": "stdout",
     "output_type": "stream",
     "text": [
      "True Positives: 14163\n",
      "True Negatives: 31303\n",
      "False Positives: 8240\n",
      "False Negatives: 12628\n"
     ]
    },
    {
     "data": {
      "image/png": "[encoded data removed]",
      "text/plain": [
       "<Figure size 640x480 with 2 Axes>"
      ]
     },
     "metadata": {},
     "output_type": "display_data"
    }
   ],
   "source": [
    "cm = confusion_matrix(y_test, y_pred, labels = [0,1])\n",
    "ConfusionMatrixDisplay(cm).plot()\n",
    "\n",
    "tn, fp, fn, tp = cm.ravel()\n",
    "print(\"True Positives:\", tp)\n",
    "print(\"True Negatives:\", tn)\n",
    "print(\"False Positives:\", fp)\n",
    "print(\"False Negatives:\", fn)"
   ]
  },
  {
   "cell_type": "markdown",
   "id": "971afb8b",
   "metadata": {},
   "source": [
    "We can get a report of classification to see how it does for each class\n",
    "\n",
    "Notes:\n",
    "* For the true class (1), these will match what we have seen previously\n",
    "* For the false class (0), the definition is backwards (\"precision = what % of reported falses are false\" and \"recall\" = \"what % of falses did we flag as false\")"
   ]
  },
  {
   "cell_type": "code",
   "execution_count": 58,
   "id": "509b8d18",
   "metadata": {},
   "outputs": [
    {
     "name": "stdout",
     "output_type": "stream",
     "text": [
      "              precision    recall  f1-score   support\n",
      "\n",
      "           0      0.713     0.792     0.750     39543\n",
      "           1      0.632     0.529     0.576     26791\n",
      "\n",
      "    accuracy                          0.685     66334\n",
      "   macro avg      0.672     0.660     0.663     66334\n",
      "weighted avg      0.680     0.685     0.680     66334\n",
      "\n"
     ]
    }
   ],
   "source": [
    "print(\n",
    "    classification_report(y_test, y_pred, digits=3)\n",
    ")"
   ]
  },
  {
   "cell_type": "markdown",
   "id": "9be383ae",
   "metadata": {},
   "source": [
    "We see here that the model did a bit better with the negative cases than it did with the positive cases, which makes sense with some class imbalance. Some strategies we can explore next include:\n",
    "* `scale_pos_weight` to train the model to find positive values better (great if they're rare)\n",
    "*  Lower / tune our threshold for finding a positive value\n",
    "*  Tell our search tools (Grid search CV, random search CV, optuna) to optimize for recall on the positives using `make_scorer()`"
   ]
  },
  {
   "cell_type": "markdown",
   "id": "57c526a5",
   "metadata": {},
   "source": [
    "We can also examine the ROC and PR-ROC:"
   ]
  },
  {
   "cell_type": "code",
   "execution_count": 59,
   "id": "2a3c394d",
   "metadata": {},
   "outputs": [
    {
     "data": {
      "image/png": "[encoded data removed]",
      "text/plain": [
       "<Figure size 640x480 with 1 Axes>"
      ]
     },
     "metadata": {},
     "output_type": "display_data"
    }
   ],
   "source": [
    "fpr, tpr, _ = roc_curve(y_test, y_proba)\n",
    "plt.plot(fpr, tpr, label = f\"ROC curve (AUC = {roc_auc_score(y_test, y_proba):.3f})\") #x, y\n",
    "plt.xlabel(\"False Positive Rate\")\n",
    "plt.ylabel(\"True Positive Rate\")\n",
    "plt.title(\"ROC Curve\")\n",
    "plt.grid(True)\n",
    "plt.legend(loc = \"lower right\")\n",
    "plt.show()"
   ]
  },
  {
   "cell_type": "markdown",
   "id": "554db336",
   "metadata": {},
   "source": [
    "If we wanted to pick a threshold to find a better recall value, we can examine these three:"
   ]
  },
  {
   "cell_type": "code",
   "execution_count": 60,
   "id": "9e515090",
   "metadata": {},
   "outputs": [
    {
     "data": {
      "image/png": "[encoded data removed]",
      "text/plain": [
       "<Figure size 640x480 with 1 Axes>"
      ]
     },
     "metadata": {},
     "output_type": "display_data"
    }
   ],
   "source": [
    "precision, recall, thresholds = precision_recall_curve(y_test, y_proba)\n",
    "plt.plot(recall, precision) #BACKWARDS ORDER\n",
    "plt.xlabel(\"Recall\")\n",
    "plt.ylabel(\"Precision\")\n",
    "plt.title(\"Precision-Recall Curve\")\n",
    "plt.grid(True)\n",
    "plt.show()"
   ]
  },
  {
   "cell_type": "markdown",
   "id": "e6bd59a8",
   "metadata": {},
   "source": [
    "We will get a table of thresholds and also add F1, which is \n",
    "\n",
    "$$\n",
    "\\text{F1} = 2 \\times \\frac{\\text{precision} \\times \\text{recall}}{\\text{precision} + \\text{recall}}\n",
    "$$"
   ]
  },
  {
   "cell_type": "code",
   "execution_count": 61,
   "id": "07944e27",
   "metadata": {},
   "outputs": [
    {
     "data": {
      "text/html": [
       "<div>\n",
       "<style scoped>\n",
       "    .dataframe tbody tr th:only-of-type {\n",
       "        vertical-align: middle;\n",
       "    }\n",
       "\n",
       "    .dataframe tbody tr th {\n",
       "        vertical-align: top;\n",
       "    }\n",
       "\n",
       "    .dataframe thead th {\n",
       "        text-align: right;\n",
       "    }\n",
       "</style>\n",
       "<table border=\"1\" class=\"dataframe\">\n",
       "  <thead>\n",
       "    <tr style=\"text-align: right;\">\n",
       "      <th></th>\n",
       "      <th>thresholds</th>\n",
       "      <th>precision</th>\n",
       "      <th>recall</th>\n",
       "      <th>f1</th>\n",
       "    </tr>\n",
       "  </thead>\n",
       "  <tbody>\n",
       "    <tr>\n",
       "      <th>0</th>\n",
       "      <td>0.000259</td>\n",
       "      <td>0.403886</td>\n",
       "      <td>1.000000</td>\n",
       "      <td>0.575383</td>\n",
       "    </tr>\n",
       "    <tr>\n",
       "      <th>1</th>\n",
       "      <td>0.000324</td>\n",
       "      <td>0.403893</td>\n",
       "      <td>1.000000</td>\n",
       "      <td>0.575390</td>\n",
       "    </tr>\n",
       "    <tr>\n",
       "      <th>2</th>\n",
       "      <td>0.000345</td>\n",
       "      <td>0.403899</td>\n",
       "      <td>1.000000</td>\n",
       "      <td>0.575396</td>\n",
       "    </tr>\n",
       "    <tr>\n",
       "      <th>3</th>\n",
       "      <td>0.000352</td>\n",
       "      <td>0.403905</td>\n",
       "      <td>1.000000</td>\n",
       "      <td>0.575402</td>\n",
       "    </tr>\n",
       "    <tr>\n",
       "      <th>4</th>\n",
       "      <td>0.000374</td>\n",
       "      <td>0.403911</td>\n",
       "      <td>1.000000</td>\n",
       "      <td>0.575408</td>\n",
       "    </tr>\n",
       "    <tr>\n",
       "      <th>...</th>\n",
       "      <td>...</td>\n",
       "      <td>...</td>\n",
       "      <td>...</td>\n",
       "      <td>...</td>\n",
       "    </tr>\n",
       "    <tr>\n",
       "      <th>66101</th>\n",
       "      <td>0.983083</td>\n",
       "      <td>1.000000</td>\n",
       "      <td>0.000149</td>\n",
       "      <td>0.000299</td>\n",
       "    </tr>\n",
       "    <tr>\n",
       "      <th>66102</th>\n",
       "      <td>0.989086</td>\n",
       "      <td>1.000000</td>\n",
       "      <td>0.000112</td>\n",
       "      <td>0.000224</td>\n",
       "    </tr>\n",
       "    <tr>\n",
       "      <th>66103</th>\n",
       "      <td>0.990690</td>\n",
       "      <td>1.000000</td>\n",
       "      <td>0.000075</td>\n",
       "      <td>0.000149</td>\n",
       "    </tr>\n",
       "    <tr>\n",
       "      <th>66104</th>\n",
       "      <td>0.990853</td>\n",
       "      <td>1.000000</td>\n",
       "      <td>0.000037</td>\n",
       "      <td>0.000075</td>\n",
       "    </tr>\n",
       "    <tr>\n",
       "      <th>66105</th>\n",
       "      <td>0.995189</td>\n",
       "      <td>1.000000</td>\n",
       "      <td>0.000000</td>\n",
       "      <td>0.000000</td>\n",
       "    </tr>\n",
       "  </tbody>\n",
       "</table>\n",
       "<p>66106 rows × 4 columns</p>\n",
       "</div>"
      ],
      "text/plain": [
       "       thresholds  precision    recall        f1\n",
       "0        0.000259   0.403886  1.000000  0.575383\n",
       "1        0.000324   0.403893  1.000000  0.575390\n",
       "2        0.000345   0.403899  1.000000  0.575396\n",
       "3        0.000352   0.403905  1.000000  0.575402\n",
       "4        0.000374   0.403911  1.000000  0.575408\n",
       "...           ...        ...       ...       ...\n",
       "66101    0.983083   1.000000  0.000149  0.000299\n",
       "66102    0.989086   1.000000  0.000112  0.000224\n",
       "66103    0.990690   1.000000  0.000075  0.000149\n",
       "66104    0.990853   1.000000  0.000037  0.000075\n",
       "66105    0.995189   1.000000  0.000000  0.000000\n",
       "\n",
       "[66106 rows x 4 columns]"
      ]
     },
     "metadata": {},
     "output_type": "display_data"
    }
   ],
   "source": [
    "pr = pd.DataFrame(\n",
    "    list(zip(\n",
    "        thresholds, \n",
    "        precision[1:],  #thresholds has one fewer element so line up\n",
    "        recall[1:]      #thresholds has one fewer element so line up\n",
    "        )), \n",
    "    columns = [\"thresholds\", \"precision\", \"recall\"]\n",
    "    )\n",
    "\n",
    "#add F1 score as well\n",
    "pr[\"f1\"] = 2 * (pr[\"precision\"] * pr[\"recall\"]) / (pr[\"precision\"] + pr[\"recall\"])\n",
    "display(pr)"
   ]
  },
  {
   "cell_type": "markdown",
   "id": "bd6c2a4c",
   "metadata": {},
   "source": [
    "What might be the first row with recall of .70?"
   ]
  },
  {
   "cell_type": "code",
   "execution_count": 62,
   "id": "1b539dd6",
   "metadata": {},
   "outputs": [
    {
     "data": {
      "text/html": [
       "<div>\n",
       "<style scoped>\n",
       "    .dataframe tbody tr th:only-of-type {\n",
       "        vertical-align: middle;\n",
       "    }\n",
       "\n",
       "    .dataframe tbody tr th {\n",
       "        vertical-align: top;\n",
       "    }\n",
       "\n",
       "    .dataframe thead th {\n",
       "        text-align: right;\n",
       "    }\n",
       "</style>\n",
       "<table border=\"1\" class=\"dataframe\">\n",
       "  <thead>\n",
       "    <tr style=\"text-align: right;\">\n",
       "      <th></th>\n",
       "      <th>thresholds</th>\n",
       "      <th>precision</th>\n",
       "      <th>recall</th>\n",
       "      <th>f1</th>\n",
       "    </tr>\n",
       "  </thead>\n",
       "  <tbody>\n",
       "    <tr>\n",
       "      <th>33693</th>\n",
       "      <td>0.404317</td>\n",
       "      <td>0.576218</td>\n",
       "      <td>0.699974</td>\n",
       "      <td>0.632095</td>\n",
       "    </tr>\n",
       "  </tbody>\n",
       "</table>\n",
       "</div>"
      ],
      "text/plain": [
       "       thresholds  precision    recall        f1\n",
       "33693    0.404317   0.576218  0.699974  0.632095"
      ]
     },
     "execution_count": 62,
     "metadata": {},
     "output_type": "execute_result"
    }
   ],
   "source": [
    "(pr\n",
    " .loc[\n",
    "    pr[\"recall\"] < .70\n",
    "    ]\n",
    " .head(1)\n",
    " )"
   ]
  },
  {
   "cell_type": "markdown",
   "id": "03e42792",
   "metadata": {},
   "source": [
    "We see here that if we lowered the threshold to .40, we could still get the majority of \"yes\" cases from the model being true, but we find 70% of the true cases. "
   ]
  },
  {
   "cell_type": "markdown",
   "id": "7271fd8e",
   "metadata": {},
   "source": [
    "More generally, we can plot the influence of thresholds on precision, recall, and f1"
   ]
  },
  {
   "cell_type": "code",
   "execution_count": 63,
   "id": "6b44b6ae",
   "metadata": {},
   "outputs": [
    {
     "data": {
      "image/png": "[encoded data removed]",
      "text/plain": [
       "<Figure size 1000x600 with 1 Axes>"
      ]
     },
     "metadata": {},
     "output_type": "display_data"
    }
   ],
   "source": [
    "plt.figure(figsize=(10, 6))\n",
    "plt.plot(pr[\"thresholds\"], pr[\"precision\"], label = \"Precision\")\n",
    "plt.plot(pr[\"thresholds\"], pr[\"recall\"], label = \"Recall\")\n",
    "plt.plot(pr[\"thresholds\"], pr[\"f1\"], label = \"F1\")\n",
    "plt.xlabel(\"Thresholds\")\n",
    "plt.ylabel(\"Metric Score\")\n",
    "plt.title(\"Metrics as Function of Threshold\")\n",
    "plt.legend(loc = \"lower left\")\n",
    "\n",
    "ax = plt.gca()\n",
    "ax.xaxis.set_major_locator(ticker.MultipleLocator(0.10))  # Change tick spacing (e.g., 0.05)\n",
    "ax.xaxis.set_minor_locator(ticker.MultipleLocator(.05))\n",
    "ax.xaxis.set_major_formatter(ticker.FormatStrFormatter('%.2f'))  # Format with 2 decimals\n",
    "\n",
    "ax.yaxis.set_major_locator(ticker.MultipleLocator(0.10))  # Change tick spacing (e.g., 0.05)\n",
    "ax.yaxis.set_minor_locator(ticker.MultipleLocator(.05))\n",
    "ax.yaxis.set_major_formatter(ticker.FormatStrFormatter('%.2f'))  # Format with 2 decimals\n",
    "\n",
    "plt.grid(True)\n",
    "plt.show()"
   ]
  },
  {
   "cell_type": "markdown",
   "id": "1d167d68",
   "metadata": {},
   "source": [
    "We see here that F1 score is optimized around .35. We might consider a lower threshold"
   ]
  },
  {
   "cell_type": "markdown",
   "id": "5b46a437",
   "metadata": {},
   "source": [
    "# Phase 2. ML Flow and Iteration"
   ]
  },
  {
   "cell_type": "markdown",
   "id": "6c1f7098",
   "metadata": {},
   "source": [
    "Next, we will do some logging of models and light tuning. We will then move over to Phase 3 for bayesian otpimizaiton. Things to do in this phase are \n",
    "\n",
    "* Set up mlflow and log our baseline model\n",
    "* Use Optuna to get the right early-stopping / n_estimators + learning rate combo\n",
    "* Randomized CV search over 6 remaining parameters\n",
    "    - subsample of data\n",
    "    - column sampling by tree\n",
    "    - tree depth\n",
    "    - regularization parameters x2\n",
    "    - gamma\n",
    "* Examine the randomized search to have a sense of what ranges to go inspecting in, then we can go pass our insights to optuna for bayesian optimization"
   ]
  },
  {
   "cell_type": "markdown",
   "id": "45f04829",
   "metadata": {},
   "source": [
    "#### DEPENDENCY ISSUES -- ADD MLFLOW LATER"
   ]
  },
  {
   "cell_type": "markdown",
   "id": "e5de5c25",
   "metadata": {},
   "source": [
    "## 2.1 - Learning Rate + N Trees"
   ]
  },
  {
   "cell_type": "code",
   "execution_count": null,
   "id": "77b3bff1",
   "metadata": {},
   "outputs": [
    {
     "name": "stderr",
     "output_type": "stream",
     "text": [
      "[I 2025-07-07 01:05:36,392] A new study created in memory with name: no-name-9bed28ac-e2a0-493f-a4c0-fb672f29ef52\n",
      "[I 2025-07-07 01:06:11,781] Trial 3 finished with value: 0.6877277014281901 and parameters: {'learning_rate': 0.05467814368367829}. Best is trial 3 with value: 0.6877277014281901.\n"
     ]
    },
    {
     "name": "stdout",
     "output_type": "stream",
     "text": [
      "Trial 3: lr=0.0547 | AUC=0.6877 | best_iter=106\n"
     ]
    },
    {
     "name": "stderr",
     "output_type": "stream",
     "text": [
      "[I 2025-07-07 01:06:16,711] Trial 4 finished with value: 0.6877216950405877 and parameters: {'learning_rate': 0.043702165244905125}. Best is trial 3 with value: 0.6877277014281901.\n"
     ]
    },
    {
     "name": "stdout",
     "output_type": "stream",
     "text": [
      "Trial 4: lr=0.0437 | AUC=0.6877 | best_iter=124\n"
     ]
    },
    {
     "name": "stderr",
     "output_type": "stream",
     "text": [
      "[I 2025-07-07 01:06:19,971] Trial 6 finished with value: 0.6877061171342288 and parameters: {'learning_rate': 0.03554679896830831}. Best is trial 3 with value: 0.6877277014281901.\n"
     ]
    },
    {
     "name": "stdout",
     "output_type": "stream",
     "text": [
      "Trial 6: lr=0.0355 | AUC=0.6877 | best_iter=136\n"
     ]
    },
    {
     "name": "stderr",
     "output_type": "stream",
     "text": [
      "[I 2025-07-07 01:06:30,710] Trial 9 finished with value: 0.6874867384139951 and parameters: {'learning_rate': 0.22350365635995215}. Best is trial 3 with value: 0.6877277014281901.\n"
     ]
    },
    {
     "name": "stdout",
     "output_type": "stream",
     "text": [
      "Trial 9: lr=0.2235 | AUC=0.6875 | best_iter=22\n"
     ]
    },
    {
     "name": "stderr",
     "output_type": "stream",
     "text": [
      "[I 2025-07-07 01:06:46,519] Trial 5 finished with value: 0.687729664816653 and parameters: {'learning_rate': 0.023236682180448266}. Best is trial 5 with value: 0.687729664816653.\n"
     ]
    },
    {
     "name": "stdout",
     "output_type": "stream",
     "text": [
      "Trial 5: lr=0.0232 | AUC=0.6877 | best_iter=235\n"
     ]
    },
    {
     "name": "stderr",
     "output_type": "stream",
     "text": [
      "[I 2025-07-07 01:06:52,279] Trial 0 finished with value: 0.6877777349436973 and parameters: {'learning_rate': 0.0232815120315616}. Best is trial 0 with value: 0.6877777349436973.\n"
     ]
    },
    {
     "name": "stdout",
     "output_type": "stream",
     "text": [
      "Trial 0: lr=0.0233 | AUC=0.6878 | best_iter=258\n"
     ]
    },
    {
     "name": "stderr",
     "output_type": "stream",
     "text": [
      "[I 2025-07-07 01:07:25,088] Trial 8 finished with value: 0.6877311708382572 and parameters: {'learning_rate': 0.01988920347027704}. Best is trial 0 with value: 0.6877777349436973.\n"
     ]
    },
    {
     "name": "stdout",
     "output_type": "stream",
     "text": [
      "Trial 8: lr=0.0199 | AUC=0.6877 | best_iter=244\n"
     ]
    },
    {
     "name": "stderr",
     "output_type": "stream",
     "text": [
      "[I 2025-07-07 01:07:57,493] Trial 7 finished with value: 0.6877178063161126 and parameters: {'learning_rate': 0.009827375783906609}. Best is trial 0 with value: 0.6877777349436973.\n"
     ]
    },
    {
     "name": "stdout",
     "output_type": "stream",
     "text": [
      "Trial 7: lr=0.0098 | AUC=0.6877 | best_iter=504\n"
     ]
    },
    {
     "name": "stderr",
     "output_type": "stream",
     "text": [
      "[I 2025-07-07 01:08:06,626] Trial 12 finished with value: 0.6877360387496316 and parameters: {'learning_rate': 0.01957743364432726}. Best is trial 0 with value: 0.6877777349436973.\n"
     ]
    },
    {
     "name": "stdout",
     "output_type": "stream",
     "text": [
      "Trial 12: lr=0.0196 | AUC=0.6877 | best_iter=277\n"
     ]
    },
    {
     "name": "stderr",
     "output_type": "stream",
     "text": [
      "[I 2025-07-07 01:08:17,223] Trial 15 finished with value: 0.6876894497183614 and parameters: {'learning_rate': 0.13866603148533077}. Best is trial 0 with value: 0.6877777349436973.\n"
     ]
    },
    {
     "name": "stdout",
     "output_type": "stream",
     "text": [
      "Trial 15: lr=0.1387 | AUC=0.6877 | best_iter=45\n"
     ]
    },
    {
     "name": "stderr",
     "output_type": "stream",
     "text": [
      "[I 2025-07-07 01:08:22,357] Trial 1 finished with value: 0.6921383555291392 and parameters: {'learning_rate': 0.009043948403503293}. Best is trial 1 with value: 0.6921383555291392.\n"
     ]
    },
    {
     "name": "stdout",
     "output_type": "stream",
     "text": [
      "Trial 1: lr=0.0090 | AUC=0.6921 | best_iter=608\n"
     ]
    },
    {
     "name": "stderr",
     "output_type": "stream",
     "text": [
      "[I 2025-07-07 01:08:24,323] Trial 2 finished with value: 0.6918839785836097 and parameters: {'learning_rate': 0.007944087325192252}. Best is trial 1 with value: 0.6921383555291392.\n"
     ]
    },
    {
     "name": "stdout",
     "output_type": "stream",
     "text": [
      "Trial 2: lr=0.0079 | AUC=0.6919 | best_iter=609\n"
     ]
    },
    {
     "name": "stderr",
     "output_type": "stream",
     "text": [
      "[I 2025-07-07 01:08:25,760] Trial 16 finished with value: 0.68762559298644 and parameters: {'learning_rate': 0.11023029983995146}. Best is trial 1 with value: 0.6921383555291392.\n"
     ]
    },
    {
     "name": "stdout",
     "output_type": "stream",
     "text": [
      "Trial 16: lr=0.1102 | AUC=0.6876 | best_iter=41\n"
     ]
    },
    {
     "name": "stderr",
     "output_type": "stream",
     "text": [
      "[I 2025-07-07 01:08:30,939] Trial 11 finished with value: 0.6876628497279265 and parameters: {'learning_rate': 0.009855731044317776}. Best is trial 1 with value: 0.6921383555291392.\n"
     ]
    },
    {
     "name": "stdout",
     "output_type": "stream",
     "text": [
      "Trial 11: lr=0.0099 | AUC=0.6877 | best_iter=421\n"
     ]
    },
    {
     "name": "stderr",
     "output_type": "stream",
     "text": [
      "[I 2025-07-07 01:09:02,279] Trial 10 finished with value: 0.687779770159848 and parameters: {'learning_rate': 0.009904283711494483}. Best is trial 1 with value: 0.6921383555291392.\n"
     ]
    },
    {
     "name": "stdout",
     "output_type": "stream",
     "text": [
      "Trial 10: lr=0.0099 | AUC=0.6878 | best_iter=587\n"
     ]
    },
    {
     "name": "stderr",
     "output_type": "stream",
     "text": [
      "[I 2025-07-07 01:09:37,777] Trial 14 finished with value: 0.6877731033114931 and parameters: {'learning_rate': 0.012169534553968473}. Best is trial 1 with value: 0.6921383555291392.\n"
     ]
    },
    {
     "name": "stdout",
     "output_type": "stream",
     "text": [
      "Trial 14: lr=0.0122 | AUC=0.6878 | best_iter=475\n"
     ]
    },
    {
     "name": "stderr",
     "output_type": "stream",
     "text": [
      "[I 2025-07-07 01:09:41,067] Trial 13 finished with value: 0.6913072877939805 and parameters: {'learning_rate': 0.005801418467181044}. Best is trial 1 with value: 0.6921383555291392.\n"
     ]
    },
    {
     "name": "stdout",
     "output_type": "stream",
     "text": [
      "Trial 13: lr=0.0058 | AUC=0.6913 | best_iter=609\n"
     ]
    },
    {
     "name": "stderr",
     "output_type": "stream",
     "text": [
      "[I 2025-07-07 01:11:04,592] Trial 17 finished with value: 0.6909223673442069 and parameters: {'learning_rate': 0.005271276111027566}. Best is trial 1 with value: 0.6921383555291392.\n"
     ]
    },
    {
     "name": "stdout",
     "output_type": "stream",
     "text": [
      "Trial 17: lr=0.0053 | AUC=0.6909 | best_iter=608\n"
     ]
    },
    {
     "name": "stderr",
     "output_type": "stream",
     "text": [
      "[I 2025-07-07 01:11:10,719] Trial 18 finished with value: 0.6910362468248566 and parameters: {'learning_rate': 0.005310881463142643}. Best is trial 1 with value: 0.6921383555291392.\n"
     ]
    },
    {
     "name": "stdout",
     "output_type": "stream",
     "text": [
      "Trial 18: lr=0.0053 | AUC=0.6910 | best_iter=609\n"
     ]
    },
    {
     "name": "stderr",
     "output_type": "stream",
     "text": [
      "[I 2025-07-07 01:11:13,723] Trial 19 finished with value: 0.6910212582890127 and parameters: {'learning_rate': 0.005235564117343364}. Best is trial 1 with value: 0.6921383555291392.\n"
     ]
    },
    {
     "name": "stdout",
     "output_type": "stream",
     "text": [
      "Trial 19: lr=0.0052 | AUC=0.6910 | best_iter=609\n"
     ]
    },
    {
     "name": "stderr",
     "output_type": "stream",
     "text": [
      "[I 2025-07-07 01:11:14,166] Trial 20 finished with value: 0.6911234294140634 and parameters: {'learning_rate': 0.005642756041432967}. Best is trial 1 with value: 0.6921383555291392.\n"
     ]
    },
    {
     "name": "stdout",
     "output_type": "stream",
     "text": [
      "Trial 20: lr=0.0056 | AUC=0.6911 | best_iter=608\n"
     ]
    },
    {
     "name": "stderr",
     "output_type": "stream",
     "text": [
      "[I 2025-07-07 01:11:19,456] Trial 21 finished with value: 0.6909576856230605 and parameters: {'learning_rate': 0.0050454948111691815}. Best is trial 1 with value: 0.6921383555291392.\n"
     ]
    },
    {
     "name": "stdout",
     "output_type": "stream",
     "text": [
      "Trial 21: lr=0.0050 | AUC=0.6910 | best_iter=609\n"
     ]
    },
    {
     "name": "stderr",
     "output_type": "stream",
     "text": [
      "[I 2025-07-07 01:11:37,810] Trial 27 finished with value: 0.687759440121858 and parameters: {'learning_rate': 0.0784344320281533}. Best is trial 1 with value: 0.6921383555291392.\n"
     ]
    },
    {
     "name": "stdout",
     "output_type": "stream",
     "text": [
      "Trial 27: lr=0.0784 | AUC=0.6878 | best_iter=60\n"
     ]
    },
    {
     "name": "stderr",
     "output_type": "stream",
     "text": [
      "[I 2025-07-07 01:11:51,673] Trial 22 finished with value: 0.6915225615692246 and parameters: {'learning_rate': 0.006784161235183427}. Best is trial 1 with value: 0.6921383555291392.\n"
     ]
    },
    {
     "name": "stdout",
     "output_type": "stream",
     "text": [
      "Trial 22: lr=0.0068 | AUC=0.6915 | best_iter=609\n"
     ]
    },
    {
     "name": "stderr",
     "output_type": "stream",
     "text": [
      "[I 2025-07-07 01:12:32,203] Trial 23 finished with value: 0.6906157523483631 and parameters: {'learning_rate': 0.005190859144050498}. Best is trial 1 with value: 0.6921383555291392.\n"
     ]
    },
    {
     "name": "stdout",
     "output_type": "stream",
     "text": [
      "Trial 23: lr=0.0052 | AUC=0.6906 | best_iter=606\n"
     ]
    },
    {
     "name": "stderr",
     "output_type": "stream",
     "text": [
      "[I 2025-07-07 01:12:35,823] Trial 24 finished with value: 0.6910641395661838 and parameters: {'learning_rate': 0.0053487259803298645}. Best is trial 1 with value: 0.6921383555291392.\n"
     ]
    },
    {
     "name": "stdout",
     "output_type": "stream",
     "text": [
      "Trial 24: lr=0.0053 | AUC=0.6911 | best_iter=608\n"
     ]
    },
    {
     "name": "stderr",
     "output_type": "stream",
     "text": [
      "[I 2025-07-07 01:13:14,783] Trial 28 finished with value: 0.6877519561782444 and parameters: {'learning_rate': 0.013842195853024137}. Best is trial 1 with value: 0.6921383555291392.\n"
     ]
    },
    {
     "name": "stdout",
     "output_type": "stream",
     "text": [
      "Trial 28: lr=0.0138 | AUC=0.6878 | best_iter=384\n"
     ]
    },
    {
     "name": "stderr",
     "output_type": "stream",
     "text": [
      "[I 2025-07-07 01:13:31,916] Trial 29 finished with value: 0.6877537875630508 and parameters: {'learning_rate': 0.013486532550284232}. Best is trial 1 with value: 0.6921383555291392.\n"
     ]
    },
    {
     "name": "stdout",
     "output_type": "stream",
     "text": [
      "Trial 29: lr=0.0135 | AUC=0.6878 | best_iter=428\n"
     ]
    },
    {
     "name": "stderr",
     "output_type": "stream",
     "text": [
      "[I 2025-07-07 01:14:02,154] Trial 26 finished with value: 0.6878047035119393 and parameters: {'learning_rate': 0.012480012127593046}. Best is trial 1 with value: 0.6921383555291392.\n"
     ]
    },
    {
     "name": "stdout",
     "output_type": "stream",
     "text": [
      "Trial 26: lr=0.0125 | AUC=0.6878 | best_iter=563\n"
     ]
    },
    {
     "name": "stderr",
     "output_type": "stream",
     "text": [
      "[I 2025-07-07 01:14:07,713] Trial 30 finished with value: 0.6877110065791606 and parameters: {'learning_rate': 0.01302432262196519}. Best is trial 1 with value: 0.6921383555291392.\n"
     ]
    },
    {
     "name": "stdout",
     "output_type": "stream",
     "text": [
      "Trial 30: lr=0.0130 | AUC=0.6877 | best_iter=476\n"
     ]
    },
    {
     "name": "stderr",
     "output_type": "stream",
     "text": [
      "[I 2025-07-07 01:14:09,178] Trial 25 finished with value: 0.6916380481022102 and parameters: {'learning_rate': 0.0070531149129475605}. Best is trial 1 with value: 0.6921383555291392.\n"
     ]
    },
    {
     "name": "stdout",
     "output_type": "stream",
     "text": [
      "Trial 25: lr=0.0071 | AUC=0.6916 | best_iter=609\n"
     ]
    },
    {
     "name": "stderr",
     "output_type": "stream",
     "text": [
      "[I 2025-07-07 01:14:12,015] Trial 31 finished with value: 0.6877558177645375 and parameters: {'learning_rate': 0.013017567510888546}. Best is trial 1 with value: 0.6921383555291392.\n"
     ]
    },
    {
     "name": "stdout",
     "output_type": "stream",
     "text": [
      "Trial 31: lr=0.0130 | AUC=0.6878 | best_iter=440\n"
     ]
    },
    {
     "name": "stderr",
     "output_type": "stream",
     "text": [
      "[I 2025-07-07 01:14:42,947] Trial 32 finished with value: 0.6877645963764148 and parameters: {'learning_rate': 0.013972825650375132}. Best is trial 1 with value: 0.6921383555291392.\n"
     ]
    },
    {
     "name": "stdout",
     "output_type": "stream",
     "text": [
      "Trial 32: lr=0.0140 | AUC=0.6878 | best_iter=419\n"
     ]
    },
    {
     "name": "stderr",
     "output_type": "stream",
     "text": [
      "[I 2025-07-07 01:14:58,465] Trial 33 finished with value: 0.6877707412572389 and parameters: {'learning_rate': 0.013128752619029455}. Best is trial 1 with value: 0.6921383555291392.\n"
     ]
    },
    {
     "name": "stdout",
     "output_type": "stream",
     "text": [
      "Trial 33: lr=0.0131 | AUC=0.6878 | best_iter=464\n"
     ]
    },
    {
     "name": "stderr",
     "output_type": "stream",
     "text": [
      "[I 2025-07-07 01:16:12,164] Trial 34 finished with value: 0.6913737708824492 and parameters: {'learning_rate': 0.007300800075593444}. Best is trial 1 with value: 0.6921383555291392.\n"
     ]
    },
    {
     "name": "stdout",
     "output_type": "stream",
     "text": [
      "Trial 34: lr=0.0073 | AUC=0.6914 | best_iter=606\n"
     ]
    },
    {
     "name": "stderr",
     "output_type": "stream",
     "text": [
      "[I 2025-07-07 01:16:28,511] Trial 35 finished with value: 0.6918111609420241 and parameters: {'learning_rate': 0.007942252741707784}. Best is trial 1 with value: 0.6921383555291392.\n"
     ]
    },
    {
     "name": "stdout",
     "output_type": "stream",
     "text": [
      "Trial 35: lr=0.0079 | AUC=0.6918 | best_iter=609\n"
     ]
    },
    {
     "name": "stderr",
     "output_type": "stream",
     "text": [
      "[I 2025-07-07 01:16:55,743] Trial 36 finished with value: 0.6915328040205322 and parameters: {'learning_rate': 0.007804684751501389}. Best is trial 1 with value: 0.6921383555291392.\n"
     ]
    },
    {
     "name": "stdout",
     "output_type": "stream",
     "text": [
      "Trial 36: lr=0.0078 | AUC=0.6915 | best_iter=606\n"
     ]
    },
    {
     "name": "stderr",
     "output_type": "stream",
     "text": [
      "[I 2025-07-07 01:16:57,903] Trial 38 finished with value: 0.6918183074282456 and parameters: {'learning_rate': 0.007617687228625407}. Best is trial 1 with value: 0.6921383555291392.\n"
     ]
    },
    {
     "name": "stdout",
     "output_type": "stream",
     "text": [
      "Trial 38: lr=0.0076 | AUC=0.6918 | best_iter=609\n"
     ]
    },
    {
     "name": "stderr",
     "output_type": "stream",
     "text": [
      "[I 2025-07-07 01:17:01,156] Trial 37 finished with value: 0.6918759769496788 and parameters: {'learning_rate': 0.007932962263114263}. Best is trial 1 with value: 0.6921383555291392.\n"
     ]
    },
    {
     "name": "stdout",
     "output_type": "stream",
     "text": [
      "Trial 37: lr=0.0079 | AUC=0.6919 | best_iter=609\n"
     ]
    },
    {
     "name": "stderr",
     "output_type": "stream",
     "text": [
      "[I 2025-07-07 01:17:03,409] Trial 39 finished with value: 0.6915682982550977 and parameters: {'learning_rate': 0.0074573465855504095}. Best is trial 1 with value: 0.6921383555291392.\n"
     ]
    },
    {
     "name": "stdout",
     "output_type": "stream",
     "text": [
      "Trial 39: lr=0.0075 | AUC=0.6916 | best_iter=607\n"
     ]
    },
    {
     "name": "stderr",
     "output_type": "stream",
     "text": [
      "[I 2025-07-07 01:17:33,988] Trial 40 finished with value: 0.6919053624384996 and parameters: {'learning_rate': 0.007965536741265893}. Best is trial 1 with value: 0.6921383555291392.\n"
     ]
    },
    {
     "name": "stdout",
     "output_type": "stream",
     "text": [
      "Trial 40: lr=0.0080 | AUC=0.6919 | best_iter=609\n"
     ]
    },
    {
     "name": "stderr",
     "output_type": "stream",
     "text": [
      "[I 2025-07-07 01:17:35,303] Trial 44 finished with value: 0.6877012766560164 and parameters: {'learning_rate': 0.041812677051905306}. Best is trial 1 with value: 0.6921383555291392.\n"
     ]
    },
    {
     "name": "stdout",
     "output_type": "stream",
     "text": [
      "Trial 44: lr=0.0418 | AUC=0.6877 | best_iter=119\n"
     ]
    },
    {
     "name": "stderr",
     "output_type": "stream",
     "text": [
      "[I 2025-07-07 01:17:45,824] Trial 46 finished with value: 0.6877183421477147 and parameters: {'learning_rate': 0.036242438873552996}. Best is trial 1 with value: 0.6921383555291392.\n"
     ]
    },
    {
     "name": "stdout",
     "output_type": "stream",
     "text": [
      "Trial 46: lr=0.0362 | AUC=0.6877 | best_iter=134\n"
     ]
    },
    {
     "name": "stderr",
     "output_type": "stream",
     "text": [
      "[I 2025-07-07 01:17:51,541] Trial 41 finished with value: 0.6915977173716654 and parameters: {'learning_rate': 0.007050371413887469}. Best is trial 1 with value: 0.6921383555291392.\n"
     ]
    },
    {
     "name": "stdout",
     "output_type": "stream",
     "text": [
      "Trial 41: lr=0.0071 | AUC=0.6916 | best_iter=609\n"
     ]
    },
    {
     "name": "stderr",
     "output_type": "stream",
     "text": [
      "[I 2025-07-07 01:17:53,794] Trial 45 finished with value: 0.6877665879354905 and parameters: {'learning_rate': 0.03462571594444628}. Best is trial 1 with value: 0.6921383555291392.\n"
     ]
    },
    {
     "name": "stdout",
     "output_type": "stream",
     "text": [
      "Trial 45: lr=0.0346 | AUC=0.6878 | best_iter=181\n"
     ]
    },
    {
     "name": "stderr",
     "output_type": "stream",
     "text": [
      "[I 2025-07-07 01:17:58,437] Trial 47 finished with value: 0.6877258111948261 and parameters: {'learning_rate': 0.03451338472304426}. Best is trial 1 with value: 0.6921383555291392.\n"
     ]
    },
    {
     "name": "stdout",
     "output_type": "stream",
     "text": [
      "Trial 47: lr=0.0345 | AUC=0.6877 | best_iter=176\n"
     ]
    },
    {
     "name": "stderr",
     "output_type": "stream",
     "text": [
      "[I 2025-07-07 01:18:25,054] Trial 48 finished with value: 0.6877344399567427 and parameters: {'learning_rate': 0.03347609107111372}. Best is trial 1 with value: 0.6921383555291392.\n"
     ]
    },
    {
     "name": "stdout",
     "output_type": "stream",
     "text": [
      "Trial 48: lr=0.0335 | AUC=0.6877 | best_iter=167\n"
     ]
    },
    {
     "name": "stderr",
     "output_type": "stream",
     "text": [
      "[I 2025-07-07 01:18:33,743] Trial 49 finished with value: 0.6877416957331424 and parameters: {'learning_rate': 0.031051594938850013}. Best is trial 1 with value: 0.6921383555291392.\n"
     ]
    },
    {
     "name": "stdout",
     "output_type": "stream",
     "text": [
      "Trial 49: lr=0.0311 | AUC=0.6877 | best_iter=197\n"
     ]
    },
    {
     "name": "stderr",
     "output_type": "stream",
     "text": [
      "[I 2025-07-07 01:18:59,628] Trial 42 finished with value: 0.6914734913116841 and parameters: {'learning_rate': 0.007414975920612037}. Best is trial 1 with value: 0.6921383555291392.\n"
     ]
    },
    {
     "name": "stdout",
     "output_type": "stream",
     "text": [
      "Trial 42: lr=0.0074 | AUC=0.6915 | best_iter=606\n"
     ]
    },
    {
     "name": "stderr",
     "output_type": "stream",
     "text": [
      "[I 2025-07-07 01:19:14,099] Trial 43 finished with value: 0.6918299352542399 and parameters: {'learning_rate': 0.00798071171116758}. Best is trial 1 with value: 0.6921383555291392.\n"
     ]
    },
    {
     "name": "stdout",
     "output_type": "stream",
     "text": [
      "Trial 43: lr=0.0080 | AUC=0.6918 | best_iter=608\n",
      "✅ Best params: {'learning_rate': 0.009043948403503293}\n",
      "📈 Best AUC: 0.6921383555291392\n",
      "🌲 Estimated best n_estimators: 608\n"
     ]
    }
   ],
   "source": [
    "# 🧼 Ensure clean indexing\n",
    "X_train = pd.DataFrame(X_train).reset_index(drop=True)\n",
    "y_train = pd.Series(y_train).reset_index(drop=True)\n",
    "\n",
    "def objective(trial):\n",
    "    params = {\n",
    "        \"objective\": \"binary:logistic\",\n",
    "        \"random_state\": 9572,\n",
    "        \"learning_rate\": trial.suggest_float(\"learning_rate\", 0.005, 0.3, log=True),\n",
    "        \"n_estimators\": 3000,\n",
    "        \"tree_method\": \"hist\",\n",
    "        \"n_jobs\": 1,  # XGB uses 1 core per trial\n",
    "        \"eval_metric\": \"auc\",\n",
    "        \"callbacks\": [EarlyStopping(rounds=50)]  # ✅ moved here\n",
    "    }\n",
    "\n",
    "    cv = StratifiedKFold(n_splits=5, shuffle=True, random_state=42)\n",
    "    aucs = []\n",
    "    best_iters = []\n",
    "\n",
    "    for train_idx, val_idx in cv.split(X_train, y_train):\n",
    "        X_tr, X_val = X_train.iloc[train_idx], X_train.iloc[val_idx]\n",
    "        y_tr, y_val = y_train.iloc[train_idx], y_train.iloc[val_idx]\n",
    "\n",
    "        model = XGBClassifier(**params)\n",
    "        model.fit(X_tr, y_tr, eval_set=[(X_val, y_val)], verbose=False)\n",
    "\n",
    "        preds = model.predict_proba(X_val)[:, 1]\n",
    "        aucs.append(roc_auc_score(y_val, preds))\n",
    "        best_iters.append(model.best_iteration)\n",
    "\n",
    "    mean_auc = np.mean(aucs)\n",
    "    mean_iter = int(np.mean(best_iters))\n",
    "    trial.set_user_attr(\"mean_best_iter\", mean_iter)\n",
    "\n",
    "    print(f\"Trial {trial.number}: lr={params['learning_rate']:.4f} | AUC={mean_auc:.4f} | best_iter={mean_iter}\")\n",
    "    return mean_auc\n",
    "\n",
    "# 🚀 Run Optuna\n",
    "study = optuna.create_study(direction=\"maximize\")\n",
    "study.optimize(objective, n_trials=50, n_jobs=8)\n",
    "\n",
    "# 📊 Final results\n",
    "print(\"✅ Best params:\", study.best_params)\n",
    "print(\"📈 Best AUC:\", study.best_value)\n",
    "print(\"🌲 Estimated best n_estimators:\", study.best_trial.user_attrs[\"mean_best_iter\"])\n"
   ]
  },
  {
   "cell_type": "code",
   "execution_count": 3,
   "id": "18e14cf1",
   "metadata": {},
   "outputs": [],
   "source": [
    "tuned_params = {\n",
    "    \"learning_rate\": 0.009043948403503293,\n",
    "    \"n_estimators\": 608\n",
    "}"
   ]
  },
  {
   "cell_type": "markdown",
   "id": "234edd9c",
   "metadata": {},
   "source": [
    "Next, we want to do an initial tuning on the following:\n",
    "- `max_depth` to get the max depth of a tree\n",
    "    - 3-10 is typical, often 6-8 is good\n",
    "    - More depth means 'overfit', whereas less depth means 'underfit'\n",
    "- `colsample_bytree` to specify the proportion of columns available for each tree (randomly)\n",
    "    - .5 to 1.0 is common\n",
    "    - Larger numbers can mean 'overfit' .... smaller values reduce \"memorize the data\" and force the model to use other columns\n",
    "- `subsample` to specify the proprtion of the dataset (sampled randomly) available for each tree\n",
    "    - .5 to 1.0 is common\n",
    "    - Larger numbers can mean 'overfit' .... smaller values reduce \"memorize the data\" and force the model to use other columns\n",
    "- `reg_alpha` and `reg_lambda` (L1 and L2 regularization)\n",
    "    - 1e8 to 10 (log scale)\n",
    "    - alpha can push some weights to zero (i.e., ridge)\n",
    "    - lambda can push back on influence of all predictors, reducing overfitting\n",
    "- `gamma` is how much loss reduction required to make a split\n",
    "    - 0 to 5\n",
    "    - Higher values here make the model more conservative and won't actually encode a pattern in the data without stronger evidence\n",
    "    - Higher values thus reduce overfitting\n",
    "- `min_child_weight` controls leaf growth (more values = more complex)\n",
    "    - 1 - 10\n",
    "\n",
    "All of these parameters allow the model to be either more complex (memorize the data -- high variance) or simpler and more conservative (bias)\n",
    "\n",
    "\n"
   ]
  },
  {
   "cell_type": "markdown",
   "id": "102dc608",
   "metadata": {},
   "source": [
    "We can do it ALL AT ONCE or batches\n",
    "\n",
    "Typical Stages:\n",
    "Stage 1 – Tune learning_rate + n_estimators (with early stopping)\n",
    "Stage 2 – Fix those, tune max_depth, subsample, colsample_bytree\n",
    "Stage 3 – Fix all above, tune reg_alpha, reg_lambda, gamma, min_child_weight"
   ]
  },
  {
   "cell_type": "markdown",
   "id": "c8d76825",
   "metadata": {},
   "source": [
    "Actually, lets try it all at once"
   ]
  },
  {
   "cell_type": "code",
   "execution_count": null,
   "id": "d563f5ea",
   "metadata": {},
   "outputs": [],
   "source": [
    "# 🧼 Ensure clean inputs\n",
    "X_train = pd.DataFrame(X_train).reset_index(drop=True)\n",
    "y_train = pd.Series(y_train).reset_index(drop=True)\n",
    "\n",
    "# 🎯 Optuna objective function\n",
    "def objective(trial):\n",
    "    params = {\n",
    "        \"objective\": \"binary:logistic\",\n",
    "        \"random_state\": 9572,\n",
    "        \"learning_rate\": trial.suggest_float(\"learning_rate\", 0.005, 0.3, log=True),\n",
    "        \"n_estimators\": 3000,\n",
    "        \"max_depth\": trial.suggest_int(\"max_depth\", 3, 10),\n",
    "        \"subsample\": trial.suggest_float(\"subsample\", 0.5, 1.0),\n",
    "        \"colsample_bytree\": trial.suggest_float(\"colsample_bytree\", 0.5, 1.0),\n",
    "        \"reg_alpha\": trial.suggest_float(\"reg_alpha\", 1e-8, 10.0, log=True),\n",
    "        \"reg_lambda\": trial.suggest_float(\"reg_lambda\", 1e-8, 10.0, log=True),\n",
    "        \"gamma\": trial.suggest_float(\"gamma\", 0, 5.0),\n",
    "        \"min_child_weight\": trial.suggest_int(\"min_child_weight\", 1, 10),\n",
    "        \"tree_method\": \"hist\",\n",
    "        \"n_jobs\": 9,\n",
    "        \"eval_metric\": \"auc\",\n",
    "        \"callbacks\": [EarlyStopping(rounds=50)]\n",
    "    }\n",
    "\n",
    "    cv = StratifiedKFold(n_splits=5, shuffle=True, random_state=42)\n",
    "    aucs = []\n",
    "    best_iters = []\n",
    "\n",
    "    for train_idx, val_idx in cv.split(X_train, y_train):\n",
    "        X_tr, X_val = X_train.iloc[train_idx], X_train.iloc[val_idx]\n",
    "        y_tr, y_val = y_train.iloc[train_idx], y_train.iloc[val_idx]\n",
    "\n",
    "        model = XGBClassifier(**params)\n",
    "        model.fit(X_tr, y_tr, eval_set=[(X_val, y_val)], verbose=False)\n",
    "\n",
    "        preds = model.predict_proba(X_val)[:, 1]\n",
    "        aucs.append(roc_auc_score(y_val, preds))\n",
    "        best_iters.append(model.best_iteration)\n",
    "\n",
    "    mean_auc = np.mean(aucs)\n",
    "    mean_iter = int(np.mean(best_iters))\n",
    "    trial.set_user_attr(\"mean_best_iter\", mean_iter)\n",
    "\n",
    "    print(f\"Trial {trial.number}: lr={params['learning_rate']:.4f} | AUC={mean_auc:.4f} | best_iter={mean_iter}\")\n",
    "    return mean_auc\n",
    "\n",
    "# 🚀 Run Optuna study\n",
    "study = optuna.create_study(direction=\"maximize\")\n",
    "study.optimize(objective, n_trials=200, n_jobs=8)\n",
    "\n",
    "# 📊 Show best results\n",
    "print(\"✅ Best params:\", study.best_params)\n",
    "print(\"📈 Best AUC:\", study.best_value)\n",
    "print(\"🌲 Estimated best n_estimators:\", study.best_trial.user_attrs[\"mean_best_iter\"])\n"
   ]
  },
  {
   "cell_type": "markdown",
   "id": "d18038a4",
   "metadata": {},
   "source": [
    "SAME CODE but with time tracking"
   ]
  },
  {
   "cell_type": "code",
   "execution_count": null,
   "id": "471e2e6d",
   "metadata": {},
   "outputs": [
    {
     "name": "stderr",
     "output_type": "stream",
     "text": [
      "[I 2025-07-07 23:33:35,373] A new study created in memory with name: no-name-93c664cb-0fa0-40b0-8f28-5554163431da\n"
     ]
    }
   ],
   "source": [
    "from functools import partial\n",
    "import time\n",
    "\n",
    "# 🧼 Ensure clean inputs\n",
    "X_train = pd.DataFrame(X_train).reset_index(drop=True)\n",
    "y_train = pd.Series(y_train).reset_index(drop=True)\n",
    "\n",
    "# 🎯 Objective function with ETA\n",
    "def objective(trial, total_trials):\n",
    "    trial_start = time.time()\n",
    "\n",
    "    params = {\n",
    "        \"objective\": \"binary:logistic\",\n",
    "        \"random_state\": 9572,\n",
    "        \"learning_rate\": trial.suggest_float(\"learning_rate\", 0.005, 0.3, log=True),\n",
    "        \"n_estimators\": 3000,\n",
    "        \"max_depth\": trial.suggest_int(\"max_depth\", 3, 10),\n",
    "        \"subsample\": trial.suggest_float(\"subsample\", 0.5, 1.0),\n",
    "        \"colsample_bytree\": trial.suggest_float(\"colsample_bytree\", 0.5, 1.0),\n",
    "        \"reg_alpha\": trial.suggest_float(\"reg_alpha\", 1e-8, 10.0, log=True),\n",
    "        \"reg_lambda\": trial.suggest_float(\"reg_lambda\", 1e-8, 10.0, log=True),\n",
    "        \"gamma\": trial.suggest_float(\"gamma\", 0, 5.0),\n",
    "        \"min_child_weight\": trial.suggest_int(\"min_child_weight\", 1, 10),\n",
    "        \"tree_method\": \"hist\",\n",
    "        \"n_jobs\": 9,\n",
    "        \"eval_metric\": \"auc\",\n",
    "        \"callbacks\": [EarlyStopping(rounds=50)]\n",
    "    }\n",
    "\n",
    "    cv = StratifiedKFold(n_splits=5, shuffle=True, random_state=42)\n",
    "    aucs = []\n",
    "    best_iters = []\n",
    "\n",
    "    for train_idx, val_idx in cv.split(X_train, y_train):\n",
    "        X_tr, X_val = X_train.iloc[train_idx], X_train.iloc[val_idx]\n",
    "        y_tr, y_val = y_train.iloc[train_idx], y_train.iloc[val_idx]\n",
    "\n",
    "        model = XGBClassifier(**params)\n",
    "        model.fit(X_tr, y_tr, eval_set=[(X_val, y_val)], verbose=False)\n",
    "\n",
    "        preds = model.predict_proba(X_val)[:, 1]\n",
    "        aucs.append(roc_auc_score(y_val, preds))\n",
    "        best_iters.append(model.best_iteration)\n",
    "\n",
    "    mean_auc = np.mean(aucs)\n",
    "    mean_iter = int(np.mean(best_iters))\n",
    "    trial.set_user_attr(\"mean_best_iter\", mean_iter)\n",
    "\n",
    "    elapsed = time.time() - trial_start\n",
    "    completed = len([t for t in trial.study.trials if t.value is not None])\n",
    "    avg_time = np.mean([t.duration.total_seconds() for t in trial.study.trials if t.value is not None])\n",
    "    remaining = total_trials - completed\n",
    "    eta = remaining * avg_time / 60\n",
    "\n",
    "    print(f\"Trial {trial.number}: AUC={mean_auc:.4f} | ETA ~ {eta:.1f} min | best_iter={mean_iter}\")\n",
    "    return mean_auc\n",
    "\n",
    "# 🚀 Launch Optuna study\n",
    "n_trials = 100\n",
    "study = optuna.create_study(direction=\"maximize\")\n",
    "study.optimize(partial(objective, total_trials=n_trials), n_trials=n_trials, n_jobs=8)\n",
    "\n",
    "# 📊 Final output\n",
    "print(\"✅ Best params:\", study.best_params)\n",
    "print(\"📈 Best AUC:\", study.best_value)\n",
    "print(\"🌲 Estimated best n_estimators:\", study.best_trial.user_attrs[\"mean_best_iter\"])\n"
   ]
  },
  {
   "cell_type": "markdown",
   "id": "4eea2b4e",
   "metadata": {},
   "source": [
    " Common Strategy at Amazon/Microsoft:\n",
    "Stage 1 (Broad search): 50–100 trials over wide ranges (as you have now)\n",
    "Stage 2 (Focused search): Take top 5–10 trials, extract value ranges, and re-run 100+ trials in tighter bounds\n",
    "Stage 3 (Final tuning): Fix most hyperparameters and sweep 1–2 (e.g., learning_rate) to maximize AUC/stability\n",
    "\n",
    "\n",
    "✅ My Suggestion:\n",
    "Run 50 now.\n",
    "Plot the optimization history:\n",
    "optuna.visualization.plot_optimization_history(study)\n",
    "If it hasn’t plateaued or you're seeing strong upward trends after 50:\n",
    "🔁 Extend to 100 or 150."
   ]
  }
 ],
 "metadata": {
  "kernelspec": {
   "display_name": "xgbok",
   "language": "python",
   "name": "python3"
  },
  "language_info": {
   "codemirror_mode": {
    "name": "ipython",
    "version": 3
   },
   "file_extension": ".py",
   "mimetype": "text/x-python",
   "name": "python",
   "nbconvert_exporter": "python",
   "pygments_lexer": "ipython3",
   "version": "3.10.18"
  }
 },
 "nbformat": 4,
 "nbformat_minor": 5
}
